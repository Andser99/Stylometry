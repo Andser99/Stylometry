{
 "cells": [
  {
   "cell_type": "markdown",
   "id": "e9c6f5e5",
   "metadata": {},
   "source": [
    "# Stylometry - model training\n",
    "\n",
    "### Used classifiers\n",
    " - Decision Tree\n",
    " - kNN (NYI)\n",
    " - SVM (NYI)\n",
    " \n",
    " \n",
    " - ? Logistic Regression (NYI)"
   ]
  },
  {
   "cell_type": "markdown",
   "id": "255418f1",
   "metadata": {},
   "source": [
    "## Imports"
   ]
  },
  {
   "cell_type": "code",
   "execution_count": 77,
   "id": "d9f23b68",
   "metadata": {},
   "outputs": [],
   "source": [
    "import matplotlib\n",
    "import matplotlib.pylab as pylab\n",
    "import matplotlib.pyplot as plt\n",
    "import seaborn as sns\n",
    "import pandas as pd\n",
    "import numpy as np\n",
    "import scipy\n",
    "import scipy.stats as stats\n",
    "import seaborn as sns\n",
    "import statsmodels.api as sm\n",
    "import statsmodels.stats.api as sms\n",
    "from numpy import mean\n",
    "from numpy import average\n",
    "from numpy import absolute\n",
    "from numpy import sqrt\n",
    "from numpy import std\n",
    "from sklearn import preprocessing\n",
    "from dateutil import parser\n",
    "import statistics\n",
    "from sklearn.model_selection import KFold\n",
    "from sklearn.model_selection import cross_validate\n",
    "from sklearn.preprocessing import StandardScaler, MinMaxScaler\n",
    "from sklearn.feature_selection import SelectKBest, mutual_info_regression, chi2, f_regression\n",
    "from sklearn.neural_network import MLPRegressor\n",
    "from sklearn.model_selection import train_test_split, GridSearchCV, StratifiedShuffleSplit\n",
    "from sklearn.impute import KNNImputer\n",
    "from sklearn import tree, svm\n",
    "from sklearn.ensemble import RandomForestClassifier, AdaBoostClassifier\n",
    "from sklearn import metrics\n",
    "from skmultilearn.model_selection import IterativeStratification\n",
    "from sklearn.linear_model import LogisticRegression\n",
    "import gc\n",
    "import warnings\n",
    "warnings.filterwarnings('ignore')"
   ]
  },
  {
   "cell_type": "markdown",
   "id": "498e6734",
   "metadata": {},
   "source": [
    "## Helper functions"
   ]
  },
  {
   "cell_type": "code",
   "execution_count": 169,
   "id": "d34e2f58",
   "metadata": {},
   "outputs": [],
   "source": [
    "def scale(df_to_scale, ignored_cols):\n",
    "    cols_to_scale = df_to_scale.drop(ignored_cols , axis=1).columns\n",
    "    min_max_scaler = MinMaxScaler()\n",
    "    df_to_scale[cols_to_scale] = min_max_scaler.fit_transform(df_to_scale[cols_to_scale])\n",
    "    df.info()\n",
    "    return df_to_scale"
   ]
  },
  {
   "cell_type": "code",
   "execution_count": 170,
   "id": "d0fc4d83",
   "metadata": {},
   "outputs": [],
   "source": [
    "def evaluate(real, predicted):\n",
    "    print(\"Evaluation: \")\n",
    "    countGood = 0\n",
    "    total = len(real)\n",
    "    falsePos = 0\n",
    "    falseNeg = 0\n",
    "    truePos = 0\n",
    "    trueNeg = 0\n",
    "    if total != len(predicted):\n",
    "        print(\"Non-matching sample lengths\")\n",
    "        return None\n",
    "    for i in range(0, total):\n",
    "        countGood += 1 if real[i] == predicted[i] else 0\n",
    "\n",
    "    # accuracy = str(countGood / total)\n",
    "    # precision = str(truePos / (truePos + falsePos))\n",
    "    # recall = str(truePos / (truePos + falseNeg))\n",
    "    \n",
    "    print(\"accuracy \" + str(countGood / total))\n",
    "    return countGood / total"
   ]
  },
  {
   "cell_type": "markdown",
   "id": "d8159def",
   "metadata": {},
   "source": [
    "## Data import\n",
    "\\+calculate positional error occurence per token"
   ]
  },
  {
   "cell_type": "code",
   "execution_count": 255,
   "id": "6fb8b325",
   "metadata": {
    "scrolled": true
   },
   "outputs": [
    {
     "name": "stdout",
     "output_type": "stream",
     "text": [
      "<class 'pandas.core.frame.DataFrame'>\n",
      "RangeIndex: 137400 entries, 0 to 137399\n",
      "Columns: 2304 entries, Author to Downerror_pertokens\n",
      "dtypes: float64(2267), int64(36), object(1)\n",
      "memory usage: 2.4+ GB\n"
     ]
    },
    {
     "data": {
      "text/html": [
       "<div>\n",
       "<style scoped>\n",
       "    .dataframe tbody tr th:only-of-type {\n",
       "        vertical-align: middle;\n",
       "    }\n",
       "\n",
       "    .dataframe tbody tr th {\n",
       "        vertical-align: top;\n",
       "    }\n",
       "\n",
       "    .dataframe thead th {\n",
       "        text-align: right;\n",
       "    }\n",
       "</style>\n",
       "<table border=\"1\" class=\"dataframe\">\n",
       "  <thead>\n",
       "    <tr style=\"text-align: right;\">\n",
       "      <th></th>\n",
       "      <th>Author</th>\n",
       "      <th>UppercaseLetter</th>\n",
       "      <th>UppercaseLetter_pertokens</th>\n",
       "      <th>LowercaseLetter</th>\n",
       "      <th>LowercaseLetter_pertokens</th>\n",
       "      <th>TitlecaseLetter</th>\n",
       "      <th>TitlecaseLetter_pertokens</th>\n",
       "      <th>ModifierLetter</th>\n",
       "      <th>ModifierLetter_pertokens</th>\n",
       "      <th>OtherLetter</th>\n",
       "      <th>...</th>\n",
       "      <th>swap_ _m</th>\n",
       "      <th>swap_ _CO</th>\n",
       "      <th>swap_ _.</th>\n",
       "      <th>swap_ _/</th>\n",
       "      <th>swap_ _</th>\n",
       "      <th>Tokens</th>\n",
       "      <th>Toperror_pertokens</th>\n",
       "      <th>Lefterror_pertokens</th>\n",
       "      <th>Righterror_pertokens</th>\n",
       "      <th>Downerror_pertokens</th>\n",
       "    </tr>\n",
       "  </thead>\n",
       "  <tbody>\n",
       "    <tr>\n",
       "      <th>0</th>\n",
       "      <td>13</td>\n",
       "      <td>38</td>\n",
       "      <td>1.226</td>\n",
       "      <td>60</td>\n",
       "      <td>1.935</td>\n",
       "      <td>0</td>\n",
       "      <td>0.0</td>\n",
       "      <td>0</td>\n",
       "      <td>0.0</td>\n",
       "      <td>0</td>\n",
       "      <td>...</td>\n",
       "      <td>0.0</td>\n",
       "      <td>0.0</td>\n",
       "      <td>0.0</td>\n",
       "      <td>0.0</td>\n",
       "      <td>0.0</td>\n",
       "      <td>31</td>\n",
       "      <td>0.0</td>\n",
       "      <td>0.064516</td>\n",
       "      <td>0.000000</td>\n",
       "      <td>0.000000</td>\n",
       "    </tr>\n",
       "    <tr>\n",
       "      <th>1</th>\n",
       "      <td>13</td>\n",
       "      <td>12</td>\n",
       "      <td>0.286</td>\n",
       "      <td>125</td>\n",
       "      <td>2.976</td>\n",
       "      <td>0</td>\n",
       "      <td>0.0</td>\n",
       "      <td>0</td>\n",
       "      <td>0.0</td>\n",
       "      <td>0</td>\n",
       "      <td>...</td>\n",
       "      <td>0.0</td>\n",
       "      <td>0.0</td>\n",
       "      <td>0.0</td>\n",
       "      <td>0.0</td>\n",
       "      <td>0.0</td>\n",
       "      <td>42</td>\n",
       "      <td>0.0</td>\n",
       "      <td>0.023810</td>\n",
       "      <td>0.000000</td>\n",
       "      <td>0.000000</td>\n",
       "    </tr>\n",
       "    <tr>\n",
       "      <th>2</th>\n",
       "      <td>13</td>\n",
       "      <td>25</td>\n",
       "      <td>0.150</td>\n",
       "      <td>582</td>\n",
       "      <td>3.485</td>\n",
       "      <td>0</td>\n",
       "      <td>0.0</td>\n",
       "      <td>0</td>\n",
       "      <td>0.0</td>\n",
       "      <td>0</td>\n",
       "      <td>...</td>\n",
       "      <td>0.0</td>\n",
       "      <td>0.0</td>\n",
       "      <td>0.0</td>\n",
       "      <td>0.0</td>\n",
       "      <td>0.0</td>\n",
       "      <td>167</td>\n",
       "      <td>0.0</td>\n",
       "      <td>0.023952</td>\n",
       "      <td>0.035928</td>\n",
       "      <td>0.005988</td>\n",
       "    </tr>\n",
       "  </tbody>\n",
       "</table>\n",
       "<p>3 rows × 2304 columns</p>\n",
       "</div>"
      ],
      "text/plain": [
       "   Author  UppercaseLetter  UppercaseLetter_pertokens  LowercaseLetter  \\\n",
       "0      13               38                      1.226               60   \n",
       "1      13               12                      0.286              125   \n",
       "2      13               25                      0.150              582   \n",
       "\n",
       "   LowercaseLetter_pertokens  TitlecaseLetter  TitlecaseLetter_pertokens  \\\n",
       "0                      1.935                0                        0.0   \n",
       "1                      2.976                0                        0.0   \n",
       "2                      3.485                0                        0.0   \n",
       "\n",
       "   ModifierLetter  ModifierLetter_pertokens  OtherLetter  ...  swap_ _m  \\\n",
       "0               0                       0.0            0  ...       0.0   \n",
       "1               0                       0.0            0  ...       0.0   \n",
       "2               0                       0.0            0  ...       0.0   \n",
       "\n",
       "   swap_ _CO  swap_ _.  swap_ _/  swap_ _   Tokens  Toperror_pertokens  \\\n",
       "0        0.0       0.0       0.0       0.0      31                 0.0   \n",
       "1        0.0       0.0       0.0       0.0      42                 0.0   \n",
       "2        0.0       0.0       0.0       0.0     167                 0.0   \n",
       "\n",
       "   Lefterror_pertokens  Righterror_pertokens  Downerror_pertokens  \n",
       "0             0.064516              0.000000             0.000000  \n",
       "1             0.023810              0.000000             0.000000  \n",
       "2             0.023952              0.035928             0.005988  \n",
       "\n",
       "[3 rows x 2304 columns]"
      ]
     },
     "execution_count": 255,
     "metadata": {},
     "output_type": "execute_result"
    }
   ],
   "source": [
    "\n",
    "df = pd.read_csv('large_data_allauthors_100articles_bottom3grams_swaps.csv', sep=',')\n",
    "df['Toperror_pertokens'] = df['Toperror'] / df['Tokens']\n",
    "df['Lefterror_pertokens'] = df['Lefterror'] / df['Tokens']\n",
    "df['Righterror_pertokens'] = df['Righterror'] / df['Tokens']\n",
    "df['Downerror_pertokens'] = df['Downerror'] / df['Tokens']\n",
    "df.info()\n",
    "df.head(3)"
   ]
  },
  {
   "cell_type": "code",
   "execution_count": 256,
   "id": "05cdee65",
   "metadata": {},
   "outputs": [],
   "source": [
    "df = df.replace(\"∞\", \"0\")"
   ]
  },
  {
   "cell_type": "code",
   "execution_count": 257,
   "id": "3b418a77",
   "metadata": {
    "scrolled": true
   },
   "outputs": [
    {
     "data": {
      "text/html": [
       "<div>\n",
       "<style scoped>\n",
       "    .dataframe tbody tr th:only-of-type {\n",
       "        vertical-align: middle;\n",
       "    }\n",
       "\n",
       "    .dataframe tbody tr th {\n",
       "        vertical-align: top;\n",
       "    }\n",
       "\n",
       "    .dataframe thead th {\n",
       "        text-align: right;\n",
       "    }\n",
       "</style>\n",
       "<table border=\"1\" class=\"dataframe\">\n",
       "  <thead>\n",
       "    <tr style=\"text-align: right;\">\n",
       "      <th></th>\n",
       "      <th>Author</th>\n",
       "      <th>UppercaseLetter</th>\n",
       "      <th>UppercaseLetter_pertokens</th>\n",
       "      <th>LowercaseLetter</th>\n",
       "      <th>LowercaseLetter_pertokens</th>\n",
       "      <th>TitlecaseLetter</th>\n",
       "      <th>TitlecaseLetter_pertokens</th>\n",
       "      <th>ModifierLetter</th>\n",
       "      <th>ModifierLetter_pertokens</th>\n",
       "      <th>OtherLetter</th>\n",
       "      <th>...</th>\n",
       "      <th>swap_ _m</th>\n",
       "      <th>swap_ _CO</th>\n",
       "      <th>swap_ _.</th>\n",
       "      <th>swap_ _/</th>\n",
       "      <th>swap_ _</th>\n",
       "      <th>Tokens</th>\n",
       "      <th>Toperror_pertokens</th>\n",
       "      <th>Lefterror_pertokens</th>\n",
       "      <th>Righterror_pertokens</th>\n",
       "      <th>Downerror_pertokens</th>\n",
       "    </tr>\n",
       "  </thead>\n",
       "  <tbody>\n",
       "    <tr>\n",
       "      <th>0</th>\n",
       "      <td>13</td>\n",
       "      <td>38</td>\n",
       "      <td>1.226</td>\n",
       "      <td>60</td>\n",
       "      <td>1.935</td>\n",
       "      <td>0</td>\n",
       "      <td>0.0</td>\n",
       "      <td>0</td>\n",
       "      <td>0.0</td>\n",
       "      <td>0</td>\n",
       "      <td>...</td>\n",
       "      <td>0.0</td>\n",
       "      <td>0.0</td>\n",
       "      <td>0.0</td>\n",
       "      <td>0.0</td>\n",
       "      <td>0.0</td>\n",
       "      <td>31</td>\n",
       "      <td>0.000000</td>\n",
       "      <td>0.064516</td>\n",
       "      <td>0.000000</td>\n",
       "      <td>0.000000</td>\n",
       "    </tr>\n",
       "    <tr>\n",
       "      <th>1</th>\n",
       "      <td>13</td>\n",
       "      <td>12</td>\n",
       "      <td>0.286</td>\n",
       "      <td>125</td>\n",
       "      <td>2.976</td>\n",
       "      <td>0</td>\n",
       "      <td>0.0</td>\n",
       "      <td>0</td>\n",
       "      <td>0.0</td>\n",
       "      <td>0</td>\n",
       "      <td>...</td>\n",
       "      <td>0.0</td>\n",
       "      <td>0.0</td>\n",
       "      <td>0.0</td>\n",
       "      <td>0.0</td>\n",
       "      <td>0.0</td>\n",
       "      <td>42</td>\n",
       "      <td>0.000000</td>\n",
       "      <td>0.023810</td>\n",
       "      <td>0.000000</td>\n",
       "      <td>0.000000</td>\n",
       "    </tr>\n",
       "    <tr>\n",
       "      <th>2</th>\n",
       "      <td>13</td>\n",
       "      <td>25</td>\n",
       "      <td>0.150</td>\n",
       "      <td>582</td>\n",
       "      <td>3.485</td>\n",
       "      <td>0</td>\n",
       "      <td>0.0</td>\n",
       "      <td>0</td>\n",
       "      <td>0.0</td>\n",
       "      <td>0</td>\n",
       "      <td>...</td>\n",
       "      <td>0.0</td>\n",
       "      <td>0.0</td>\n",
       "      <td>0.0</td>\n",
       "      <td>0.0</td>\n",
       "      <td>0.0</td>\n",
       "      <td>167</td>\n",
       "      <td>0.000000</td>\n",
       "      <td>0.023952</td>\n",
       "      <td>0.035928</td>\n",
       "      <td>0.005988</td>\n",
       "    </tr>\n",
       "    <tr>\n",
       "      <th>3</th>\n",
       "      <td>13</td>\n",
       "      <td>64</td>\n",
       "      <td>0.174</td>\n",
       "      <td>1188</td>\n",
       "      <td>3.228</td>\n",
       "      <td>0</td>\n",
       "      <td>0.0</td>\n",
       "      <td>0</td>\n",
       "      <td>0.0</td>\n",
       "      <td>0</td>\n",
       "      <td>...</td>\n",
       "      <td>0.0</td>\n",
       "      <td>0.0</td>\n",
       "      <td>0.0</td>\n",
       "      <td>0.0</td>\n",
       "      <td>0.0</td>\n",
       "      <td>368</td>\n",
       "      <td>0.000000</td>\n",
       "      <td>0.000000</td>\n",
       "      <td>0.000000</td>\n",
       "      <td>0.000000</td>\n",
       "    </tr>\n",
       "    <tr>\n",
       "      <th>4</th>\n",
       "      <td>13</td>\n",
       "      <td>16</td>\n",
       "      <td>0.099</td>\n",
       "      <td>590</td>\n",
       "      <td>3.665</td>\n",
       "      <td>0</td>\n",
       "      <td>0.0</td>\n",
       "      <td>0</td>\n",
       "      <td>0.0</td>\n",
       "      <td>0</td>\n",
       "      <td>...</td>\n",
       "      <td>0.0</td>\n",
       "      <td>0.0</td>\n",
       "      <td>0.0</td>\n",
       "      <td>0.0</td>\n",
       "      <td>0.0</td>\n",
       "      <td>161</td>\n",
       "      <td>0.006211</td>\n",
       "      <td>0.031056</td>\n",
       "      <td>0.024845</td>\n",
       "      <td>0.006211</td>\n",
       "    </tr>\n",
       "    <tr>\n",
       "      <th>...</th>\n",
       "      <td>...</td>\n",
       "      <td>...</td>\n",
       "      <td>...</td>\n",
       "      <td>...</td>\n",
       "      <td>...</td>\n",
       "      <td>...</td>\n",
       "      <td>...</td>\n",
       "      <td>...</td>\n",
       "      <td>...</td>\n",
       "      <td>...</td>\n",
       "      <td>...</td>\n",
       "      <td>...</td>\n",
       "      <td>...</td>\n",
       "      <td>...</td>\n",
       "      <td>...</td>\n",
       "      <td>...</td>\n",
       "      <td>...</td>\n",
       "      <td>...</td>\n",
       "      <td>...</td>\n",
       "      <td>...</td>\n",
       "      <td>...</td>\n",
       "    </tr>\n",
       "    <tr>\n",
       "      <th>137395</th>\n",
       "      <td>19319</td>\n",
       "      <td>16</td>\n",
       "      <td>0.190</td>\n",
       "      <td>331</td>\n",
       "      <td>3.940</td>\n",
       "      <td>0</td>\n",
       "      <td>0.0</td>\n",
       "      <td>0</td>\n",
       "      <td>0.0</td>\n",
       "      <td>0</td>\n",
       "      <td>...</td>\n",
       "      <td>0.0</td>\n",
       "      <td>0.0</td>\n",
       "      <td>0.0</td>\n",
       "      <td>0.0</td>\n",
       "      <td>0.0</td>\n",
       "      <td>84</td>\n",
       "      <td>0.000000</td>\n",
       "      <td>0.000000</td>\n",
       "      <td>0.000000</td>\n",
       "      <td>0.000000</td>\n",
       "    </tr>\n",
       "    <tr>\n",
       "      <th>137396</th>\n",
       "      <td>19319</td>\n",
       "      <td>8</td>\n",
       "      <td>0.267</td>\n",
       "      <td>102</td>\n",
       "      <td>3.400</td>\n",
       "      <td>0</td>\n",
       "      <td>0.0</td>\n",
       "      <td>0</td>\n",
       "      <td>0.0</td>\n",
       "      <td>0</td>\n",
       "      <td>...</td>\n",
       "      <td>0.0</td>\n",
       "      <td>0.0</td>\n",
       "      <td>0.0</td>\n",
       "      <td>0.0</td>\n",
       "      <td>0.0</td>\n",
       "      <td>30</td>\n",
       "      <td>0.000000</td>\n",
       "      <td>0.000000</td>\n",
       "      <td>0.033333</td>\n",
       "      <td>0.000000</td>\n",
       "    </tr>\n",
       "    <tr>\n",
       "      <th>137397</th>\n",
       "      <td>19319</td>\n",
       "      <td>11</td>\n",
       "      <td>0.333</td>\n",
       "      <td>100</td>\n",
       "      <td>3.030</td>\n",
       "      <td>0</td>\n",
       "      <td>0.0</td>\n",
       "      <td>0</td>\n",
       "      <td>0.0</td>\n",
       "      <td>0</td>\n",
       "      <td>...</td>\n",
       "      <td>0.0</td>\n",
       "      <td>0.0</td>\n",
       "      <td>0.0</td>\n",
       "      <td>0.0</td>\n",
       "      <td>0.0</td>\n",
       "      <td>33</td>\n",
       "      <td>0.000000</td>\n",
       "      <td>0.030303</td>\n",
       "      <td>0.000000</td>\n",
       "      <td>0.000000</td>\n",
       "    </tr>\n",
       "    <tr>\n",
       "      <th>137398</th>\n",
       "      <td>19319</td>\n",
       "      <td>15</td>\n",
       "      <td>0.577</td>\n",
       "      <td>66</td>\n",
       "      <td>2.538</td>\n",
       "      <td>0</td>\n",
       "      <td>0.0</td>\n",
       "      <td>0</td>\n",
       "      <td>0.0</td>\n",
       "      <td>0</td>\n",
       "      <td>...</td>\n",
       "      <td>0.0</td>\n",
       "      <td>0.0</td>\n",
       "      <td>0.0</td>\n",
       "      <td>0.0</td>\n",
       "      <td>0.0</td>\n",
       "      <td>26</td>\n",
       "      <td>0.000000</td>\n",
       "      <td>0.000000</td>\n",
       "      <td>0.038462</td>\n",
       "      <td>0.000000</td>\n",
       "    </tr>\n",
       "    <tr>\n",
       "      <th>137399</th>\n",
       "      <td>19319</td>\n",
       "      <td>8</td>\n",
       "      <td>0.095</td>\n",
       "      <td>319</td>\n",
       "      <td>3.798</td>\n",
       "      <td>0</td>\n",
       "      <td>0.0</td>\n",
       "      <td>0</td>\n",
       "      <td>0.0</td>\n",
       "      <td>0</td>\n",
       "      <td>...</td>\n",
       "      <td>0.0</td>\n",
       "      <td>0.0</td>\n",
       "      <td>0.0</td>\n",
       "      <td>0.0</td>\n",
       "      <td>0.0</td>\n",
       "      <td>84</td>\n",
       "      <td>0.000000</td>\n",
       "      <td>0.000000</td>\n",
       "      <td>0.011905</td>\n",
       "      <td>0.000000</td>\n",
       "    </tr>\n",
       "  </tbody>\n",
       "</table>\n",
       "<p>137400 rows × 2304 columns</p>\n",
       "</div>"
      ],
      "text/plain": [
       "        Author  UppercaseLetter  UppercaseLetter_pertokens  LowercaseLetter  \\\n",
       "0           13               38                      1.226               60   \n",
       "1           13               12                      0.286              125   \n",
       "2           13               25                      0.150              582   \n",
       "3           13               64                      0.174             1188   \n",
       "4           13               16                      0.099              590   \n",
       "...        ...              ...                        ...              ...   \n",
       "137395   19319               16                      0.190              331   \n",
       "137396   19319                8                      0.267              102   \n",
       "137397   19319               11                      0.333              100   \n",
       "137398   19319               15                      0.577               66   \n",
       "137399   19319                8                      0.095              319   \n",
       "\n",
       "        LowercaseLetter_pertokens  TitlecaseLetter  TitlecaseLetter_pertokens  \\\n",
       "0                           1.935                0                        0.0   \n",
       "1                           2.976                0                        0.0   \n",
       "2                           3.485                0                        0.0   \n",
       "3                           3.228                0                        0.0   \n",
       "4                           3.665                0                        0.0   \n",
       "...                           ...              ...                        ...   \n",
       "137395                      3.940                0                        0.0   \n",
       "137396                      3.400                0                        0.0   \n",
       "137397                      3.030                0                        0.0   \n",
       "137398                      2.538                0                        0.0   \n",
       "137399                      3.798                0                        0.0   \n",
       "\n",
       "        ModifierLetter  ModifierLetter_pertokens  OtherLetter  ...  swap_ _m  \\\n",
       "0                    0                       0.0            0  ...       0.0   \n",
       "1                    0                       0.0            0  ...       0.0   \n",
       "2                    0                       0.0            0  ...       0.0   \n",
       "3                    0                       0.0            0  ...       0.0   \n",
       "4                    0                       0.0            0  ...       0.0   \n",
       "...                ...                       ...          ...  ...       ...   \n",
       "137395               0                       0.0            0  ...       0.0   \n",
       "137396               0                       0.0            0  ...       0.0   \n",
       "137397               0                       0.0            0  ...       0.0   \n",
       "137398               0                       0.0            0  ...       0.0   \n",
       "137399               0                       0.0            0  ...       0.0   \n",
       "\n",
       "        swap_ _CO  swap_ _.  swap_ _/  swap_ _   Tokens  Toperror_pertokens  \\\n",
       "0             0.0       0.0       0.0       0.0      31            0.000000   \n",
       "1             0.0       0.0       0.0       0.0      42            0.000000   \n",
       "2             0.0       0.0       0.0       0.0     167            0.000000   \n",
       "3             0.0       0.0       0.0       0.0     368            0.000000   \n",
       "4             0.0       0.0       0.0       0.0     161            0.006211   \n",
       "...           ...       ...       ...       ...     ...                 ...   \n",
       "137395        0.0       0.0       0.0       0.0      84            0.000000   \n",
       "137396        0.0       0.0       0.0       0.0      30            0.000000   \n",
       "137397        0.0       0.0       0.0       0.0      33            0.000000   \n",
       "137398        0.0       0.0       0.0       0.0      26            0.000000   \n",
       "137399        0.0       0.0       0.0       0.0      84            0.000000   \n",
       "\n",
       "        Lefterror_pertokens  Righterror_pertokens  Downerror_pertokens  \n",
       "0                  0.064516              0.000000             0.000000  \n",
       "1                  0.023810              0.000000             0.000000  \n",
       "2                  0.023952              0.035928             0.005988  \n",
       "3                  0.000000              0.000000             0.000000  \n",
       "4                  0.031056              0.024845             0.006211  \n",
       "...                     ...                   ...                  ...  \n",
       "137395             0.000000              0.000000             0.000000  \n",
       "137396             0.000000              0.033333             0.000000  \n",
       "137397             0.030303              0.000000             0.000000  \n",
       "137398             0.000000              0.038462             0.000000  \n",
       "137399             0.000000              0.011905             0.000000  \n",
       "\n",
       "[137400 rows x 2304 columns]"
      ]
     },
     "execution_count": 257,
     "metadata": {},
     "output_type": "execute_result"
    }
   ],
   "source": [
    "# df_all = scale(df, [\"Author\", \"Tokens\"])\n",
    "df_all = df\n",
    "df_all"
   ]
  },
  {
   "cell_type": "code",
   "execution_count": 258,
   "id": "af4137bd",
   "metadata": {
    "scrolled": true
   },
   "outputs": [
    {
     "data": {
      "text/plain": [
       "1374"
      ]
     },
     "execution_count": 258,
     "metadata": {},
     "output_type": "execute_result"
    }
   ],
   "source": [
    "len(df_all['Author'].unique())"
   ]
  },
  {
   "cell_type": "markdown",
   "id": "f97f5b0a",
   "metadata": {},
   "source": [
    "## Dataframes\n",
    "df_all - contains all feature columns and author id\n",
    "\n",
    "df_positional - contains positional errors, token count, misspell ratio and author id"
   ]
  },
  {
   "cell_type": "markdown",
   "id": "f390a28c",
   "metadata": {},
   "source": [
    "non_empty_cols - all columns with non-zero values"
   ]
  },
  {
   "cell_type": "code",
   "execution_count": 259,
   "id": "ea555fa3",
   "metadata": {},
   "outputs": [],
   "source": [
    "# filtered_suff = []\n",
    "# for x in df_all.columns:\n",
    "#     if x.endswith(\"_pertokens\"):\n",
    "#         filtered_suff.append(x)\n",
    "# filtered_suff.sort()\n",
    "# for x in filtered_suff:\n",
    "#     print(x)\n",
    "#     print(mean(df_all[x]))"
   ]
  },
  {
   "cell_type": "code",
   "execution_count": 260,
   "id": "761b6cff",
   "metadata": {
    "scrolled": true
   },
   "outputs": [
    {
     "data": {
      "text/plain": [
       "2241"
      ]
     },
     "execution_count": 260,
     "metadata": {},
     "output_type": "execute_result"
    }
   ],
   "source": [
    "all_cols = df_all.columns\n",
    "to_add_cols = [  'Author',\n",
    "                 'CurrencySymbol_pertokens',\n",
    "                 'ConnectorPunctuation_pertokens',\n",
    "                 'Control_pertokens',\n",
    "                 'Downerror_pertokens',\n",
    "                 'DecimalDigitNumber_pertokens',\n",
    "                 'FinalQuotePunctuation_pertokens',\n",
    "                 'InitialQuotePunctuation_pertokens',\n",
    "                 'LowercaseLetter_pertokens',\n",
    "                 'Lefterror_pertokens',\n",
    "                 'MathSymbol_pertokens',\n",
    "                 'Misspellratio',\n",
    "                 'OtherLetter_pertokens',\n",
    "                 'OtherNotAssigned_pertokens',\n",
    "                 'OtherPunctuation_pertokens',\n",
    "                 'Righterror_pertokens',\n",
    "                 'SpaceSeparator_pertokens',\n",
    "                 'Toperror_pertokens',\n",
    "                 'UppercaseLetter_pertokens'\n",
    "              ]\n",
    "# to_add_cols = [  'Author',\n",
    "#                  'Misspellratio']\n",
    "\n",
    "\n",
    "# filter out empty columns and add selected feature sets\n",
    "# available prefixes in feature sets - 'pos_' 'swap_'\n",
    "prefixes = ['swap_', 'pos_']\n",
    "for col in all_cols:\n",
    "    if (not((df_all[col] == 0).all()) and any(col.startswith(x) for x in prefixes)):\n",
    "        to_add_cols.append(col)\n",
    "df_positional = df_all[to_add_cols]\n",
    "len(df_positional.columns)"
   ]
  },
  {
   "cell_type": "markdown",
   "id": "dff7a22c",
   "metadata": {},
   "source": [
    "### Filtering\n",
    "removing NaN and inf values"
   ]
  },
  {
   "cell_type": "code",
   "execution_count": 261,
   "id": "58942270",
   "metadata": {
    "scrolled": true
   },
   "outputs": [
    {
     "name": "stdout",
     "output_type": "stream",
     "text": [
      "<class 'pandas.core.frame.DataFrame'>\n",
      "Int64Index: 137183 entries, 0 to 137399\n",
      "Columns: 2241 entries, Author to swap_ _ \n",
      "dtypes: float64(2241)\n",
      "memory usage: 2.3 GB\n"
     ]
    }
   ],
   "source": [
    "df_positional.dropna()\n",
    "indices_to_keep = ~df_positional.isin([np.nan, np.inf, -np.inf]).any(1)\n",
    "df_positional = df_positional[indices_to_keep].astype(np.float64)\n",
    "df_positional.info()"
   ]
  },
  {
   "cell_type": "markdown",
   "id": "8c71aecf",
   "metadata": {},
   "source": [
    "## OPTIONAL \n",
    "+ used to reduce the number of authors, to create the same samples as in other articles\n"
   ]
  },
  {
   "cell_type": "code",
   "execution_count": 248,
   "id": "452454d1",
   "metadata": {
    "scrolled": false
   },
   "outputs": [],
   "source": [
    "# # Exploiting SI for AA - 480 texts, 11 authors\n",
    "# count_authors = 11\n",
    "# count_samples = 480\n",
    "\n",
    "\n",
    "# # split_index = len(df_all)/2\n",
    "# # count_samples = len(df_all)\n",
    "\n",
    "# print(len(df_positional[\"Author\"].unique()))\n",
    "\n",
    "# all_authors = df_all[\"Author\"].unique()\n",
    "# split_authors = np.random.choice(all_authors, size=count_authors + 1)\n",
    "# df_positional = df_positional[df_positional[\"Author\"].isin(split_authors)]\n",
    "\n",
    "# print(len(df_positional[\"Author\"].unique()))\n",
    "# df_positional = df_positional.sample(count_samples)"
   ]
  },
  {
   "cell_type": "markdown",
   "id": "972e24ca",
   "metadata": {},
   "source": [
    "# Split to train/test\n",
    "- no split needed if using cross validation - percentage_to_train should be 1.0"
   ]
  },
  {
   "cell_type": "code",
   "execution_count": 262,
   "id": "f5a2ccd4",
   "metadata": {
    "scrolled": true
   },
   "outputs": [
    {
     "name": "stdout",
     "output_type": "stream",
     "text": [
      "<class 'pandas.core.frame.DataFrame'>\n",
      "Int64Index: 96028 entries, 124615 to 74862\n",
      "Columns: 2241 entries, Author to swap_ _ \n",
      "dtypes: float64(2241)\n",
      "memory usage: 1.6 GB\n",
      "<class 'pandas.core.frame.DataFrame'>\n",
      "Int64Index: 40691 entries, 0 to 137396\n",
      "Columns: 2241 entries, Author to swap_ _ \n",
      "dtypes: float64(2241)\n",
      "memory usage: 696.0 MB\n",
      "137183\n"
     ]
    }
   ],
   "source": [
    "data_count = len(df_positional)\n",
    "percentage_to_train = 0.7\n",
    "df_train = df_positional.sample(int(data_count*(percentage_to_train)))\n",
    "df_test = pd.concat([df_train, df_positional]).drop_duplicates(keep=False)\n",
    "# df_test = df_positional[int(data_count*2/3):]\n",
    "df_train.info()\n",
    "df_test.info()\n",
    "print(data_count)"
   ]
  },
  {
   "cell_type": "markdown",
   "id": "534d0e56",
   "metadata": {},
   "source": [
    "### Split training into features and labels"
   ]
  },
  {
   "cell_type": "code",
   "execution_count": 263,
   "id": "bb1b5d29",
   "metadata": {
    "scrolled": false
   },
   "outputs": [
    {
     "data": {
      "text/plain": [
       "96028"
      ]
     },
     "execution_count": 263,
     "metadata": {},
     "output_type": "execute_result"
    }
   ],
   "source": [
    "X = df_train.drop('Author', axis=1)\n",
    "y = df_train[\"Author\"]\n",
    "len(X)"
   ]
  },
  {
   "cell_type": "code",
   "execution_count": 251,
   "id": "abefefa7",
   "metadata": {},
   "outputs": [],
   "source": [
    "cv = KFold(n_splits=10, random_state=1, shuffle=True)"
   ]
  },
  {
   "cell_type": "markdown",
   "id": "d83d3487",
   "metadata": {},
   "source": [
    "# Model fitting\n",
    "### Decision Tree Classifier\n",
    "Create a decision tree classifier and get predictions on the same dataset"
   ]
  },
  {
   "cell_type": "code",
   "execution_count": 252,
   "id": "05305ae8",
   "metadata": {
    "scrolled": true
   },
   "outputs": [],
   "source": [
    "dt = tree.DecisionTreeClassifier()\n",
    "# dt = dt.fit(X, y)\n",
    "dt_acc = cross_validate(dt, X, y, scoring='accuracy', cv=cv, n_jobs=1)\n",
    "# dt_rmse = cross_validate(dt, X, y, scoring='neg_root_mean_squared_error', cv=cv, n_jobs=-1)"
   ]
  },
  {
   "cell_type": "markdown",
   "id": "3ef9670f",
   "metadata": {},
   "source": [
    "### Random forest"
   ]
  },
  {
   "cell_type": "code",
   "execution_count": 253,
   "id": "a78e8107",
   "metadata": {
    "scrolled": true
   },
   "outputs": [],
   "source": [
    "forest=RandomForestClassifier(n_estimators=200)\n",
    "# forest.fit(X,y)\n",
    "forest_acc = cross_validate(forest, X, y, scoring='accuracy', cv=cv, n_jobs=1)\n",
    "# forest_rmse = cross_validate(forest, X, y, scoring='neg_root_mean_squared_error', cv=cv, n_jobs=-1)"
   ]
  },
  {
   "cell_type": "code",
   "execution_count": null,
   "id": "df6e0934",
   "metadata": {},
   "outputs": [],
   "source": [
    "forest=RandomForestClassifier(n_estimators=100)\n",
    "forest.fit(X,y)"
   ]
  },
  {
   "cell_type": "markdown",
   "id": "7091642b",
   "metadata": {},
   "source": [
    "# Evaluation\n",
    "- mean accuracy\n",
    "- std of accuracy\n",
    "- rmse"
   ]
  },
  {
   "cell_type": "code",
   "execution_count": 254,
   "id": "d77e28d5",
   "metadata": {},
   "outputs": [
    {
     "name": "stdout",
     "output_type": "stream",
     "text": [
      "Decision tree\n",
      "0.3336842105263158\n",
      "0.03428736310505755\n",
      "Forest\n",
      "0.46736842105263154\n",
      "0.04986408118874533\n"
     ]
    }
   ],
   "source": [
    "print(\"Decision tree\")\n",
    "print(mean(dt_acc['test_score']))\n",
    "print(std(dt_acc['test_score']))\n",
    "# print(mean(dt_rmse['test_score']))\n",
    "# print(dt_acc)\n",
    "# print(\"Logreg\")\n",
    "# print(logreg_acc)\n",
    "print(\"Forest\")\n",
    "print(mean(forest_acc['test_score']))\n",
    "print(std(forest_acc['test_score']))\n",
    "# print(mean(forest_rmse['test_score']))\n",
    "# print(forest_acc)"
   ]
  },
  {
   "cell_type": "code",
   "execution_count": 268,
   "id": "b4e95d5e",
   "metadata": {
    "scrolled": true
   },
   "outputs": [],
   "source": [
    "X_test = df_test.drop('Author', axis=1)\n",
    "Y_test = df_test['Author'].to_numpy()"
   ]
  },
  {
   "cell_type": "markdown",
   "id": "98b7ce84",
   "metadata": {},
   "source": [
    "## DT"
   ]
  },
  {
   "cell_type": "code",
   "execution_count": null,
   "id": "7ff52201",
   "metadata": {},
   "outputs": [],
   "source": [
    "# Decision Tree\n",
    "# predictions_dt = dt.predict(X_test)\n",
    "# dt_acc = evaluate(Y_test, predictions_dt)"
   ]
  },
  {
   "cell_type": "markdown",
   "id": "c60ac6f1",
   "metadata": {},
   "source": [
    "### Random Forest"
   ]
  },
  {
   "cell_type": "code",
   "execution_count": null,
   "id": "0e5f69e4",
   "metadata": {},
   "outputs": [],
   "source": [
    "predictions_forest = forest.predict(X_test)\n",
    "forest_acc = evaluate(Y_test, predictions_forest)"
   ]
  },
  {
   "cell_type": "markdown",
   "id": "d99df402",
   "metadata": {},
   "source": [
    "# Other -------- UNRELATED -------\n",
    "under construction"
   ]
  },
  {
   "cell_type": "code",
   "execution_count": 156,
   "id": "4a4886d2",
   "metadata": {},
   "outputs": [
    {
     "data": {
      "text/html": [
       "<div>\n",
       "<style scoped>\n",
       "    .dataframe tbody tr th:only-of-type {\n",
       "        vertical-align: middle;\n",
       "    }\n",
       "\n",
       "    .dataframe tbody tr th {\n",
       "        vertical-align: top;\n",
       "    }\n",
       "\n",
       "    .dataframe thead th {\n",
       "        text-align: right;\n",
       "    }\n",
       "</style>\n",
       "<table border=\"1\" class=\"dataframe\">\n",
       "  <thead>\n",
       "    <tr style=\"text-align: right;\">\n",
       "      <th></th>\n",
       "      <th>feature</th>\n",
       "      <th>importance</th>\n",
       "    </tr>\n",
       "  </thead>\n",
       "  <tbody>\n",
       "    <tr>\n",
       "      <th>17</th>\n",
       "      <td>UppercaseLetter_pertokens</td>\n",
       "      <td>0.022381</td>\n",
       "    </tr>\n",
       "    <tr>\n",
       "      <th>13</th>\n",
       "      <td>OtherPunctuation_pertokens</td>\n",
       "      <td>0.018489</td>\n",
       "    </tr>\n",
       "    <tr>\n",
       "      <th>18</th>\n",
       "      <td>pos_0_NN_NN_NN</td>\n",
       "      <td>0.015073</td>\n",
       "    </tr>\n",
       "    <tr>\n",
       "      <th>15</th>\n",
       "      <td>SpaceSeparator_pertokens</td>\n",
       "      <td>0.013471</td>\n",
       "    </tr>\n",
       "    <tr>\n",
       "      <th>10</th>\n",
       "      <td>Misspellratio</td>\n",
       "      <td>0.013262</td>\n",
       "    </tr>\n",
       "    <tr>\n",
       "      <th>7</th>\n",
       "      <td>LowercaseLetter_pertokens</td>\n",
       "      <td>0.011956</td>\n",
       "    </tr>\n",
       "    <tr>\n",
       "      <th>21</th>\n",
       "      <td>pos_3_JJ_NN_IN</td>\n",
       "      <td>0.011586</td>\n",
       "    </tr>\n",
       "    <tr>\n",
       "      <th>67</th>\n",
       "      <td>pos_49_._VB_RB</td>\n",
       "      <td>0.010840</td>\n",
       "    </tr>\n",
       "    <tr>\n",
       "      <th>35</th>\n",
       "      <td>pos_17_RB_JJ_NN</td>\n",
       "      <td>0.010683</td>\n",
       "    </tr>\n",
       "    <tr>\n",
       "      <th>66</th>\n",
       "      <td>pos_48_LS_._VB</td>\n",
       "      <td>0.010093</td>\n",
       "    </tr>\n",
       "    <tr>\n",
       "      <th>22</th>\n",
       "      <td>pos_4_IN_NN_NN</td>\n",
       "      <td>0.009694</td>\n",
       "    </tr>\n",
       "    <tr>\n",
       "      <th>19</th>\n",
       "      <td>pos_1_NN_IN_NN</td>\n",
       "      <td>0.009312</td>\n",
       "    </tr>\n",
       "    <tr>\n",
       "      <th>8</th>\n",
       "      <td>Lefterror_pertokens</td>\n",
       "      <td>0.009308</td>\n",
       "    </tr>\n",
       "    <tr>\n",
       "      <th>36</th>\n",
       "      <td>pos_18_VB_RB_JJ</td>\n",
       "      <td>0.009118</td>\n",
       "    </tr>\n",
       "    <tr>\n",
       "      <th>56</th>\n",
       "      <td>pos_38_NN_NN_.</td>\n",
       "      <td>0.009034</td>\n",
       "    </tr>\n",
       "    <tr>\n",
       "      <th>602</th>\n",
       "      <td>swap_u_o</td>\n",
       "      <td>0.009023</td>\n",
       "    </tr>\n",
       "    <tr>\n",
       "      <th>899</th>\n",
       "      <td>swap_l_</td>\n",
       "      <td>0.008741</td>\n",
       "    </tr>\n",
       "    <tr>\n",
       "      <th>26</th>\n",
       "      <td>pos_8_DT_NN_IN</td>\n",
       "      <td>0.008053</td>\n",
       "    </tr>\n",
       "    <tr>\n",
       "      <th>28</th>\n",
       "      <td>pos_10_NN_NN_VB</td>\n",
       "      <td>0.007981</td>\n",
       "    </tr>\n",
       "    <tr>\n",
       "      <th>14</th>\n",
       "      <td>Righterror_pertokens</td>\n",
       "      <td>0.007923</td>\n",
       "    </tr>\n",
       "  </tbody>\n",
       "</table>\n",
       "</div>"
      ],
      "text/plain": [
       "                        feature  importance\n",
       "17    UppercaseLetter_pertokens    0.022381\n",
       "13   OtherPunctuation_pertokens    0.018489\n",
       "18               pos_0_NN_NN_NN    0.015073\n",
       "15     SpaceSeparator_pertokens    0.013471\n",
       "10                Misspellratio    0.013262\n",
       "7     LowercaseLetter_pertokens    0.011956\n",
       "21               pos_3_JJ_NN_IN    0.011586\n",
       "67               pos_49_._VB_RB    0.010840\n",
       "35              pos_17_RB_JJ_NN    0.010683\n",
       "66               pos_48_LS_._VB    0.010093\n",
       "22               pos_4_IN_NN_NN    0.009694\n",
       "19               pos_1_NN_IN_NN    0.009312\n",
       "8           Lefterror_pertokens    0.009308\n",
       "36              pos_18_VB_RB_JJ    0.009118\n",
       "56               pos_38_NN_NN_.    0.009034\n",
       "602                    swap_u_o    0.009023\n",
       "899                    swap_l_     0.008741\n",
       "26               pos_8_DT_NN_IN    0.008053\n",
       "28              pos_10_NN_NN_VB    0.007981\n",
       "14         Righterror_pertokens    0.007923"
      ]
     },
     "execution_count": 156,
     "metadata": {},
     "output_type": "execute_result"
    }
   ],
   "source": [
    "# Feature importance for random forest\n",
    "fi = pd.DataFrame({'feature': list(X.columns),\n",
    "                   'importance': forest_acc['estimator'][0].feature_importances_}).\\\n",
    "                    sort_values('importance', ascending = False)\n",
    "fi.head(20)"
   ]
  },
  {
   "cell_type": "markdown",
   "id": "e390ced9",
   "metadata": {},
   "source": [
    "## Automatic feature selection"
   ]
  },
  {
   "cell_type": "code",
   "execution_count": 228,
   "id": "adc70e4a",
   "metadata": {},
   "outputs": [],
   "source": [
    "# def select_features(df, k=5):\n",
    "#     df_new = df.drop([\"Author\"], axis=1)\n",
    "#     indicators_indexed = []\n",
    "#     for x in df['Author']:\n",
    "#         indicators_indexed.append(x)\n",
    "# #     print(len(indicators_indexed))\n",
    "#     # print(df_normal)\n",
    "#     np.random.seed(1)\n",
    "#     selector = SelectKBest(chi2, k=k)\n",
    "# #     selector = SelectKBest(mutual_info_regression, k=k)\n",
    "#     k_best_features = selector.fit_transform(df_new.values, indicators_indexed)\n",
    "#     print(selector.get_support(1))\n",
    "#     return (k_best_features, selector.get_support())"
   ]
  },
  {
   "cell_type": "code",
   "execution_count": 229,
   "id": "5cfffeb5",
   "metadata": {},
   "outputs": [],
   "source": [
    "# feat, mask = select_features(df_train, 6)\n",
    "\n",
    "# new_features = df_train.drop([\"Author\"], axis=1).columns[mask]\n",
    "# new_features\n",
    "# # print(ind)\n",
    "# df_positional = df_all[new_features]\n",
    "# df_positional[\"Author\"] = df_all[\"Author\"]\n",
    "# df_positional.info()"
   ]
  },
  {
   "cell_type": "code",
   "execution_count": 68,
   "id": "71c92d0f",
   "metadata": {},
   "outputs": [
    {
     "data": {
      "image/png": "[encoded data removed]",
      "text/plain": [
       "<Figure size 864x288 with 1 Axes>"
      ]
     },
     "metadata": {
      "needs_background": "light"
     },
     "output_type": "display_data"
    }
   ],
   "source": [
    "import numpy as np\n",
    "import matplotlib.pyplot as plt\n",
    "# Schler results\n",
    "# df_viz = pd.DataFrame({'accuracy_dt': [  0.21458333333333335,\n",
    "#                                          0.39166666666666666,\n",
    "#                                          0.39375,\n",
    "#                                          0.4125\n",
    "#                                       ],\n",
    "#                        'std_dt':      [  0.061130836463005045,\n",
    "#                                          0.055746200667748554,\n",
    "#                                          0.05547302898205977,\n",
    "#                                          0.07144345083117601\n",
    "#                                       ],\n",
    "                       \n",
    "#              'accuracy_forest': [0.375,\n",
    "#                                  0.54375,\n",
    "#                                  0.5916666666666667,\n",
    "#                                  0.525\n",
    "#                                 ],\n",
    "#              'std_forest': [     0.04564354645876384,\n",
    "#                                  0.07123050415532817,\n",
    "#                                  0.059802917060030526,\n",
    "#                                  0.0832291014809924\n",
    "#                            ],\n",
    "                       \n",
    "#              'feature_sets': [  'PoS+M',\n",
    "#                                 'PoS+M+Rune',\n",
    "#                                 'PoS+M+Rune+Swap',\n",
    "#                                 'Rune+M+Swap'],\n",
    "#                       })\n",
    "\n",
    "# 64 authors, 100 texts per author\n",
    "df_viz = pd.DataFrame({'accuracy_dt': [  0.21458333333333335,\n",
    "                                         0.39166666666666666,\n",
    "                                         0.39375,\n",
    "                                         0.4125\n",
    "                                      ],\n",
    "                       'std_dt':      [  0.061130836463005045,\n",
    "                                         0.055746200667748554,\n",
    "                                         0.05547302898205977,\n",
    "                                         0.07144345083117601\n",
    "                                      ],\n",
    "                       \n",
    "             'accuracy_forest': [0.375,\n",
    "                                 0.54375,\n",
    "                                 0.5916666666666667,\n",
    "                                 0.525\n",
    "                                ],\n",
    "             'std_forest': [     0.04564354645876384,\n",
    "                                 0.07123050415532817,\n",
    "                                 0.059802917060030526,\n",
    "                                 0.0832291014809924\n",
    "                           ],\n",
    "                       \n",
    "             'feature_sets': [  'PoS+M',\n",
    "                                'PoS+M+Rune',\n",
    "                                'PoS+M+Rune+Swap',\n",
    "                                'Rune+M+Swap'],\n",
    "                      })\n",
    "\n",
    "fig, ax = plt.subplots()\n",
    "fig.set_size_inches(12, 4)\n",
    "plt.ylim(0, 1)\n",
    "\n",
    "plt.bar(df_viz['feature_sets'], df_viz['accuracy_forest'], color='lightblue')\n",
    "plt.bar(df_viz['feature_sets'], df_viz['accuracy_dt'], color='lightgreen')\n",
    "plt.errorbar(df_viz['feature_sets'], df_viz['accuracy_forest'], color='blue', yerr=df_viz['std_forest'], fmt='o')\n",
    "plt.errorbar(df_viz['feature_sets'], df_viz['accuracy_dt'], color='green', yerr=df_viz['std_dt'], fmt='o')\n",
    "\n",
    "ax.bar_label(ax.containers[0], fmt=\"             %.3g\")\n",
    "ax.bar_label(ax.containers[1], fmt=\"             %.3g\")\n",
    "ax.legend(['Random Forest', 'Decision Tree'])\n",
    "ax.yaxis.grid(True)\n",
    "plt.show()\n"
   ]
  },
  {
   "cell_type": "code",
   "execution_count": 160,
   "id": "78bed824",
   "metadata": {
    "scrolled": false
   },
   "outputs": [
    {
     "name": "stdout",
     "output_type": "stream",
     "text": [
      "6400\n"
     ]
    },
    {
     "data": {
      "image/png": "[encoded data removed]",
      "text/plain": [
       "<Figure size 427.75x360 with 1 Axes>"
      ]
     },
     "metadata": {
      "needs_background": "light"
     },
     "output_type": "display_data"
    },
    {
     "data": {
      "image/png": "[encoded data removed]",
      "text/plain": [
       "<Figure size 427.75x360 with 1 Axes>"
      ]
     },
     "metadata": {
      "needs_background": "light"
     },
     "output_type": "display_data"
    },
    {
     "data": {
      "image/png": "[encoded data removed]",
      "text/plain": [
       "<Figure size 427.75x360 with 1 Axes>"
      ]
     },
     "metadata": {
      "needs_background": "light"
     },
     "output_type": "display_data"
    },
    {
     "data": {
      "image/png": "[encoded data removed]",
      "text/plain": [
       "<Figure size 427.75x360 with 1 Axes>"
      ]
     },
     "metadata": {
      "needs_background": "light"
     },
     "output_type": "display_data"
    }
   ],
   "source": [
    "df_viz = df_all\n",
    "print(len(df_viz))\n",
    "\n",
    "all_authors = df_all[\"Author\"].unique()\n",
    "split_authors_viz = np.random.choice(all_authors, size=6)\n",
    "df_viz = df_viz[df_viz[\"Author\"].isin(split_authors_viz)]\n",
    "df_viz = df_viz.sample(int(len(df_viz)/4))\n",
    "sns.set_palette(\"tab10\")\n",
    "viz_cols = [  'Downerror_pertokens',\n",
    "              'Lefterror_pertokens',\n",
    "              'Righterror_pertokens',\n",
    "              'Toperror_pertokens',\n",
    "              ]\n",
    "\n",
    "for x in viz_cols:\n",
    "    grid = sns.lmplot(x, 'Misspellratio', data=df_viz, hue='Author', fit_reg=False)\n",
    "    grid.set(xscale=\"log\", yscale=\"log\").set(xlim=(0,1),ylim=(0,1))\n",
    "    fig = grid.fig\n",
    "    fig.savefig('figures/64authors_top3grams_swaps_blogtext_100articles_Misspellratio_'+str(x)+'.png')\n",
    "\n"
   ]
  },
  {
   "cell_type": "code",
   "execution_count": null,
   "id": "f33db31d",
   "metadata": {},
   "outputs": [],
   "source": []
  }
 ],
 "metadata": {
  "kernelspec": {
   "display_name": "Python 3 (ipykernel)",
   "language": "python",
   "name": "python3"
  },
  "language_info": {
   "codemirror_mode": {
    "name": "ipython",
    "version": 3
   },
   "file_extension": ".py",
   "mimetype": "text/x-python",
   "name": "python",
   "nbconvert_exporter": "python",
   "pygments_lexer": "ipython3",
   "version": "3.8.3"
  }
 },
 "nbformat": 4,
 "nbformat_minor": 5
}
