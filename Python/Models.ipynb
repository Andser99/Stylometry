{
 "cells": [
  {
   "cell_type": "markdown",
   "id": "e9c6f5e5",
   "metadata": {},
   "source": [
    "# Stylometry - model training\n",
    "\n",
    "### Used classifiers\n",
    " - Decision Tree\n",
    " - kNN (NYI)\n",
    " - SVM (NYI)\n",
    " \n",
    " \n",
    " - ? Logistic Regression (NYI)"
   ]
  },
  {
   "cell_type": "markdown",
   "id": "255418f1",
   "metadata": {},
   "source": [
    "## Imports"
   ]
  },
  {
   "cell_type": "code",
   "execution_count": 5,
   "id": "d9f23b68",
   "metadata": {},
   "outputs": [],
   "source": [
    "import matplotlib\n",
    "import matplotlib.pylab as pylab\n",
    "import matplotlib.pyplot as plt\n",
    "import seaborn as sns\n",
    "import pandas as pd\n",
    "import numpy as np\n",
    "import scipy\n",
    "import scipy.stats as stats\n",
    "import seaborn as sns\n",
    "import statsmodels.api as sm\n",
    "import statsmodels.stats.api as sms\n",
    "from numpy import mean\n",
    "from numpy import average\n",
    "from numpy import absolute\n",
    "from numpy import sqrt\n",
    "from numpy import std\n",
    "from sklearn import preprocessing\n",
    "import statistics\n",
    "from sklearn.model_selection import KFold\n",
    "from sklearn.model_selection import cross_validate\n",
    "from sklearn.preprocessing import StandardScaler, MinMaxScaler\n",
    "from sklearn.feature_selection import SelectKBest, mutual_info_regression, chi2, f_regression\n",
    "from sklearn.neural_network import MLPRegressor\n",
    "from sklearn.model_selection import train_test_split, GridSearchCV, StratifiedShuffleSplit\n",
    "from sklearn.impute import KNNImputer\n",
    "from sklearn import tree, svm\n",
    "from sklearn.ensemble import RandomForestClassifier, AdaBoostClassifier\n",
    "from sklearn import metrics\n",
    "# from skmultilearn.model_selection import IterativeStratification\n",
    "from sklearn.linear_model import LogisticRegression\n",
    "import gc\n",
    "import warnings\n",
    "warnings.filterwarnings('ignore')"
   ]
  },
  {
   "cell_type": "markdown",
   "id": "498e6734",
   "metadata": {},
   "source": [
    "## Helper functions"
   ]
  },
  {
   "cell_type": "code",
   "execution_count": 2,
   "id": "d34e2f58",
   "metadata": {},
   "outputs": [],
   "source": [
    "def scale(df_to_scale, ignored_cols):\n",
    "    cols_to_scale = df_to_scale.drop(ignored_cols , axis=1).columns\n",
    "    min_max_scaler = MinMaxScaler()\n",
    "    df_to_scale[cols_to_scale] = min_max_scaler.fit_transform(df_to_scale[cols_to_scale])\n",
    "    df.info()\n",
    "    return df_to_scale"
   ]
  },
  {
   "cell_type": "code",
   "execution_count": 3,
   "id": "d0fc4d83",
   "metadata": {},
   "outputs": [],
   "source": [
    "def evaluate(real, predicted):\n",
    "    print(\"Evaluation: \")\n",
    "    countGood = 0\n",
    "    total = len(real)\n",
    "    falsePos = 0\n",
    "    falseNeg = 0\n",
    "    truePos = 0\n",
    "    trueNeg = 0\n",
    "    if total != len(predicted):\n",
    "        print(\"Non-matching sample lengths\")\n",
    "        return None\n",
    "    for i in range(0, total):\n",
    "        countGood += 1 if real[i] == predicted[i] else 0\n",
    "\n",
    "    # accuracy = str(countGood / total)\n",
    "    # precision = str(truePos / (truePos + falsePos))\n",
    "    # recall = str(truePos / (truePos + falseNeg))\n",
    "    \n",
    "    print(\"accuracy \" + str(countGood / total))\n",
    "    return countGood / total"
   ]
  },
  {
   "cell_type": "markdown",
   "id": "d8159def",
   "metadata": {},
   "source": [
    "## Data import\n",
    "\\+calculate positional error occurence per token"
   ]
  },
  {
   "cell_type": "code",
   "execution_count": 41,
   "id": "6fb8b325",
   "metadata": {
    "scrolled": false
   },
   "outputs": [
    {
     "name": "stdout",
     "output_type": "stream",
     "text": [
      "<class 'pandas.core.frame.DataFrame'>\n",
      "RangeIndex: 6400 entries, 0 to 6399\n",
      "Columns: 2304 entries, Author to Downerror_pertokens\n",
      "dtypes: float64(1112), int64(1192)\n",
      "memory usage: 112.5 MB\n"
     ]
    },
    {
     "data": {
      "text/html": [
       "<div>\n",
       "<style scoped>\n",
       "    .dataframe tbody tr th:only-of-type {\n",
       "        vertical-align: middle;\n",
       "    }\n",
       "\n",
       "    .dataframe tbody tr th {\n",
       "        vertical-align: top;\n",
       "    }\n",
       "\n",
       "    .dataframe thead th {\n",
       "        text-align: right;\n",
       "    }\n",
       "</style>\n",
       "<table border=\"1\" class=\"dataframe\">\n",
       "  <thead>\n",
       "    <tr style=\"text-align: right;\">\n",
       "      <th></th>\n",
       "      <th>Author</th>\n",
       "      <th>UppercaseLetter</th>\n",
       "      <th>UppercaseLetter_pertokens</th>\n",
       "      <th>LowercaseLetter</th>\n",
       "      <th>LowercaseLetter_pertokens</th>\n",
       "      <th>TitlecaseLetter</th>\n",
       "      <th>TitlecaseLetter_pertokens</th>\n",
       "      <th>ModifierLetter</th>\n",
       "      <th>ModifierLetter_pertokens</th>\n",
       "      <th>OtherLetter</th>\n",
       "      <th>...</th>\n",
       "      <th>swap_ _m</th>\n",
       "      <th>swap_ _CO</th>\n",
       "      <th>swap_ _.</th>\n",
       "      <th>swap_ _/</th>\n",
       "      <th>swap_ _</th>\n",
       "      <th>Tokens</th>\n",
       "      <th>Toperror_pertokens</th>\n",
       "      <th>Lefterror_pertokens</th>\n",
       "      <th>Righterror_pertokens</th>\n",
       "      <th>Downerror_pertokens</th>\n",
       "    </tr>\n",
       "  </thead>\n",
       "  <tbody>\n",
       "    <tr>\n",
       "      <th>0</th>\n",
       "      <td>13</td>\n",
       "      <td>38</td>\n",
       "      <td>1.226</td>\n",
       "      <td>60</td>\n",
       "      <td>1.935</td>\n",
       "      <td>0</td>\n",
       "      <td>0</td>\n",
       "      <td>0</td>\n",
       "      <td>0</td>\n",
       "      <td>0</td>\n",
       "      <td>...</td>\n",
       "      <td>0</td>\n",
       "      <td>0</td>\n",
       "      <td>0</td>\n",
       "      <td>0</td>\n",
       "      <td>0</td>\n",
       "      <td>31</td>\n",
       "      <td>0.0</td>\n",
       "      <td>0.064516</td>\n",
       "      <td>0.000000</td>\n",
       "      <td>0.000000</td>\n",
       "    </tr>\n",
       "    <tr>\n",
       "      <th>1</th>\n",
       "      <td>13</td>\n",
       "      <td>12</td>\n",
       "      <td>0.286</td>\n",
       "      <td>125</td>\n",
       "      <td>2.976</td>\n",
       "      <td>0</td>\n",
       "      <td>0</td>\n",
       "      <td>0</td>\n",
       "      <td>0</td>\n",
       "      <td>0</td>\n",
       "      <td>...</td>\n",
       "      <td>0</td>\n",
       "      <td>0</td>\n",
       "      <td>0</td>\n",
       "      <td>0</td>\n",
       "      <td>0</td>\n",
       "      <td>42</td>\n",
       "      <td>0.0</td>\n",
       "      <td>0.023810</td>\n",
       "      <td>0.000000</td>\n",
       "      <td>0.000000</td>\n",
       "    </tr>\n",
       "    <tr>\n",
       "      <th>2</th>\n",
       "      <td>13</td>\n",
       "      <td>25</td>\n",
       "      <td>0.150</td>\n",
       "      <td>582</td>\n",
       "      <td>3.485</td>\n",
       "      <td>0</td>\n",
       "      <td>0</td>\n",
       "      <td>0</td>\n",
       "      <td>0</td>\n",
       "      <td>0</td>\n",
       "      <td>...</td>\n",
       "      <td>0</td>\n",
       "      <td>0</td>\n",
       "      <td>0</td>\n",
       "      <td>0</td>\n",
       "      <td>0</td>\n",
       "      <td>167</td>\n",
       "      <td>0.0</td>\n",
       "      <td>0.023952</td>\n",
       "      <td>0.035928</td>\n",
       "      <td>0.005988</td>\n",
       "    </tr>\n",
       "  </tbody>\n",
       "</table>\n",
       "<p>3 rows × 2304 columns</p>\n",
       "</div>"
      ],
      "text/plain": [
       "   Author  UppercaseLetter  UppercaseLetter_pertokens  LowercaseLetter  \\\n",
       "0      13               38                      1.226               60   \n",
       "1      13               12                      0.286              125   \n",
       "2      13               25                      0.150              582   \n",
       "\n",
       "   LowercaseLetter_pertokens  TitlecaseLetter  TitlecaseLetter_pertokens  \\\n",
       "0                      1.935                0                          0   \n",
       "1                      2.976                0                          0   \n",
       "2                      3.485                0                          0   \n",
       "\n",
       "   ModifierLetter  ModifierLetter_pertokens  OtherLetter  ...  swap_ _m  \\\n",
       "0               0                         0            0  ...         0   \n",
       "1               0                         0            0  ...         0   \n",
       "2               0                         0            0  ...         0   \n",
       "\n",
       "   swap_ _CO  swap_ _.  swap_ _/  swap_ _   Tokens  Toperror_pertokens  \\\n",
       "0          0         0         0         0      31                 0.0   \n",
       "1          0         0         0         0      42                 0.0   \n",
       "2          0         0         0         0     167                 0.0   \n",
       "\n",
       "   Lefterror_pertokens  Righterror_pertokens  Downerror_pertokens  \n",
       "0             0.064516              0.000000             0.000000  \n",
       "1             0.023810              0.000000             0.000000  \n",
       "2             0.023952              0.035928             0.005988  \n",
       "\n",
       "[3 rows x 2304 columns]"
      ]
     },
     "execution_count": 41,
     "metadata": {},
     "output_type": "execute_result"
    }
   ],
   "source": [
    "\n",
    "df = pd.read_csv('64authors_top3grams_swaps_blogtext_100articles.csv', sep=',')\n",
    "df['Toperror_pertokens'] = df['Toperror'] / df['Tokens']\n",
    "df['Lefterror_pertokens'] = df['Lefterror'] / df['Tokens']\n",
    "df['Righterror_pertokens'] = df['Righterror'] / df['Tokens']\n",
    "df['Downerror_pertokens'] = df['Downerror'] / df['Tokens']\n",
    "df.info()\n",
    "df.head(3)"
   ]
  },
  {
   "cell_type": "code",
   "execution_count": 42,
   "id": "05cdee65",
   "metadata": {},
   "outputs": [],
   "source": [
    "df = df.replace(\"∞\", \"0\")"
   ]
  },
  {
   "cell_type": "code",
   "execution_count": 43,
   "id": "3b418a77",
   "metadata": {
    "scrolled": true
   },
   "outputs": [
    {
     "data": {
      "text/html": [
       "<div>\n",
       "<style scoped>\n",
       "    .dataframe tbody tr th:only-of-type {\n",
       "        vertical-align: middle;\n",
       "    }\n",
       "\n",
       "    .dataframe tbody tr th {\n",
       "        vertical-align: top;\n",
       "    }\n",
       "\n",
       "    .dataframe thead th {\n",
       "        text-align: right;\n",
       "    }\n",
       "</style>\n",
       "<table border=\"1\" class=\"dataframe\">\n",
       "  <thead>\n",
       "    <tr style=\"text-align: right;\">\n",
       "      <th></th>\n",
       "      <th>Author</th>\n",
       "      <th>UppercaseLetter</th>\n",
       "      <th>UppercaseLetter_pertokens</th>\n",
       "      <th>LowercaseLetter</th>\n",
       "      <th>LowercaseLetter_pertokens</th>\n",
       "      <th>TitlecaseLetter</th>\n",
       "      <th>TitlecaseLetter_pertokens</th>\n",
       "      <th>ModifierLetter</th>\n",
       "      <th>ModifierLetter_pertokens</th>\n",
       "      <th>OtherLetter</th>\n",
       "      <th>...</th>\n",
       "      <th>swap_ _m</th>\n",
       "      <th>swap_ _CO</th>\n",
       "      <th>swap_ _.</th>\n",
       "      <th>swap_ _/</th>\n",
       "      <th>swap_ _</th>\n",
       "      <th>Tokens</th>\n",
       "      <th>Toperror_pertokens</th>\n",
       "      <th>Lefterror_pertokens</th>\n",
       "      <th>Righterror_pertokens</th>\n",
       "      <th>Downerror_pertokens</th>\n",
       "    </tr>\n",
       "  </thead>\n",
       "  <tbody>\n",
       "    <tr>\n",
       "      <th>0</th>\n",
       "      <td>13</td>\n",
       "      <td>38</td>\n",
       "      <td>1.226</td>\n",
       "      <td>60</td>\n",
       "      <td>1.935</td>\n",
       "      <td>0</td>\n",
       "      <td>0</td>\n",
       "      <td>0</td>\n",
       "      <td>0</td>\n",
       "      <td>0</td>\n",
       "      <td>...</td>\n",
       "      <td>0</td>\n",
       "      <td>0</td>\n",
       "      <td>0</td>\n",
       "      <td>0</td>\n",
       "      <td>0</td>\n",
       "      <td>31</td>\n",
       "      <td>0.000000</td>\n",
       "      <td>0.064516</td>\n",
       "      <td>0.000000</td>\n",
       "      <td>0.000000</td>\n",
       "    </tr>\n",
       "    <tr>\n",
       "      <th>1</th>\n",
       "      <td>13</td>\n",
       "      <td>12</td>\n",
       "      <td>0.286</td>\n",
       "      <td>125</td>\n",
       "      <td>2.976</td>\n",
       "      <td>0</td>\n",
       "      <td>0</td>\n",
       "      <td>0</td>\n",
       "      <td>0</td>\n",
       "      <td>0</td>\n",
       "      <td>...</td>\n",
       "      <td>0</td>\n",
       "      <td>0</td>\n",
       "      <td>0</td>\n",
       "      <td>0</td>\n",
       "      <td>0</td>\n",
       "      <td>42</td>\n",
       "      <td>0.000000</td>\n",
       "      <td>0.023810</td>\n",
       "      <td>0.000000</td>\n",
       "      <td>0.000000</td>\n",
       "    </tr>\n",
       "    <tr>\n",
       "      <th>2</th>\n",
       "      <td>13</td>\n",
       "      <td>25</td>\n",
       "      <td>0.150</td>\n",
       "      <td>582</td>\n",
       "      <td>3.485</td>\n",
       "      <td>0</td>\n",
       "      <td>0</td>\n",
       "      <td>0</td>\n",
       "      <td>0</td>\n",
       "      <td>0</td>\n",
       "      <td>...</td>\n",
       "      <td>0</td>\n",
       "      <td>0</td>\n",
       "      <td>0</td>\n",
       "      <td>0</td>\n",
       "      <td>0</td>\n",
       "      <td>167</td>\n",
       "      <td>0.000000</td>\n",
       "      <td>0.023952</td>\n",
       "      <td>0.035928</td>\n",
       "      <td>0.005988</td>\n",
       "    </tr>\n",
       "    <tr>\n",
       "      <th>3</th>\n",
       "      <td>13</td>\n",
       "      <td>64</td>\n",
       "      <td>0.174</td>\n",
       "      <td>1188</td>\n",
       "      <td>3.228</td>\n",
       "      <td>0</td>\n",
       "      <td>0</td>\n",
       "      <td>0</td>\n",
       "      <td>0</td>\n",
       "      <td>0</td>\n",
       "      <td>...</td>\n",
       "      <td>0</td>\n",
       "      <td>0</td>\n",
       "      <td>0</td>\n",
       "      <td>0</td>\n",
       "      <td>0</td>\n",
       "      <td>368</td>\n",
       "      <td>0.000000</td>\n",
       "      <td>0.000000</td>\n",
       "      <td>0.000000</td>\n",
       "      <td>0.000000</td>\n",
       "    </tr>\n",
       "    <tr>\n",
       "      <th>4</th>\n",
       "      <td>13</td>\n",
       "      <td>16</td>\n",
       "      <td>0.099</td>\n",
       "      <td>590</td>\n",
       "      <td>3.665</td>\n",
       "      <td>0</td>\n",
       "      <td>0</td>\n",
       "      <td>0</td>\n",
       "      <td>0</td>\n",
       "      <td>0</td>\n",
       "      <td>...</td>\n",
       "      <td>0</td>\n",
       "      <td>0</td>\n",
       "      <td>0</td>\n",
       "      <td>0</td>\n",
       "      <td>0</td>\n",
       "      <td>161</td>\n",
       "      <td>0.006211</td>\n",
       "      <td>0.031056</td>\n",
       "      <td>0.024845</td>\n",
       "      <td>0.006211</td>\n",
       "    </tr>\n",
       "    <tr>\n",
       "      <th>...</th>\n",
       "      <td>...</td>\n",
       "      <td>...</td>\n",
       "      <td>...</td>\n",
       "      <td>...</td>\n",
       "      <td>...</td>\n",
       "      <td>...</td>\n",
       "      <td>...</td>\n",
       "      <td>...</td>\n",
       "      <td>...</td>\n",
       "      <td>...</td>\n",
       "      <td>...</td>\n",
       "      <td>...</td>\n",
       "      <td>...</td>\n",
       "      <td>...</td>\n",
       "      <td>...</td>\n",
       "      <td>...</td>\n",
       "      <td>...</td>\n",
       "      <td>...</td>\n",
       "      <td>...</td>\n",
       "      <td>...</td>\n",
       "      <td>...</td>\n",
       "    </tr>\n",
       "    <tr>\n",
       "      <th>6395</th>\n",
       "      <td>19174</td>\n",
       "      <td>28</td>\n",
       "      <td>0.168</td>\n",
       "      <td>554</td>\n",
       "      <td>3.317</td>\n",
       "      <td>0</td>\n",
       "      <td>0</td>\n",
       "      <td>0</td>\n",
       "      <td>0</td>\n",
       "      <td>0</td>\n",
       "      <td>...</td>\n",
       "      <td>0</td>\n",
       "      <td>0</td>\n",
       "      <td>0</td>\n",
       "      <td>0</td>\n",
       "      <td>0</td>\n",
       "      <td>167</td>\n",
       "      <td>0.000000</td>\n",
       "      <td>0.000000</td>\n",
       "      <td>0.000000</td>\n",
       "      <td>0.000000</td>\n",
       "    </tr>\n",
       "    <tr>\n",
       "      <th>6396</th>\n",
       "      <td>19174</td>\n",
       "      <td>63</td>\n",
       "      <td>0.123</td>\n",
       "      <td>1878</td>\n",
       "      <td>3.654</td>\n",
       "      <td>0</td>\n",
       "      <td>0</td>\n",
       "      <td>0</td>\n",
       "      <td>0</td>\n",
       "      <td>0</td>\n",
       "      <td>...</td>\n",
       "      <td>0</td>\n",
       "      <td>0</td>\n",
       "      <td>0</td>\n",
       "      <td>0</td>\n",
       "      <td>0</td>\n",
       "      <td>514</td>\n",
       "      <td>0.000000</td>\n",
       "      <td>0.005837</td>\n",
       "      <td>0.009728</td>\n",
       "      <td>0.000000</td>\n",
       "    </tr>\n",
       "    <tr>\n",
       "      <th>6397</th>\n",
       "      <td>19174</td>\n",
       "      <td>73</td>\n",
       "      <td>0.124</td>\n",
       "      <td>2052</td>\n",
       "      <td>3.484</td>\n",
       "      <td>0</td>\n",
       "      <td>0</td>\n",
       "      <td>0</td>\n",
       "      <td>0</td>\n",
       "      <td>0</td>\n",
       "      <td>...</td>\n",
       "      <td>0</td>\n",
       "      <td>0</td>\n",
       "      <td>0</td>\n",
       "      <td>0</td>\n",
       "      <td>0</td>\n",
       "      <td>589</td>\n",
       "      <td>0.000000</td>\n",
       "      <td>0.003396</td>\n",
       "      <td>0.010187</td>\n",
       "      <td>0.000000</td>\n",
       "    </tr>\n",
       "    <tr>\n",
       "      <th>6398</th>\n",
       "      <td>19174</td>\n",
       "      <td>39</td>\n",
       "      <td>0.166</td>\n",
       "      <td>775</td>\n",
       "      <td>3.298</td>\n",
       "      <td>0</td>\n",
       "      <td>0</td>\n",
       "      <td>0</td>\n",
       "      <td>0</td>\n",
       "      <td>0</td>\n",
       "      <td>...</td>\n",
       "      <td>0</td>\n",
       "      <td>0</td>\n",
       "      <td>0</td>\n",
       "      <td>0</td>\n",
       "      <td>0</td>\n",
       "      <td>235</td>\n",
       "      <td>0.000000</td>\n",
       "      <td>0.004255</td>\n",
       "      <td>0.000000</td>\n",
       "      <td>0.004255</td>\n",
       "    </tr>\n",
       "    <tr>\n",
       "      <th>6399</th>\n",
       "      <td>19174</td>\n",
       "      <td>15</td>\n",
       "      <td>0.134</td>\n",
       "      <td>403</td>\n",
       "      <td>3.598</td>\n",
       "      <td>0</td>\n",
       "      <td>0</td>\n",
       "      <td>0</td>\n",
       "      <td>0</td>\n",
       "      <td>0</td>\n",
       "      <td>...</td>\n",
       "      <td>0</td>\n",
       "      <td>0</td>\n",
       "      <td>0</td>\n",
       "      <td>0</td>\n",
       "      <td>0</td>\n",
       "      <td>112</td>\n",
       "      <td>0.000000</td>\n",
       "      <td>0.000000</td>\n",
       "      <td>0.000000</td>\n",
       "      <td>0.000000</td>\n",
       "    </tr>\n",
       "  </tbody>\n",
       "</table>\n",
       "<p>6400 rows × 2304 columns</p>\n",
       "</div>"
      ],
      "text/plain": [
       "      Author  UppercaseLetter  UppercaseLetter_pertokens  LowercaseLetter  \\\n",
       "0         13               38                      1.226               60   \n",
       "1         13               12                      0.286              125   \n",
       "2         13               25                      0.150              582   \n",
       "3         13               64                      0.174             1188   \n",
       "4         13               16                      0.099              590   \n",
       "...      ...              ...                        ...              ...   \n",
       "6395   19174               28                      0.168              554   \n",
       "6396   19174               63                      0.123             1878   \n",
       "6397   19174               73                      0.124             2052   \n",
       "6398   19174               39                      0.166              775   \n",
       "6399   19174               15                      0.134              403   \n",
       "\n",
       "      LowercaseLetter_pertokens  TitlecaseLetter  TitlecaseLetter_pertokens  \\\n",
       "0                         1.935                0                          0   \n",
       "1                         2.976                0                          0   \n",
       "2                         3.485                0                          0   \n",
       "3                         3.228                0                          0   \n",
       "4                         3.665                0                          0   \n",
       "...                         ...              ...                        ...   \n",
       "6395                      3.317                0                          0   \n",
       "6396                      3.654                0                          0   \n",
       "6397                      3.484                0                          0   \n",
       "6398                      3.298                0                          0   \n",
       "6399                      3.598                0                          0   \n",
       "\n",
       "      ModifierLetter  ModifierLetter_pertokens  OtherLetter  ...  swap_ _m  \\\n",
       "0                  0                         0            0  ...         0   \n",
       "1                  0                         0            0  ...         0   \n",
       "2                  0                         0            0  ...         0   \n",
       "3                  0                         0            0  ...         0   \n",
       "4                  0                         0            0  ...         0   \n",
       "...              ...                       ...          ...  ...       ...   \n",
       "6395               0                         0            0  ...         0   \n",
       "6396               0                         0            0  ...         0   \n",
       "6397               0                         0            0  ...         0   \n",
       "6398               0                         0            0  ...         0   \n",
       "6399               0                         0            0  ...         0   \n",
       "\n",
       "      swap_ _CO  swap_ _.  swap_ _/  swap_ _   Tokens  Toperror_pertokens  \\\n",
       "0             0         0         0         0      31            0.000000   \n",
       "1             0         0         0         0      42            0.000000   \n",
       "2             0         0         0         0     167            0.000000   \n",
       "3             0         0         0         0     368            0.000000   \n",
       "4             0         0         0         0     161            0.006211   \n",
       "...         ...       ...       ...       ...     ...                 ...   \n",
       "6395          0         0         0         0     167            0.000000   \n",
       "6396          0         0         0         0     514            0.000000   \n",
       "6397          0         0         0         0     589            0.000000   \n",
       "6398          0         0         0         0     235            0.000000   \n",
       "6399          0         0         0         0     112            0.000000   \n",
       "\n",
       "      Lefterror_pertokens  Righterror_pertokens  Downerror_pertokens  \n",
       "0                0.064516              0.000000             0.000000  \n",
       "1                0.023810              0.000000             0.000000  \n",
       "2                0.023952              0.035928             0.005988  \n",
       "3                0.000000              0.000000             0.000000  \n",
       "4                0.031056              0.024845             0.006211  \n",
       "...                   ...                   ...                  ...  \n",
       "6395             0.000000              0.000000             0.000000  \n",
       "6396             0.005837              0.009728             0.000000  \n",
       "6397             0.003396              0.010187             0.000000  \n",
       "6398             0.004255              0.000000             0.004255  \n",
       "6399             0.000000              0.000000             0.000000  \n",
       "\n",
       "[6400 rows x 2304 columns]"
      ]
     },
     "execution_count": 43,
     "metadata": {},
     "output_type": "execute_result"
    }
   ],
   "source": [
    "# df_all = scale(df, [\"Author\", \"Tokens\"])\n",
    "df_all = df\n",
    "df_all"
   ]
  },
  {
   "cell_type": "code",
   "execution_count": 44,
   "id": "af4137bd",
   "metadata": {
    "scrolled": true
   },
   "outputs": [
    {
     "data": {
      "text/plain": [
       "64"
      ]
     },
     "execution_count": 44,
     "metadata": {},
     "output_type": "execute_result"
    }
   ],
   "source": [
    "len(df_all['Author'].unique())"
   ]
  },
  {
   "cell_type": "markdown",
   "id": "f97f5b0a",
   "metadata": {},
   "source": [
    "## Dataframes\n",
    "df_all - contains all feature columns and author id\n",
    "\n",
    "df_positional - contains positional errors, token count, misspell ratio and author id"
   ]
  },
  {
   "cell_type": "markdown",
   "id": "f390a28c",
   "metadata": {},
   "source": [
    "non_empty_cols - all columns with non-zero values"
   ]
  },
  {
   "cell_type": "code",
   "execution_count": 45,
   "id": "ea555fa3",
   "metadata": {},
   "outputs": [],
   "source": [
    "# filtered_suff = []\n",
    "# for x in df_all.columns:\n",
    "#     if x.endswith(\"_pertokens\"):\n",
    "#         filtered_suff.append(x)\n",
    "# filtered_suff.sort()\n",
    "# for x in filtered_suff:\n",
    "#     print(x)\n",
    "#     print(mean(df_all[x]))"
   ]
  },
  {
   "cell_type": "code",
   "execution_count": 200,
   "id": "761b6cff",
   "metadata": {
    "scrolled": true
   },
   "outputs": [
    {
     "data": {
      "text/plain": [
       "311"
      ]
     },
     "execution_count": 200,
     "metadata": {},
     "output_type": "execute_result"
    }
   ],
   "source": [
    "all_cols = df_all.columns\n",
    "to_add_cols = [  'Author',\n",
    "                 'CurrencySymbol_pertokens',\n",
    "                 'ConnectorPunctuation_pertokens',\n",
    "                 'Control_pertokens',\n",
    "#                  'Downerror_pertokens',\n",
    "                 'DecimalDigitNumber_pertokens',\n",
    "                 'FinalQuotePunctuation_pertokens',\n",
    "                 'InitialQuotePunctuation_pertokens',\n",
    "                 'LowercaseLetter_pertokens',\n",
    "#                  'Lefterror_pertokens',\n",
    "                 'MathSymbol_pertokens',\n",
    "#                  'Misspellratio',\n",
    "                 'OtherLetter_pertokens',\n",
    "                 'OtherNotAssigned_pertokens',\n",
    "                 'OtherPunctuation_pertokens',\n",
    "#                  'Righterror_pertokens',\n",
    "                 'SpaceSeparator_pertokens',\n",
    "#                  'Toperror_pertokens',\n",
    "                 'UppercaseLetter_pertokens'\n",
    "              ]\n",
    "# to_add_cols = [  'Author',\n",
    "#                  'Misspellratio']\n",
    "# to_add_cols = [  'Author',\n",
    "#                  'Lefterror_pertokens',\n",
    "#                  'Righterror_pertokens',\n",
    "#                  'Downerror_pertokens',\n",
    "#                  'Toperror_pertokens']\n",
    "# to_add_cols = ['Author']\n",
    "\n",
    "\n",
    "# filter out empty columns and add selected feature sets\n",
    "# available prefixes in feature sets - 'pos_' 'swap_'\n",
    "prefixes = ['pos_']\n",
    "# prefixes = []\n",
    "for col in all_cols:\n",
    "    if (not((df_all[col] == 0).all()) and any(col.startswith(x) for x in prefixes)):\n",
    "        to_add_cols.append(col)\n",
    "df_positional = df_all[to_add_cols]\n",
    "len(df_positional.columns)"
   ]
  },
  {
   "cell_type": "markdown",
   "id": "dff7a22c",
   "metadata": {},
   "source": [
    "### Filtering\n",
    "removing NaN and inf values"
   ]
  },
  {
   "cell_type": "code",
   "execution_count": 201,
   "id": "58942270",
   "metadata": {
    "scrolled": true
   },
   "outputs": [
    {
     "name": "stdout",
     "output_type": "stream",
     "text": [
      "<class 'pandas.core.frame.DataFrame'>\n",
      "Int64Index: 6400 entries, 0 to 6399\n",
      "Columns: 311 entries, Author to pos_296_CD_NN_VB\n",
      "dtypes: float64(311)\n",
      "memory usage: 15.2 MB\n"
     ]
    }
   ],
   "source": [
    "df_positional.dropna()\n",
    "indices_to_keep = ~df_positional.isin([np.nan, np.inf, -np.inf]).any(1)\n",
    "df_positional = df_positional[indices_to_keep].astype(np.float64)\n",
    "df_positional.info()"
   ]
  },
  {
   "cell_type": "markdown",
   "id": "8c71aecf",
   "metadata": {},
   "source": [
    "## OPTIONAL \n",
    "+ used to reduce the number of authors, to create the same samples as in other articles\n"
   ]
  },
  {
   "cell_type": "code",
   "execution_count": 202,
   "id": "452454d1",
   "metadata": {
    "scrolled": false
   },
   "outputs": [
    {
     "name": "stdout",
     "output_type": "stream",
     "text": [
      "64\n",
      "5\n"
     ]
    }
   ],
   "source": [
    "# Exploiting SI for AA - 480 texts, 11 authors\n",
    "count_authors = 4\n",
    "count_samples = 200\n",
    "\n",
    "\n",
    "# split_index = len(df_all)/2\n",
    "# count_samples = len(df_all)\n",
    "\n",
    "print(len(df_positional[\"Author\"].unique()))\n",
    "\n",
    "all_authors = df_all[\"Author\"].unique()\n",
    "split_authors = np.random.choice(all_authors, size=count_authors + 1)\n",
    "df_positional = df_positional[df_positional[\"Author\"].isin(split_authors)]\n",
    "\n",
    "print(len(df_positional[\"Author\"].unique()))\n",
    "df_positional = df_positional.sample(count_samples)"
   ]
  },
  {
   "cell_type": "markdown",
   "id": "972e24ca",
   "metadata": {},
   "source": [
    "# Split to train/test\n",
    "- no split needed if using cross validation - percentage_to_train should be 1.0"
   ]
  },
  {
   "cell_type": "code",
   "execution_count": 203,
   "id": "f5a2ccd4",
   "metadata": {
    "scrolled": true
   },
   "outputs": [
    {
     "name": "stdout",
     "output_type": "stream",
     "text": [
      "<class 'pandas.core.frame.DataFrame'>\n",
      "Int64Index: 140 entries, 927 to 956\n",
      "Columns: 311 entries, Author to pos_296_CD_NN_VB\n",
      "dtypes: float64(311)\n",
      "memory usage: 341.2 KB\n",
      "<class 'pandas.core.frame.DataFrame'>\n",
      "Int64Index: 60 entries, 1271 to 1249\n",
      "Columns: 311 entries, Author to pos_296_CD_NN_VB\n",
      "dtypes: float64(311)\n",
      "memory usage: 146.2 KB\n",
      "200\n"
     ]
    }
   ],
   "source": [
    "data_count = len(df_positional)\n",
    "percentage_to_train = 0.7\n",
    "df_train = df_positional.sample(int(data_count*(percentage_to_train)))\n",
    "df_test = pd.concat([df_train, df_positional]).drop_duplicates(keep=False)\n",
    "# df_test = df_positional[int(data_count*2/3):]\n",
    "df_train.info()\n",
    "df_test.info()\n",
    "print(data_count)"
   ]
  },
  {
   "cell_type": "markdown",
   "id": "534d0e56",
   "metadata": {},
   "source": [
    "### Split training into features and labels"
   ]
  },
  {
   "cell_type": "code",
   "execution_count": 204,
   "id": "bb1b5d29",
   "metadata": {
    "scrolled": false
   },
   "outputs": [
    {
     "data": {
      "text/plain": [
       "140"
      ]
     },
     "execution_count": 204,
     "metadata": {},
     "output_type": "execute_result"
    }
   ],
   "source": [
    "X = df_train.drop('Author', axis=1)\n",
    "y = df_train[\"Author\"]\n",
    "len(X)"
   ]
  },
  {
   "cell_type": "code",
   "execution_count": 205,
   "id": "abefefa7",
   "metadata": {},
   "outputs": [],
   "source": [
    "cv = KFold(n_splits=30, random_state=1, shuffle=True)"
   ]
  },
  {
   "cell_type": "markdown",
   "id": "d83d3487",
   "metadata": {},
   "source": [
    "# Model fitting\n",
    "### Decision Tree Classifier\n",
    "Create a decision tree classifier and get predictions on the same dataset"
   ]
  },
  {
   "cell_type": "code",
   "execution_count": 206,
   "id": "05305ae8",
   "metadata": {
    "scrolled": true
   },
   "outputs": [],
   "source": [
    "dt = tree.DecisionTreeClassifier()\n",
    "# dt = dt.fit(X, y)\n",
    "dt_acc = cross_validate(dt, X, y, scoring='accuracy', cv=cv, n_jobs=1)\n",
    "# dt_rmse = cross_validate(dt, X, y, scoring='neg_root_mean_squared_error', cv=cv, n_jobs=-1)"
   ]
  },
  {
   "cell_type": "markdown",
   "id": "3ef9670f",
   "metadata": {},
   "source": [
    "### Random forest"
   ]
  },
  {
   "cell_type": "code",
   "execution_count": 207,
   "id": "a78e8107",
   "metadata": {
    "scrolled": true
   },
   "outputs": [],
   "source": [
    "forest=RandomForestClassifier(n_estimators=200)\n",
    "# forest.fit(X,y)\n",
    "forest_acc = cross_validate(forest, X, y, scoring='accuracy', cv=cv, n_jobs=1)\n",
    "# forest_rmse = cross_validate(forest, X, y, scoring='neg_root_mean_squared_error', cv=cv, n_jobs=-1)"
   ]
  },
  {
   "cell_type": "code",
   "execution_count": 208,
   "id": "9ed89039",
   "metadata": {},
   "outputs": [],
   "source": [
    "# forest=RandomForestClassifier(n_estimators=200)\n",
    "# forest.fit(X,y)"
   ]
  },
  {
   "cell_type": "markdown",
   "id": "7091642b",
   "metadata": {},
   "source": [
    "# Evaluation\n",
    "- mean accuracy\n",
    "- std of accuracy\n",
    "- rmse"
   ]
  },
  {
   "cell_type": "code",
   "execution_count": 209,
   "id": "d77e28d5",
   "metadata": {},
   "outputs": [
    {
     "name": "stdout",
     "output_type": "stream",
     "text": [
      "Decision tree\n",
      "0.42166666666666663\n",
      "0.1869417615788998\n",
      "Forest\n",
      "0.44333333333333336\n",
      "0.25714241622537154\n"
     ]
    }
   ],
   "source": [
    "print(\"Decision tree\")\n",
    "print(mean(dt_acc['test_score']))\n",
    "print(std(dt_acc['test_score']))\n",
    "# print(mean(dt_rmse['test_score']))\n",
    "# print(dt_acc)\n",
    "# print(\"Logreg\")\n",
    "# print(logreg_acc)\n",
    "print(\"Forest\")\n",
    "print(mean(forest_acc['test_score']))\n",
    "print(std(forest_acc['test_score']))\n",
    "# print(mean(forest_rmse['test_score']))\n",
    "# print(forest_acc)"
   ]
  },
  {
   "cell_type": "code",
   "execution_count": 210,
   "id": "b4e95d5e",
   "metadata": {
    "scrolled": true
   },
   "outputs": [],
   "source": [
    "X_test = df_test.drop('Author', axis=1)\n",
    "Y_test = df_test['Author'].to_numpy()"
   ]
  },
  {
   "cell_type": "markdown",
   "id": "98b7ce84",
   "metadata": {},
   "source": [
    "## DT"
   ]
  },
  {
   "cell_type": "code",
   "execution_count": 211,
   "id": "7ff52201",
   "metadata": {},
   "outputs": [],
   "source": [
    "# Decision Tree\n",
    "# predictions_dt = dt.predict(X_test)\n",
    "# dt_acc = evaluate(Y_test, predictions_dt)"
   ]
  },
  {
   "cell_type": "markdown",
   "id": "c60ac6f1",
   "metadata": {},
   "source": [
    "### Random Forest"
   ]
  },
  {
   "cell_type": "code",
   "execution_count": 212,
   "id": "0e5f69e4",
   "metadata": {},
   "outputs": [
    {
     "ename": "NotFittedError",
     "evalue": "This RandomForestClassifier instance is not fitted yet. Call 'fit' with appropriate arguments before using this estimator.",
     "output_type": "error",
     "traceback": [
      "\u001b[1;31m---------------------------------------------------------------------------\u001b[0m",
      "\u001b[1;31mNotFittedError\u001b[0m                            Traceback (most recent call last)",
      "\u001b[1;32mC:\\Users\\Public\\Documents\\Wondershare\\CreatorTemp/ipykernel_5472/4127499637.py\u001b[0m in \u001b[0;36m<module>\u001b[1;34m\u001b[0m\n\u001b[1;32m----> 1\u001b[1;33m \u001b[0mpredictions_forest\u001b[0m \u001b[1;33m=\u001b[0m \u001b[0mforest\u001b[0m\u001b[1;33m.\u001b[0m\u001b[0mpredict\u001b[0m\u001b[1;33m(\u001b[0m\u001b[0mX_test\u001b[0m\u001b[1;33m)\u001b[0m\u001b[1;33m\u001b[0m\u001b[1;33m\u001b[0m\u001b[0m\n\u001b[0m\u001b[0;32m      2\u001b[0m \u001b[0mforest_acc\u001b[0m \u001b[1;33m=\u001b[0m \u001b[0mevaluate\u001b[0m\u001b[1;33m(\u001b[0m\u001b[0mY_test\u001b[0m\u001b[1;33m,\u001b[0m \u001b[0mpredictions_forest\u001b[0m\u001b[1;33m)\u001b[0m\u001b[1;33m\u001b[0m\u001b[1;33m\u001b[0m\u001b[0m\n",
      "\u001b[1;32mc:\\users\\andrej\\appdata\\local\\programs\\python\\python38\\lib\\site-packages\\sklearn\\ensemble\\_forest.py\u001b[0m in \u001b[0;36mpredict\u001b[1;34m(self, X)\u001b[0m\n\u001b[0;32m    628\u001b[0m             \u001b[0mThe\u001b[0m \u001b[0mpredicted\u001b[0m \u001b[0mclasses\u001b[0m\u001b[1;33m.\u001b[0m\u001b[1;33m\u001b[0m\u001b[1;33m\u001b[0m\u001b[0m\n\u001b[0;32m    629\u001b[0m         \"\"\"\n\u001b[1;32m--> 630\u001b[1;33m         \u001b[0mproba\u001b[0m \u001b[1;33m=\u001b[0m \u001b[0mself\u001b[0m\u001b[1;33m.\u001b[0m\u001b[0mpredict_proba\u001b[0m\u001b[1;33m(\u001b[0m\u001b[0mX\u001b[0m\u001b[1;33m)\u001b[0m\u001b[1;33m\u001b[0m\u001b[1;33m\u001b[0m\u001b[0m\n\u001b[0m\u001b[0;32m    631\u001b[0m \u001b[1;33m\u001b[0m\u001b[0m\n\u001b[0;32m    632\u001b[0m         \u001b[1;32mif\u001b[0m \u001b[0mself\u001b[0m\u001b[1;33m.\u001b[0m\u001b[0mn_outputs_\u001b[0m \u001b[1;33m==\u001b[0m \u001b[1;36m1\u001b[0m\u001b[1;33m:\u001b[0m\u001b[1;33m\u001b[0m\u001b[1;33m\u001b[0m\u001b[0m\n",
      "\u001b[1;32mc:\\users\\andrej\\appdata\\local\\programs\\python\\python38\\lib\\site-packages\\sklearn\\ensemble\\_forest.py\u001b[0m in \u001b[0;36mpredict_proba\u001b[1;34m(self, X)\u001b[0m\n\u001b[0;32m    670\u001b[0m             \u001b[0mclasses\u001b[0m \u001b[0mcorresponds\u001b[0m \u001b[0mto\u001b[0m \u001b[0mthat\u001b[0m \u001b[1;32min\u001b[0m \u001b[0mthe\u001b[0m \u001b[0mattribute\u001b[0m \u001b[1;33m:\u001b[0m\u001b[0mterm\u001b[0m\u001b[1;33m:\u001b[0m\u001b[0;31m`\u001b[0m\u001b[0mclasses_\u001b[0m\u001b[0;31m`\u001b[0m\u001b[1;33m.\u001b[0m\u001b[1;33m\u001b[0m\u001b[1;33m\u001b[0m\u001b[0m\n\u001b[0;32m    671\u001b[0m         \"\"\"\n\u001b[1;32m--> 672\u001b[1;33m         \u001b[0mcheck_is_fitted\u001b[0m\u001b[1;33m(\u001b[0m\u001b[0mself\u001b[0m\u001b[1;33m)\u001b[0m\u001b[1;33m\u001b[0m\u001b[1;33m\u001b[0m\u001b[0m\n\u001b[0m\u001b[0;32m    673\u001b[0m         \u001b[1;31m# Check data\u001b[0m\u001b[1;33m\u001b[0m\u001b[1;33m\u001b[0m\u001b[1;33m\u001b[0m\u001b[0m\n\u001b[0;32m    674\u001b[0m         \u001b[0mX\u001b[0m \u001b[1;33m=\u001b[0m \u001b[0mself\u001b[0m\u001b[1;33m.\u001b[0m\u001b[0m_validate_X_predict\u001b[0m\u001b[1;33m(\u001b[0m\u001b[0mX\u001b[0m\u001b[1;33m)\u001b[0m\u001b[1;33m\u001b[0m\u001b[1;33m\u001b[0m\u001b[0m\n",
      "\u001b[1;32mc:\\users\\andrej\\appdata\\local\\programs\\python\\python38\\lib\\site-packages\\sklearn\\utils\\validation.py\u001b[0m in \u001b[0;36minner_f\u001b[1;34m(*args, **kwargs)\u001b[0m\n\u001b[0;32m     61\u001b[0m             \u001b[0mextra_args\u001b[0m \u001b[1;33m=\u001b[0m \u001b[0mlen\u001b[0m\u001b[1;33m(\u001b[0m\u001b[0margs\u001b[0m\u001b[1;33m)\u001b[0m \u001b[1;33m-\u001b[0m \u001b[0mlen\u001b[0m\u001b[1;33m(\u001b[0m\u001b[0mall_args\u001b[0m\u001b[1;33m)\u001b[0m\u001b[1;33m\u001b[0m\u001b[1;33m\u001b[0m\u001b[0m\n\u001b[0;32m     62\u001b[0m             \u001b[1;32mif\u001b[0m \u001b[0mextra_args\u001b[0m \u001b[1;33m<=\u001b[0m \u001b[1;36m0\u001b[0m\u001b[1;33m:\u001b[0m\u001b[1;33m\u001b[0m\u001b[1;33m\u001b[0m\u001b[0m\n\u001b[1;32m---> 63\u001b[1;33m                 \u001b[1;32mreturn\u001b[0m \u001b[0mf\u001b[0m\u001b[1;33m(\u001b[0m\u001b[1;33m*\u001b[0m\u001b[0margs\u001b[0m\u001b[1;33m,\u001b[0m \u001b[1;33m**\u001b[0m\u001b[0mkwargs\u001b[0m\u001b[1;33m)\u001b[0m\u001b[1;33m\u001b[0m\u001b[1;33m\u001b[0m\u001b[0m\n\u001b[0m\u001b[0;32m     64\u001b[0m \u001b[1;33m\u001b[0m\u001b[0m\n\u001b[0;32m     65\u001b[0m             \u001b[1;31m# extra_args > 0\u001b[0m\u001b[1;33m\u001b[0m\u001b[1;33m\u001b[0m\u001b[1;33m\u001b[0m\u001b[0m\n",
      "\u001b[1;32mc:\\users\\andrej\\appdata\\local\\programs\\python\\python38\\lib\\site-packages\\sklearn\\utils\\validation.py\u001b[0m in \u001b[0;36mcheck_is_fitted\u001b[1;34m(estimator, attributes, msg, all_or_any)\u001b[0m\n\u001b[0;32m   1096\u001b[0m \u001b[1;33m\u001b[0m\u001b[0m\n\u001b[0;32m   1097\u001b[0m     \u001b[1;32mif\u001b[0m \u001b[1;32mnot\u001b[0m \u001b[0mattrs\u001b[0m\u001b[1;33m:\u001b[0m\u001b[1;33m\u001b[0m\u001b[1;33m\u001b[0m\u001b[0m\n\u001b[1;32m-> 1098\u001b[1;33m         \u001b[1;32mraise\u001b[0m \u001b[0mNotFittedError\u001b[0m\u001b[1;33m(\u001b[0m\u001b[0mmsg\u001b[0m \u001b[1;33m%\u001b[0m \u001b[1;33m{\u001b[0m\u001b[1;34m'name'\u001b[0m\u001b[1;33m:\u001b[0m \u001b[0mtype\u001b[0m\u001b[1;33m(\u001b[0m\u001b[0mestimator\u001b[0m\u001b[1;33m)\u001b[0m\u001b[1;33m.\u001b[0m\u001b[0m__name__\u001b[0m\u001b[1;33m}\u001b[0m\u001b[1;33m)\u001b[0m\u001b[1;33m\u001b[0m\u001b[1;33m\u001b[0m\u001b[0m\n\u001b[0m\u001b[0;32m   1099\u001b[0m \u001b[1;33m\u001b[0m\u001b[0m\n\u001b[0;32m   1100\u001b[0m \u001b[1;33m\u001b[0m\u001b[0m\n",
      "\u001b[1;31mNotFittedError\u001b[0m: This RandomForestClassifier instance is not fitted yet. Call 'fit' with appropriate arguments before using this estimator."
     ]
    }
   ],
   "source": [
    "predictions_forest = forest.predict(X_test)\n",
    "forest_acc = evaluate(Y_test, predictions_forest)"
   ]
  },
  {
   "cell_type": "markdown",
   "id": "d99df402",
   "metadata": {},
   "source": [
    "# Other -------- UNRELATED -------\n",
    "under construction"
   ]
  },
  {
   "cell_type": "code",
   "execution_count": 124,
   "id": "876b49ce",
   "metadata": {},
   "outputs": [
    {
     "ename": "TypeError",
     "evalue": "'float' object is not subscriptable",
     "output_type": "error",
     "traceback": [
      "\u001b[1;31m---------------------------------------------------------------------------\u001b[0m",
      "\u001b[1;31mTypeError\u001b[0m                                 Traceback (most recent call last)",
      "\u001b[1;32mC:\\Users\\Public\\Documents\\Wondershare\\CreatorTemp/ipykernel_5472/373035110.py\u001b[0m in \u001b[0;36m<module>\u001b[1;34m\u001b[0m\n\u001b[0;32m      1\u001b[0m \u001b[1;31m# Feature importance for random forest\u001b[0m\u001b[1;33m\u001b[0m\u001b[1;33m\u001b[0m\u001b[1;33m\u001b[0m\u001b[0m\n\u001b[0;32m      2\u001b[0m fi = pd.DataFrame({'feature': list(X.columns),\n\u001b[1;32m----> 3\u001b[1;33m                    'importance': forest_acc['estimator'][0].feature_importances_}).\\\n\u001b[0m\u001b[0;32m      4\u001b[0m                     \u001b[0msort_values\u001b[0m\u001b[1;33m(\u001b[0m\u001b[1;34m'importance'\u001b[0m\u001b[1;33m,\u001b[0m \u001b[0mascending\u001b[0m \u001b[1;33m=\u001b[0m \u001b[1;32mFalse\u001b[0m\u001b[1;33m)\u001b[0m\u001b[1;33m\u001b[0m\u001b[1;33m\u001b[0m\u001b[0m\n\u001b[0;32m      5\u001b[0m \u001b[0mfi\u001b[0m\u001b[1;33m.\u001b[0m\u001b[0mhead\u001b[0m\u001b[1;33m(\u001b[0m\u001b[1;36m20\u001b[0m\u001b[1;33m)\u001b[0m\u001b[1;33m\u001b[0m\u001b[1;33m\u001b[0m\u001b[0m\n",
      "\u001b[1;31mTypeError\u001b[0m: 'float' object is not subscriptable"
     ]
    }
   ],
   "source": [
    "# Feature importance for random forest\n",
    "fi = pd.DataFrame({'feature': list(X.columns),\n",
    "                   'importance': forest_acc['estimator'][0].feature_importances_}).\\\n",
    "                    sort_values('importance', ascending = False)\n",
    "fi.head(20)"
   ]
  },
  {
   "cell_type": "markdown",
   "id": "e390ced9",
   "metadata": {},
   "source": [
    "## Automatic feature selection"
   ]
  },
  {
   "cell_type": "code",
   "execution_count": 228,
   "id": "adc70e4a",
   "metadata": {},
   "outputs": [],
   "source": [
    "# def select_features(df, k=5):\n",
    "#     df_new = df.drop([\"Author\"], axis=1)\n",
    "#     indicators_indexed = []\n",
    "#     for x in df['Author']:\n",
    "#         indicators_indexed.append(x)\n",
    "# #     print(len(indicators_indexed))\n",
    "#     # print(df_normal)\n",
    "#     np.random.seed(1)\n",
    "#     selector = SelectKBest(chi2, k=k)\n",
    "# #     selector = SelectKBest(mutual_info_regression, k=k)\n",
    "#     k_best_features = selector.fit_transform(df_new.values, indicators_indexed)\n",
    "#     print(selector.get_support(1))\n",
    "#     return (k_best_features, selector.get_support())"
   ]
  },
  {
   "cell_type": "code",
   "execution_count": 229,
   "id": "5cfffeb5",
   "metadata": {},
   "outputs": [],
   "source": [
    "# feat, mask = select_features(df_train, 6)\n",
    "\n",
    "# new_features = df_train.drop([\"Author\"], axis=1).columns[mask]\n",
    "# new_features\n",
    "# # print(ind)\n",
    "# df_positional = df_all[new_features]\n",
    "# df_positional[\"Author\"] = df_all[\"Author\"]\n",
    "# df_positional.info()"
   ]
  },
  {
   "cell_type": "code",
   "execution_count": 21,
   "id": "71c92d0f",
   "metadata": {},
   "outputs": [
    {
     "data": {
      "image/png": "[encoded data removed]",
      "text/plain": [
       "<Figure size 864x288 with 1 Axes>"
      ]
     },
     "metadata": {
      "needs_background": "light"
     },
     "output_type": "display_data"
    }
   ],
   "source": [
    "import numpy as np\n",
    "import matplotlib.pyplot as plt\n",
    "# Schler results\n",
    "# df_viz = pd.DataFrame({'accuracy_dt': [  0.21458333333333335,\n",
    "#                                          0.39166666666666666,\n",
    "#                                          0.39375,\n",
    "#                                          0.4125\n",
    "#                                       ],\n",
    "#                        'std_dt':      [  0.061130836463005045,\n",
    "#                                          0.055746200667748554,\n",
    "#                                          0.05547302898205977,\n",
    "#                                          0.07144345083117601\n",
    "#                                       ],\n",
    "                       \n",
    "#              'accuracy_forest': [0.375,\n",
    "#                                  0.54375,\n",
    "#                                  0.5916666666666667,\n",
    "#                                  0.525\n",
    "#                                 ],\n",
    "#              'std_forest': [     0.04564354645876384,\n",
    "#                                  0.07123050415532817,\n",
    "#                                  0.059802917060030526,\n",
    "#                                  0.0832291014809924\n",
    "#                            ],\n",
    "                       \n",
    "#              'feature_sets': [  'PoS+M',\n",
    "#                                 'PoS+M+Rune',\n",
    "#                                 'PoS+M+Rune+Swap',\n",
    "#                                 'Rune+M+Swap'],\n",
    "#                       })\n",
    "\n",
    "# 64 authors, 100 texts per author\n",
    "df_viz = pd.DataFrame({'accuracy_dt': [  0.12378643388106417,\n",
    "                                         0.18615585876369325,\n",
    "                                         0.21194811228482005,\n",
    "                                         0.20646933685446012\n",
    "                                      ],\n",
    "                       'std_dt':      [  0.01393656059439675,\n",
    "                                         0.00957214614515149,\n",
    "                                         0.01568375570895567,\n",
    "                                         0.019806577268027568\n",
    "                                      ],\n",
    "                       \n",
    "             'accuracy_forest': [0.23320080203442878,\n",
    "                                 0.33198503521126765,\n",
    "                                 0.35449041471048515,\n",
    "                                 0.3193163145539906\n",
    "                                ],\n",
    "             'std_forest': [     0.01049702279841128,\n",
    "                                 0.01974326428687065,\n",
    "                                 0.021420555668516937,\n",
    "                                 0.012759292892852388\n",
    "                           ],\n",
    "                       \n",
    "             'feature_sets': [  'PoS+M',\n",
    "                                'PoS+M+Rune',\n",
    "                                'PoS+M+Rune+Swap',\n",
    "                                'Rune+M+Swap'],\n",
    "                      })\n",
    "\n",
    "fig, ax = plt.subplots()\n",
    "fig.set_size_inches(12, 4)\n",
    "plt.ylim(0, 1)\n",
    "\n",
    "plt.bar(df_viz['feature_sets'], df_viz['accuracy_forest'], color='lightblue')\n",
    "plt.bar(df_viz['feature_sets'], df_viz['accuracy_dt'], color='lightgreen')\n",
    "plt.errorbar(df_viz['feature_sets'], df_viz['accuracy_forest'], color='blue', yerr=df_viz['std_forest'], fmt='o')\n",
    "plt.errorbar(df_viz['feature_sets'], df_viz['accuracy_dt'], color='green', yerr=df_viz['std_dt'], fmt='o')\n",
    "\n",
    "ax.bar_label(ax.containers[0], fmt=\"             %.3g\")\n",
    "ax.bar_label(ax.containers[1], fmt=\"             %.3g\")\n",
    "ax.legend(['Random Forest', 'Decision Tree'])\n",
    "ax.yaxis.grid(True)\n",
    "plt.show()\n"
   ]
  },
  {
   "cell_type": "code",
   "execution_count": 97,
   "id": "fae7b093",
   "metadata": {
    "scrolled": false
   },
   "outputs": [
    {
     "name": "stdout",
     "output_type": "stream",
     "text": [
      "6400\n"
     ]
    },
    {
     "data": {
      "image/png": "[encoded data removed]",
      "text/plain": [
       "<Figure size 427.75x360 with 1 Axes>"
      ]
     },
     "metadata": {
      "needs_background": "light"
     },
     "output_type": "display_data"
    },
    {
     "data": {
      "image/png": "[encoded data removed]",
      "text/plain": [
       "<Figure size 427.75x360 with 1 Axes>"
      ]
     },
     "metadata": {
      "needs_background": "light"
     },
     "output_type": "display_data"
    },
    {
     "data": {
      "image/png": "[encoded data removed]",
      "text/plain": [
       "<Figure size 427.75x360 with 1 Axes>"
      ]
     },
     "metadata": {
      "needs_background": "light"
     },
     "output_type": "display_data"
    },
    {
     "data": {
      "image/png": "[encoded data removed]",
      "text/plain": [
       "<Figure size 427.75x360 with 1 Axes>"
      ]
     },
     "metadata": {
      "needs_background": "light"
     },
     "output_type": "display_data"
    }
   ],
   "source": [
    "df_viz = df_all\n",
    "print(len(df_viz))\n",
    "\n",
    "all_authors = df_all[\"Author\"].unique()\n",
    "split_authors_viz = np.random.choice(all_authors, size=6)\n",
    "df_viz = df_viz[df_viz[\"Author\"].isin(split_authors_viz)]\n",
    "df_viz = df_viz.sample(int(len(df_viz)/4))\n",
    "sns.set_palette(\"tab10\")\n",
    "viz_cols = [  'Downerror_pertokens',\n",
    "              'Lefterror_pertokens',\n",
    "              'Righterror_pertokens',\n",
    "              'Toperror_pertokens',\n",
    "              ]\n",
    "\n",
    "for x in viz_cols:\n",
    "    grid = sns.lmplot(x, 'Misspellratio', data=df_viz, hue='Author', fit_reg=False)\n",
    "    grid.set(xscale=\"log\", yscale=\"log\").set(xlim=(0,1),ylim=(0,1))\n",
    "    fig = grid.fig\n",
    "    fig.savefig('figures/64authors_top3grams_swaps_blogtext_100articles_Misspellratio_'+str(x)+'.png')\n",
    "\n"
   ]
  },
  {
   "cell_type": "code",
   "execution_count": null,
   "id": "05433135",
   "metadata": {},
   "outputs": [],
   "source": []
  }
 ],
 "metadata": {
  "kernelspec": {
   "display_name": "Python 3 (ipykernel)",
   "language": "python",
   "name": "python3"
  },
  "language_info": {
   "codemirror_mode": {
    "name": "ipython",
    "version": 3
   },
   "file_extension": ".py",
   "mimetype": "text/x-python",
   "name": "python",
   "nbconvert_exporter": "python",
   "pygments_lexer": "ipython3",
   "version": "3.8.3"
  }
 },
 "nbformat": 4,
 "nbformat_minor": 5
}
