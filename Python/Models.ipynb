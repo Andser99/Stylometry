{
 "cells": [
  {
   "cell_type": "markdown",
   "id": "e9c6f5e5",
   "metadata": {},
   "source": [
    "# Stylometry - model training\n",
    "\n",
    "### Used classifiers\n",
    " - Decision Tree\n",
    " - kNN (NYI)\n",
    " - SVM (NYI)\n",
    " \n",
    " \n",
    " - ? Logistic Regression (NYI)"
   ]
  },
  {
   "cell_type": "markdown",
   "id": "255418f1",
   "metadata": {},
   "source": [
    "## Imports"
   ]
  },
  {
   "cell_type": "code",
   "execution_count": 41,
   "id": "d9f23b68",
   "metadata": {},
   "outputs": [],
   "source": [
    "import matplotlib\n",
    "import matplotlib.pylab as pylab\n",
    "import matplotlib.pyplot as plt\n",
    "import seaborn as sns\n",
    "import pandas as pd\n",
    "import numpy as np\n",
    "import scipy\n",
    "import scipy.stats as stats\n",
    "import seaborn as sns\n",
    "import statsmodels.api as sm\n",
    "import statsmodels.stats.api as sms\n",
    "from sklearn import preprocessing\n",
    "from dateutil import parser\n",
    "import statistics\n",
    "from sklearn.preprocessing import StandardScaler, MinMaxScaler\n",
    "from sklearn.feature_selection import SelectKBest, mutual_info_regression, chi2, f_regression\n",
    "from sklearn.neural_network import MLPRegressor\n",
    "from sklearn.model_selection import train_test_split, GridSearchCV, StratifiedShuffleSplit\n",
    "from sklearn.impute import KNNImputer\n",
    "from sklearn import tree, svm\n",
    "from sklearn.ensemble import RandomForestClassifier, AdaBoostClassifier\n",
    "from sklearn import metrics\n",
    "from skmultilearn.model_selection import IterativeStratification\n",
    "from sklearn.linear_model import LogisticRegression\n",
    "import gc\n",
    "import warnings\n",
    "warnings.filterwarnings('ignore')"
   ]
  },
  {
   "cell_type": "markdown",
   "id": "498e6734",
   "metadata": {},
   "source": [
    "## Helper functions"
   ]
  },
  {
   "cell_type": "code",
   "execution_count": 42,
   "id": "d34e2f58",
   "metadata": {},
   "outputs": [],
   "source": [
    "def scale(df_to_scale, ignored_cols):\n",
    "    cols_to_scale = df_to_scale.drop(ignored_cols , axis=1).columns\n",
    "    min_max_scaler = MinMaxScaler()\n",
    "    df_to_scale[cols_to_scale] = min_max_scaler.fit_transform(df_to_scale[cols_to_scale])\n",
    "    df.info()\n",
    "    return df_to_scale"
   ]
  },
  {
   "cell_type": "code",
   "execution_count": 43,
   "id": "d0fc4d83",
   "metadata": {},
   "outputs": [],
   "source": [
    "def evaluate(real, predicted):\n",
    "    print(\"Evaluation: \")\n",
    "    countGood = 0\n",
    "    total = len(real)\n",
    "    falsePos = 0\n",
    "    falseNeg = 0\n",
    "    truePos = 0\n",
    "    trueNeg = 0\n",
    "    if total != len(predicted):\n",
    "        print(\"Non-matching sample lengths\")\n",
    "        return None\n",
    "    for i in range(0, total):\n",
    "        countGood += 1 if real[i] == predicted[i] else 0\n",
    "\n",
    "    # accuracy = str(countGood / total)\n",
    "    # precision = str(truePos / (truePos + falsePos))\n",
    "    # recall = str(truePos / (truePos + falseNeg))\n",
    "    \n",
    "    print(\"accuracy \" + str(countGood / total))\n",
    "    return countGood / total"
   ]
  },
  {
   "cell_type": "markdown",
   "id": "d8159def",
   "metadata": {},
   "source": [
    "## Data import\n",
    "\\+calculate positional error occurence per token"
   ]
  },
  {
   "cell_type": "code",
   "execution_count": 82,
   "id": "6fb8b325",
   "metadata": {
    "scrolled": true
   },
   "outputs": [
    {
     "name": "stdout",
     "output_type": "stream",
     "text": [
      "<class 'pandas.core.frame.DataFrame'>\n",
      "RangeIndex: 1800 entries, 0 to 1799\n",
      "Columns: 2304 entries, Author to Downerror_pertokens\n",
      "dtypes: float64(2267), int64(36), object(1)\n",
      "memory usage: 31.6+ MB\n"
     ]
    },
    {
     "data": {
      "text/html": [
       "<div>\n",
       "<style scoped>\n",
       "    .dataframe tbody tr th:only-of-type {\n",
       "        vertical-align: middle;\n",
       "    }\n",
       "\n",
       "    .dataframe tbody tr th {\n",
       "        vertical-align: top;\n",
       "    }\n",
       "\n",
       "    .dataframe thead th {\n",
       "        text-align: right;\n",
       "    }\n",
       "</style>\n",
       "<table border=\"1\" class=\"dataframe\">\n",
       "  <thead>\n",
       "    <tr style=\"text-align: right;\">\n",
       "      <th></th>\n",
       "      <th>Author</th>\n",
       "      <th>UppercaseLetter</th>\n",
       "      <th>UppercaseLetter_pertokens</th>\n",
       "      <th>LowercaseLetter</th>\n",
       "      <th>LowercaseLetter_pertokens</th>\n",
       "      <th>TitlecaseLetter</th>\n",
       "      <th>TitlecaseLetter_pertokens</th>\n",
       "      <th>ModifierLetter</th>\n",
       "      <th>ModifierLetter_pertokens</th>\n",
       "      <th>OtherLetter</th>\n",
       "      <th>...</th>\n",
       "      <th>swap_ _m</th>\n",
       "      <th>swap_ _CO</th>\n",
       "      <th>swap_ _.</th>\n",
       "      <th>swap_ _/</th>\n",
       "      <th>swap_ _</th>\n",
       "      <th>Tokens</th>\n",
       "      <th>Toperror_pertokens</th>\n",
       "      <th>Lefterror_pertokens</th>\n",
       "      <th>Righterror_pertokens</th>\n",
       "      <th>Downerror_pertokens</th>\n",
       "    </tr>\n",
       "  </thead>\n",
       "  <tbody>\n",
       "    <tr>\n",
       "      <th>0</th>\n",
       "      <td>1021</td>\n",
       "      <td>1</td>\n",
       "      <td>0.071</td>\n",
       "      <td>59</td>\n",
       "      <td>4.214</td>\n",
       "      <td>0</td>\n",
       "      <td>0.0</td>\n",
       "      <td>0</td>\n",
       "      <td>0.0</td>\n",
       "      <td>0</td>\n",
       "      <td>...</td>\n",
       "      <td>0.0</td>\n",
       "      <td>0.0</td>\n",
       "      <td>0.0</td>\n",
       "      <td>0.0</td>\n",
       "      <td>0.0</td>\n",
       "      <td>14</td>\n",
       "      <td>0.0</td>\n",
       "      <td>0.000000</td>\n",
       "      <td>0.0</td>\n",
       "      <td>0.0</td>\n",
       "    </tr>\n",
       "    <tr>\n",
       "      <th>1</th>\n",
       "      <td>1021</td>\n",
       "      <td>2</td>\n",
       "      <td>0.182</td>\n",
       "      <td>45</td>\n",
       "      <td>4.091</td>\n",
       "      <td>0</td>\n",
       "      <td>0.0</td>\n",
       "      <td>0</td>\n",
       "      <td>0.0</td>\n",
       "      <td>0</td>\n",
       "      <td>...</td>\n",
       "      <td>0.0</td>\n",
       "      <td>0.0</td>\n",
       "      <td>0.0</td>\n",
       "      <td>0.0</td>\n",
       "      <td>0.0</td>\n",
       "      <td>11</td>\n",
       "      <td>0.0</td>\n",
       "      <td>0.000000</td>\n",
       "      <td>0.0</td>\n",
       "      <td>0.0</td>\n",
       "    </tr>\n",
       "    <tr>\n",
       "      <th>2</th>\n",
       "      <td>1021</td>\n",
       "      <td>11</td>\n",
       "      <td>0.229</td>\n",
       "      <td>99</td>\n",
       "      <td>2.063</td>\n",
       "      <td>0</td>\n",
       "      <td>0.0</td>\n",
       "      <td>0</td>\n",
       "      <td>0.0</td>\n",
       "      <td>0</td>\n",
       "      <td>...</td>\n",
       "      <td>0.0</td>\n",
       "      <td>0.0</td>\n",
       "      <td>0.0</td>\n",
       "      <td>0.0</td>\n",
       "      <td>0.0</td>\n",
       "      <td>48</td>\n",
       "      <td>0.0</td>\n",
       "      <td>0.041667</td>\n",
       "      <td>0.0</td>\n",
       "      <td>0.0</td>\n",
       "    </tr>\n",
       "  </tbody>\n",
       "</table>\n",
       "<p>3 rows × 2304 columns</p>\n",
       "</div>"
      ],
      "text/plain": [
       "   Author  UppercaseLetter  UppercaseLetter_pertokens  LowercaseLetter  \\\n",
       "0    1021                1                      0.071               59   \n",
       "1    1021                2                      0.182               45   \n",
       "2    1021               11                      0.229               99   \n",
       "\n",
       "   LowercaseLetter_pertokens  TitlecaseLetter  TitlecaseLetter_pertokens  \\\n",
       "0                      4.214                0                        0.0   \n",
       "1                      4.091                0                        0.0   \n",
       "2                      2.063                0                        0.0   \n",
       "\n",
       "   ModifierLetter  ModifierLetter_pertokens  OtherLetter  ...  swap_ _m  \\\n",
       "0               0                       0.0            0  ...       0.0   \n",
       "1               0                       0.0            0  ...       0.0   \n",
       "2               0                       0.0            0  ...       0.0   \n",
       "\n",
       "   swap_ _CO  swap_ _.  swap_ _/  swap_ _   Tokens  Toperror_pertokens  \\\n",
       "0        0.0       0.0       0.0       0.0      14                 0.0   \n",
       "1        0.0       0.0       0.0       0.0      11                 0.0   \n",
       "2        0.0       0.0       0.0       0.0      48                 0.0   \n",
       "\n",
       "   Lefterror_pertokens  Righterror_pertokens  Downerror_pertokens  \n",
       "0             0.000000                   0.0                  0.0  \n",
       "1             0.000000                   0.0                  0.0  \n",
       "2             0.041667                   0.0                  0.0  \n",
       "\n",
       "[3 rows x 2304 columns]"
      ]
     },
     "execution_count": 82,
     "metadata": {},
     "output_type": "execute_result"
    }
   ],
   "source": [
    "\n",
    "df = pd.read_csv('sample_100articles_3grams_swaps.csv', sep=',')\n",
    "df['Toperror_pertokens'] = df['Toperror'] / df['Tokens']\n",
    "df['Lefterror_pertokens'] = df['Lefterror'] / df['Tokens']\n",
    "df['Righterror_pertokens'] = df['Righterror'] / df['Tokens']\n",
    "df['Downerror_pertokens'] = df['Downerror'] / df['Tokens']\n",
    "df.info()\n",
    "df.head(3)"
   ]
  },
  {
   "cell_type": "code",
   "execution_count": 83,
   "id": "05cdee65",
   "metadata": {},
   "outputs": [],
   "source": [
    "df = df.replace(\"∞\", \"0\")"
   ]
  },
  {
   "cell_type": "code",
   "execution_count": 84,
   "id": "3b418a77",
   "metadata": {},
   "outputs": [
    {
     "name": "stdout",
     "output_type": "stream",
     "text": [
      "<class 'pandas.core.frame.DataFrame'>\n",
      "RangeIndex: 1800 entries, 0 to 1799\n",
      "Columns: 2304 entries, Author to Downerror_pertokens\n",
      "dtypes: float64(2302), int64(2)\n",
      "memory usage: 31.6 MB\n"
     ]
    },
    {
     "data": {
      "text/html": [
       "<div>\n",
       "<style scoped>\n",
       "    .dataframe tbody tr th:only-of-type {\n",
       "        vertical-align: middle;\n",
       "    }\n",
       "\n",
       "    .dataframe tbody tr th {\n",
       "        vertical-align: top;\n",
       "    }\n",
       "\n",
       "    .dataframe thead th {\n",
       "        text-align: right;\n",
       "    }\n",
       "</style>\n",
       "<table border=\"1\" class=\"dataframe\">\n",
       "  <thead>\n",
       "    <tr style=\"text-align: right;\">\n",
       "      <th></th>\n",
       "      <th>Author</th>\n",
       "      <th>UppercaseLetter</th>\n",
       "      <th>UppercaseLetter_pertokens</th>\n",
       "      <th>LowercaseLetter</th>\n",
       "      <th>LowercaseLetter_pertokens</th>\n",
       "      <th>TitlecaseLetter</th>\n",
       "      <th>TitlecaseLetter_pertokens</th>\n",
       "      <th>ModifierLetter</th>\n",
       "      <th>ModifierLetter_pertokens</th>\n",
       "      <th>OtherLetter</th>\n",
       "      <th>...</th>\n",
       "      <th>swap_ _m</th>\n",
       "      <th>swap_ _CO</th>\n",
       "      <th>swap_ _.</th>\n",
       "      <th>swap_ _/</th>\n",
       "      <th>swap_ _</th>\n",
       "      <th>Tokens</th>\n",
       "      <th>Toperror_pertokens</th>\n",
       "      <th>Lefterror_pertokens</th>\n",
       "      <th>Righterror_pertokens</th>\n",
       "      <th>Downerror_pertokens</th>\n",
       "    </tr>\n",
       "  </thead>\n",
       "  <tbody>\n",
       "    <tr>\n",
       "      <th>0</th>\n",
       "      <td>1021</td>\n",
       "      <td>0.001239</td>\n",
       "      <td>0.017212</td>\n",
       "      <td>0.002489</td>\n",
       "      <td>0.491658</td>\n",
       "      <td>0.0</td>\n",
       "      <td>0.0</td>\n",
       "      <td>0.0</td>\n",
       "      <td>0.0</td>\n",
       "      <td>0.0</td>\n",
       "      <td>...</td>\n",
       "      <td>0.0</td>\n",
       "      <td>0.0</td>\n",
       "      <td>0.0</td>\n",
       "      <td>0.0</td>\n",
       "      <td>0.0</td>\n",
       "      <td>14</td>\n",
       "      <td>0.0</td>\n",
       "      <td>0.000000</td>\n",
       "      <td>0.000000</td>\n",
       "      <td>0.000000</td>\n",
       "    </tr>\n",
       "    <tr>\n",
       "      <th>1</th>\n",
       "      <td>1021</td>\n",
       "      <td>0.002478</td>\n",
       "      <td>0.044121</td>\n",
       "      <td>0.001898</td>\n",
       "      <td>0.477307</td>\n",
       "      <td>0.0</td>\n",
       "      <td>0.0</td>\n",
       "      <td>0.0</td>\n",
       "      <td>0.0</td>\n",
       "      <td>0.0</td>\n",
       "      <td>...</td>\n",
       "      <td>0.0</td>\n",
       "      <td>0.0</td>\n",
       "      <td>0.0</td>\n",
       "      <td>0.0</td>\n",
       "      <td>0.0</td>\n",
       "      <td>11</td>\n",
       "      <td>0.0</td>\n",
       "      <td>0.000000</td>\n",
       "      <td>0.000000</td>\n",
       "      <td>0.000000</td>\n",
       "    </tr>\n",
       "    <tr>\n",
       "      <th>2</th>\n",
       "      <td>1021</td>\n",
       "      <td>0.013631</td>\n",
       "      <td>0.055515</td>\n",
       "      <td>0.004176</td>\n",
       "      <td>0.240695</td>\n",
       "      <td>0.0</td>\n",
       "      <td>0.0</td>\n",
       "      <td>0.0</td>\n",
       "      <td>0.0</td>\n",
       "      <td>0.0</td>\n",
       "      <td>...</td>\n",
       "      <td>0.0</td>\n",
       "      <td>0.0</td>\n",
       "      <td>0.0</td>\n",
       "      <td>0.0</td>\n",
       "      <td>0.0</td>\n",
       "      <td>48</td>\n",
       "      <td>0.0</td>\n",
       "      <td>0.166667</td>\n",
       "      <td>0.000000</td>\n",
       "      <td>0.000000</td>\n",
       "    </tr>\n",
       "    <tr>\n",
       "      <th>3</th>\n",
       "      <td>1021</td>\n",
       "      <td>0.004957</td>\n",
       "      <td>0.042182</td>\n",
       "      <td>0.003712</td>\n",
       "      <td>0.446389</td>\n",
       "      <td>0.0</td>\n",
       "      <td>0.0</td>\n",
       "      <td>0.0</td>\n",
       "      <td>0.0</td>\n",
       "      <td>0.0</td>\n",
       "      <td>...</td>\n",
       "      <td>0.0</td>\n",
       "      <td>0.0</td>\n",
       "      <td>0.0</td>\n",
       "      <td>0.0</td>\n",
       "      <td>0.0</td>\n",
       "      <td>23</td>\n",
       "      <td>0.0</td>\n",
       "      <td>0.000000</td>\n",
       "      <td>0.086957</td>\n",
       "      <td>0.000000</td>\n",
       "    </tr>\n",
       "    <tr>\n",
       "      <th>4</th>\n",
       "      <td>1021</td>\n",
       "      <td>0.018587</td>\n",
       "      <td>0.038303</td>\n",
       "      <td>0.015650</td>\n",
       "      <td>0.455606</td>\n",
       "      <td>0.0</td>\n",
       "      <td>0.0</td>\n",
       "      <td>0.0</td>\n",
       "      <td>0.0</td>\n",
       "      <td>0.0</td>\n",
       "      <td>...</td>\n",
       "      <td>0.0</td>\n",
       "      <td>0.0</td>\n",
       "      <td>0.0</td>\n",
       "      <td>0.0</td>\n",
       "      <td>0.0</td>\n",
       "      <td>95</td>\n",
       "      <td>0.0</td>\n",
       "      <td>0.084211</td>\n",
       "      <td>0.000000</td>\n",
       "      <td>0.075439</td>\n",
       "    </tr>\n",
       "    <tr>\n",
       "      <th>...</th>\n",
       "      <td>...</td>\n",
       "      <td>...</td>\n",
       "      <td>...</td>\n",
       "      <td>...</td>\n",
       "      <td>...</td>\n",
       "      <td>...</td>\n",
       "      <td>...</td>\n",
       "      <td>...</td>\n",
       "      <td>...</td>\n",
       "      <td>...</td>\n",
       "      <td>...</td>\n",
       "      <td>...</td>\n",
       "      <td>...</td>\n",
       "      <td>...</td>\n",
       "      <td>...</td>\n",
       "      <td>...</td>\n",
       "      <td>...</td>\n",
       "      <td>...</td>\n",
       "      <td>...</td>\n",
       "      <td>...</td>\n",
       "      <td>...</td>\n",
       "    </tr>\n",
       "    <tr>\n",
       "      <th>1795</th>\n",
       "      <td>1317</td>\n",
       "      <td>0.049566</td>\n",
       "      <td>0.027636</td>\n",
       "      <td>0.049566</td>\n",
       "      <td>0.389453</td>\n",
       "      <td>0.0</td>\n",
       "      <td>0.0</td>\n",
       "      <td>0.0</td>\n",
       "      <td>0.0</td>\n",
       "      <td>0.0</td>\n",
       "      <td>...</td>\n",
       "      <td>0.0</td>\n",
       "      <td>0.0</td>\n",
       "      <td>0.0</td>\n",
       "      <td>0.0</td>\n",
       "      <td>0.0</td>\n",
       "      <td>352</td>\n",
       "      <td>0.0</td>\n",
       "      <td>0.011364</td>\n",
       "      <td>0.000000</td>\n",
       "      <td>0.000000</td>\n",
       "    </tr>\n",
       "    <tr>\n",
       "      <th>1796</th>\n",
       "      <td>1317</td>\n",
       "      <td>0.013631</td>\n",
       "      <td>0.031030</td>\n",
       "      <td>0.012866</td>\n",
       "      <td>0.413837</td>\n",
       "      <td>0.0</td>\n",
       "      <td>0.0</td>\n",
       "      <td>0.0</td>\n",
       "      <td>0.0</td>\n",
       "      <td>0.0</td>\n",
       "      <td>...</td>\n",
       "      <td>0.0</td>\n",
       "      <td>0.0</td>\n",
       "      <td>0.0</td>\n",
       "      <td>0.0</td>\n",
       "      <td>0.0</td>\n",
       "      <td>86</td>\n",
       "      <td>0.0</td>\n",
       "      <td>0.000000</td>\n",
       "      <td>0.000000</td>\n",
       "      <td>0.000000</td>\n",
       "    </tr>\n",
       "    <tr>\n",
       "      <th>1797</th>\n",
       "      <td>1317</td>\n",
       "      <td>0.004957</td>\n",
       "      <td>0.026909</td>\n",
       "      <td>0.006074</td>\n",
       "      <td>0.466690</td>\n",
       "      <td>0.0</td>\n",
       "      <td>0.0</td>\n",
       "      <td>0.0</td>\n",
       "      <td>0.0</td>\n",
       "      <td>0.0</td>\n",
       "      <td>...</td>\n",
       "      <td>0.0</td>\n",
       "      <td>0.0</td>\n",
       "      <td>0.0</td>\n",
       "      <td>0.0</td>\n",
       "      <td>0.0</td>\n",
       "      <td>36</td>\n",
       "      <td>0.0</td>\n",
       "      <td>0.111111</td>\n",
       "      <td>0.000000</td>\n",
       "      <td>0.000000</td>\n",
       "    </tr>\n",
       "    <tr>\n",
       "      <th>1798</th>\n",
       "      <td>1317</td>\n",
       "      <td>0.016109</td>\n",
       "      <td>0.017697</td>\n",
       "      <td>0.024804</td>\n",
       "      <td>0.385369</td>\n",
       "      <td>0.0</td>\n",
       "      <td>0.0</td>\n",
       "      <td>0.0</td>\n",
       "      <td>0.0</td>\n",
       "      <td>0.0</td>\n",
       "      <td>...</td>\n",
       "      <td>0.0</td>\n",
       "      <td>0.0</td>\n",
       "      <td>0.0</td>\n",
       "      <td>0.0</td>\n",
       "      <td>0.0</td>\n",
       "      <td>178</td>\n",
       "      <td>0.0</td>\n",
       "      <td>0.000000</td>\n",
       "      <td>0.005618</td>\n",
       "      <td>0.000000</td>\n",
       "    </tr>\n",
       "    <tr>\n",
       "      <th>1799</th>\n",
       "      <td>1317</td>\n",
       "      <td>0.033457</td>\n",
       "      <td>0.100606</td>\n",
       "      <td>0.008310</td>\n",
       "      <td>0.353634</td>\n",
       "      <td>0.0</td>\n",
       "      <td>0.0</td>\n",
       "      <td>0.0</td>\n",
       "      <td>0.0</td>\n",
       "      <td>0.0</td>\n",
       "      <td>...</td>\n",
       "      <td>0.0</td>\n",
       "      <td>0.0</td>\n",
       "      <td>0.0</td>\n",
       "      <td>0.0</td>\n",
       "      <td>0.0</td>\n",
       "      <td>65</td>\n",
       "      <td>0.0</td>\n",
       "      <td>0.000000</td>\n",
       "      <td>0.000000</td>\n",
       "      <td>0.000000</td>\n",
       "    </tr>\n",
       "  </tbody>\n",
       "</table>\n",
       "<p>1800 rows × 2304 columns</p>\n",
       "</div>"
      ],
      "text/plain": [
       "      Author  UppercaseLetter  UppercaseLetter_pertokens  LowercaseLetter  \\\n",
       "0       1021         0.001239                   0.017212         0.002489   \n",
       "1       1021         0.002478                   0.044121         0.001898   \n",
       "2       1021         0.013631                   0.055515         0.004176   \n",
       "3       1021         0.004957                   0.042182         0.003712   \n",
       "4       1021         0.018587                   0.038303         0.015650   \n",
       "...      ...              ...                        ...              ...   \n",
       "1795    1317         0.049566                   0.027636         0.049566   \n",
       "1796    1317         0.013631                   0.031030         0.012866   \n",
       "1797    1317         0.004957                   0.026909         0.006074   \n",
       "1798    1317         0.016109                   0.017697         0.024804   \n",
       "1799    1317         0.033457                   0.100606         0.008310   \n",
       "\n",
       "      LowercaseLetter_pertokens  TitlecaseLetter  TitlecaseLetter_pertokens  \\\n",
       "0                      0.491658              0.0                        0.0   \n",
       "1                      0.477307              0.0                        0.0   \n",
       "2                      0.240695              0.0                        0.0   \n",
       "3                      0.446389              0.0                        0.0   \n",
       "4                      0.455606              0.0                        0.0   \n",
       "...                         ...              ...                        ...   \n",
       "1795                   0.389453              0.0                        0.0   \n",
       "1796                   0.413837              0.0                        0.0   \n",
       "1797                   0.466690              0.0                        0.0   \n",
       "1798                   0.385369              0.0                        0.0   \n",
       "1799                   0.353634              0.0                        0.0   \n",
       "\n",
       "      ModifierLetter  ModifierLetter_pertokens  OtherLetter  ...  swap_ _m  \\\n",
       "0                0.0                       0.0          0.0  ...       0.0   \n",
       "1                0.0                       0.0          0.0  ...       0.0   \n",
       "2                0.0                       0.0          0.0  ...       0.0   \n",
       "3                0.0                       0.0          0.0  ...       0.0   \n",
       "4                0.0                       0.0          0.0  ...       0.0   \n",
       "...              ...                       ...          ...  ...       ...   \n",
       "1795             0.0                       0.0          0.0  ...       0.0   \n",
       "1796             0.0                       0.0          0.0  ...       0.0   \n",
       "1797             0.0                       0.0          0.0  ...       0.0   \n",
       "1798             0.0                       0.0          0.0  ...       0.0   \n",
       "1799             0.0                       0.0          0.0  ...       0.0   \n",
       "\n",
       "      swap_ _CO  swap_ _.  swap_ _/  swap_ _   Tokens  Toperror_pertokens  \\\n",
       "0           0.0       0.0       0.0       0.0      14                 0.0   \n",
       "1           0.0       0.0       0.0       0.0      11                 0.0   \n",
       "2           0.0       0.0       0.0       0.0      48                 0.0   \n",
       "3           0.0       0.0       0.0       0.0      23                 0.0   \n",
       "4           0.0       0.0       0.0       0.0      95                 0.0   \n",
       "...         ...       ...       ...       ...     ...                 ...   \n",
       "1795        0.0       0.0       0.0       0.0     352                 0.0   \n",
       "1796        0.0       0.0       0.0       0.0      86                 0.0   \n",
       "1797        0.0       0.0       0.0       0.0      36                 0.0   \n",
       "1798        0.0       0.0       0.0       0.0     178                 0.0   \n",
       "1799        0.0       0.0       0.0       0.0      65                 0.0   \n",
       "\n",
       "      Lefterror_pertokens  Righterror_pertokens  Downerror_pertokens  \n",
       "0                0.000000              0.000000             0.000000  \n",
       "1                0.000000              0.000000             0.000000  \n",
       "2                0.166667              0.000000             0.000000  \n",
       "3                0.000000              0.086957             0.000000  \n",
       "4                0.084211              0.000000             0.075439  \n",
       "...                   ...                   ...                  ...  \n",
       "1795             0.011364              0.000000             0.000000  \n",
       "1796             0.000000              0.000000             0.000000  \n",
       "1797             0.111111              0.000000             0.000000  \n",
       "1798             0.000000              0.005618             0.000000  \n",
       "1799             0.000000              0.000000             0.000000  \n",
       "\n",
       "[1800 rows x 2304 columns]"
      ]
     },
     "execution_count": 84,
     "metadata": {},
     "output_type": "execute_result"
    }
   ],
   "source": [
    "# cols_to_scale = df.drop([\"Author\", \"Tokens\"] , axis=1).columns\n",
    "# df_all = df\n",
    "# min_max_scaler = MinMaxScaler()\n",
    "# df_all[cols_to_scale] = min_max_scaler.fit_transform(df_all[cols_to_scale])\n",
    "df_all = scale(df, [\"Author\", \"Tokens\"])\n",
    "df_all"
   ]
  },
  {
   "cell_type": "code",
   "execution_count": 85,
   "id": "af4137bd",
   "metadata": {},
   "outputs": [
    {
     "data": {
      "text/plain": [
       "18"
      ]
     },
     "execution_count": 85,
     "metadata": {},
     "output_type": "execute_result"
    }
   ],
   "source": [
    "len(df_all['Author'].unique())"
   ]
  },
  {
   "cell_type": "markdown",
   "id": "f97f5b0a",
   "metadata": {},
   "source": [
    "## Dataframes\n",
    "df_all - contains all feature columns and author id\n",
    "\n",
    "df_positional - contains positional errors, token count, misspell ratio and author id"
   ]
  },
  {
   "cell_type": "markdown",
   "id": "f390a28c",
   "metadata": {},
   "source": [
    "non_empty_cols - all columns with non-zero values"
   ]
  },
  {
   "cell_type": "code",
   "execution_count": 86,
   "id": "761b6cff",
   "metadata": {
    "scrolled": true
   },
   "outputs": [],
   "source": [
    "all_cols = df_all.columns\n",
    "to_add_cols = [  'Author',\n",
    "                 'CurrencySymbol_pertokens',\n",
    "                 'ConnectorPunctuation_pertokens',\n",
    "                 'Downerror_pertokens',\n",
    "                 'DecimalDigitNumber_pertokens',\n",
    "                 'FinalQuotePunctuation_pertokens',\n",
    "                 'InitialQuotePunctuation_pertokens',\n",
    "                 'LowercaseLetter_pertokens',\n",
    "                 'Lefterror_pertokens',\n",
    "                 'MathSymbol_pertokens',\n",
    "                 'Misspellratio',\n",
    "                 'OtherLetter_pertokens',\n",
    "                 'OtherNotAssigned_pertokens',\n",
    "                 'Righterror_pertokens',\n",
    "                 'SpaceSeparator_pertokens',\n",
    "                 'Toperror_pertokens',\n",
    "                 'UppercaseLetter_pertokens']\n",
    "\n",
    "\n",
    "# non-empty PoS tag columns\n",
    "prefixes = ['pos_',\n",
    "            'swap_']\n",
    "for col in all_cols:\n",
    "    if (not((df_all[col] == 0).all()) and any(col.startswith(x) for x in prefixes)):\n",
    "        to_add_cols.append(col)\n",
    "df_positional = df_all[to_add_cols]"
   ]
  },
  {
   "cell_type": "markdown",
   "id": "dff7a22c",
   "metadata": {},
   "source": [
    "### Filtering\n",
    "removing NaN and inf values"
   ]
  },
  {
   "cell_type": "code",
   "execution_count": 87,
   "id": "58942270",
   "metadata": {
    "scrolled": true
   },
   "outputs": [
    {
     "name": "stdout",
     "output_type": "stream",
     "text": [
      "<class 'pandas.core.frame.DataFrame'>\n",
      "Int64Index: 1797 entries, 0 to 1799\n",
      "Columns: 1954 entries, Author to swap_ _ \n",
      "dtypes: float64(1954)\n",
      "memory usage: 26.8 MB\n"
     ]
    }
   ],
   "source": [
    "df_positional.dropna()\n",
    "indices_to_keep = ~df_positional.isin([np.nan, np.inf, -np.inf]).any(1)\n",
    "df_positional = df_positional[indices_to_keep].astype(np.float64)\n",
    "df_positional.info()"
   ]
  },
  {
   "cell_type": "markdown",
   "id": "8c71aecf",
   "metadata": {},
   "source": [
    "## OPTIONAL \n",
    "+ used to reduce the number of authors"
   ]
  },
  {
   "cell_type": "code",
   "execution_count": 91,
   "id": "452454d1",
   "metadata": {},
   "outputs": [
    {
     "name": "stdout",
     "output_type": "stream",
     "text": [
      "18\n"
     ]
    }
   ],
   "source": [
    "splits = 1\n",
    "\n",
    "print(len(df_positional[\"Author\"].unique()))\n",
    "if splits != 1:\n",
    "    all_authors = df_all[\"Author\"].unique()\n",
    "    split_authors = all_authors[0:len(all_authors)//1]\n",
    "    df_positional = df_positional[(df_positional[\"Author\"] >= split_authors[0]) \n",
    "                                    & (df_positional[\"Author\"] <= split_authors[-1])]\n",
    "    print(len(df_positional[\"Author\"].unique()))"
   ]
  },
  {
   "cell_type": "markdown",
   "id": "972e24ca",
   "metadata": {},
   "source": [
    "# Split to train/test\n",
    "!TODO, only taking a random sample and testing it on itself"
   ]
  },
  {
   "cell_type": "code",
   "execution_count": 88,
   "id": "f5a2ccd4",
   "metadata": {},
   "outputs": [
    {
     "name": "stdout",
     "output_type": "stream",
     "text": [
      "<class 'pandas.core.frame.DataFrame'>\n",
      "Int64Index: 1257 entries, 908 to 28\n",
      "Columns: 1954 entries, Author to swap_ _ \n",
      "dtypes: float64(1954)\n",
      "memory usage: 18.7 MB\n",
      "<class 'pandas.core.frame.DataFrame'>\n",
      "Int64Index: 534 entries, 0 to 1796\n",
      "Columns: 1954 entries, Author to swap_ _ \n",
      "dtypes: float64(1954)\n",
      "memory usage: 8.0 MB\n",
      "1797\n"
     ]
    }
   ],
   "source": [
    "data_count = len(df_positional)\n",
    "percentage_to_train = 0.70\n",
    "df_train = df_positional.sample(int(data_count*(percentage_to_train)))\n",
    "df_test = pd.concat([df_train, df_positional]).drop_duplicates(keep=False)\n",
    "# df_test = df_positional[int(data_count*2/3):]\n",
    "df_train.info()\n",
    "df_test.info()\n",
    "print(data_count)"
   ]
  },
  {
   "cell_type": "markdown",
   "id": "534d0e56",
   "metadata": {},
   "source": [
    "### Split training into features and labels"
   ]
  },
  {
   "cell_type": "code",
   "execution_count": 89,
   "id": "bb1b5d29",
   "metadata": {
    "scrolled": true
   },
   "outputs": [
    {
     "data": {
      "text/plain": [
       "1257"
      ]
     },
     "execution_count": 89,
     "metadata": {},
     "output_type": "execute_result"
    }
   ],
   "source": [
    "X = df_train.drop('Author', axis=1)\n",
    "y = df_train[\"Author\"]\n",
    "len(X)"
   ]
  },
  {
   "cell_type": "markdown",
   "id": "d83d3487",
   "metadata": {},
   "source": [
    "# Model fitting\n",
    "### Decision Tree Classifier\n",
    "Create a decision tree classifier and get predictions on the same dataset"
   ]
  },
  {
   "cell_type": "code",
   "execution_count": 98,
   "id": "05305ae8",
   "metadata": {},
   "outputs": [],
   "source": [
    "dt = tree.DecisionTreeClassifier(random_state=3)\n",
    "dt = dt.fit(X, y)"
   ]
  },
  {
   "cell_type": "code",
   "execution_count": 99,
   "id": "cd6e152d",
   "metadata": {},
   "outputs": [],
   "source": [
    "real_authors = df_train[\"Author\"].to_numpy()"
   ]
  },
  {
   "cell_type": "markdown",
   "id": "8e2677d4",
   "metadata": {},
   "source": [
    "### Logistic Regression"
   ]
  },
  {
   "cell_type": "code",
   "execution_count": 100,
   "id": "3660a773",
   "metadata": {
    "scrolled": true
   },
   "outputs": [],
   "source": [
    "# model = LogisticRegression(multi_class='multinomial', random_state=0)\n",
    "# model.fit(X, y)"
   ]
  },
  {
   "cell_type": "markdown",
   "id": "3ef9670f",
   "metadata": {},
   "source": [
    "### Random forest"
   ]
  },
  {
   "cell_type": "code",
   "execution_count": 101,
   "id": "a78e8107",
   "metadata": {
    "scrolled": true
   },
   "outputs": [
    {
     "data": {
      "text/plain": [
       "RandomForestClassifier(n_estimators=200)"
      ]
     },
     "execution_count": 101,
     "metadata": {},
     "output_type": "execute_result"
    }
   ],
   "source": [
    "forest=RandomForestClassifier(n_estimators=200)\n",
    "forest.fit(X,y)"
   ]
  },
  {
   "cell_type": "markdown",
   "id": "7091642b",
   "metadata": {},
   "source": [
    "# Evaluation\n",
    "Create features and labels from testing dataset"
   ]
  },
  {
   "cell_type": "code",
   "execution_count": 102,
   "id": "b4e95d5e",
   "metadata": {
    "scrolled": true
   },
   "outputs": [],
   "source": [
    "X_test = df_test.drop('Author', axis=1)\n",
    "Y_test = df_test['Author'].to_numpy()"
   ]
  },
  {
   "cell_type": "markdown",
   "id": "98b7ce84",
   "metadata": {},
   "source": [
    "## DT"
   ]
  },
  {
   "cell_type": "code",
   "execution_count": 103,
   "id": "7ff52201",
   "metadata": {},
   "outputs": [
    {
     "name": "stdout",
     "output_type": "stream",
     "text": [
      "Evaluation: \n",
      "accuracy 0.37265917602996257\n"
     ]
    }
   ],
   "source": [
    "# Decision Tree\n",
    "predictions_dt = dt.predict(X_test)\n",
    "dt_acc = evaluate(Y_test, predictions_dt)"
   ]
  },
  {
   "cell_type": "markdown",
   "id": "4a266786",
   "metadata": {},
   "source": [
    "### LogReg"
   ]
  },
  {
   "cell_type": "code",
   "execution_count": 104,
   "id": "0aa8cee4",
   "metadata": {
    "scrolled": true
   },
   "outputs": [],
   "source": [
    "# predictions_logreg = model.predict(X_test)\n",
    "# logreg_acc = evaluate(Y_test, predictions_logreg)"
   ]
  },
  {
   "cell_type": "markdown",
   "id": "c60ac6f1",
   "metadata": {},
   "source": [
    "### Random Forest"
   ]
  },
  {
   "cell_type": "code",
   "execution_count": 105,
   "id": "0e5f69e4",
   "metadata": {},
   "outputs": [
    {
     "name": "stdout",
     "output_type": "stream",
     "text": [
      "Evaluation: \n",
      "accuracy 0.49063670411985016\n"
     ]
    }
   ],
   "source": [
    "predictions_forest = forest.predict(X_test)\n",
    "forest_acc = evaluate(Y_test, predictions_forest)"
   ]
  },
  {
   "cell_type": "code",
   "execution_count": 106,
   "id": "d77e28d5",
   "metadata": {},
   "outputs": [
    {
     "name": "stdout",
     "output_type": "stream",
     "text": [
      "Decision tree\n",
      "0.37265917602996257\n",
      "Forest\n",
      "0.49063670411985016\n"
     ]
    }
   ],
   "source": [
    "print(\"Decision tree\")\n",
    "print(dt_acc)\n",
    "# print(\"Logreg\")\n",
    "# print(logreg_acc)\n",
    "print(\"Forest\")\n",
    "print(forest_acc)"
   ]
  },
  {
   "cell_type": "markdown",
   "id": "d99df402",
   "metadata": {},
   "source": [
    "# Other -------- UNRELATED -------\n",
    "under construction"
   ]
  },
  {
   "cell_type": "markdown",
   "id": "e390ced9",
   "metadata": {},
   "source": [
    "## Automatic feature selection"
   ]
  },
  {
   "cell_type": "code",
   "execution_count": 22,
   "id": "adc70e4a",
   "metadata": {},
   "outputs": [],
   "source": [
    "# def select_features(df, k=5):\n",
    "#     df_new = df.drop([\"Author\"], axis=1)\n",
    "#     indicators_indexed = []\n",
    "#     for x in df['Author']:\n",
    "#         indicators_indexed.append(x)\n",
    "# #     print(len(indicators_indexed))\n",
    "#     # print(df_normal)\n",
    "#     np.random.seed(1)\n",
    "#     selector = SelectKBest(chi2, k=k)\n",
    "# #     selector = SelectKBest(mutual_info_regression, k=k)\n",
    "#     k_best_features = selector.fit_transform(df_new.values, indicators_indexed)\n",
    "#     print(selector.get_support(1))\n",
    "#     return (k_best_features, selector.get_support())"
   ]
  },
  {
   "cell_type": "code",
   "execution_count": 23,
   "id": "5cfffeb5",
   "metadata": {},
   "outputs": [],
   "source": [
    "# feat, mask = select_features(df_train, 6)\n",
    "\n",
    "# new_features = df_train.drop([\"Author\"], axis=1).columns[mask]\n",
    "# new_features\n",
    "# # print(ind)\n",
    "# df_positional = df_all[new_features]\n",
    "# df_positional[\"Author\"] = df_all[\"Author\"]\n",
    "# df_positional.info()"
   ]
  }
 ],
 "metadata": {
  "kernelspec": {
   "display_name": "Python 3 (ipykernel)",
   "language": "python",
   "name": "python3"
  },
  "language_info": {
   "codemirror_mode": {
    "name": "ipython",
    "version": 3
   },
   "file_extension": ".py",
   "mimetype": "text/x-python",
   "name": "python",
   "nbconvert_exporter": "python",
   "pygments_lexer": "ipython3",
   "version": "3.8.3"
  }
 },
 "nbformat": 4,
 "nbformat_minor": 5
}
