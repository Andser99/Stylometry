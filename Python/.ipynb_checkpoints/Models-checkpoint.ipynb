{
 "cells": [
  {
   "cell_type": "markdown",
   "id": "e9c6f5e5",
   "metadata": {},
   "source": [
    "# Stylometry - model training\n",
    "\n",
    "### Used classifiers\n",
    " - Decision Tree\n",
    " - kNN (NYI)\n",
    " - SVM (NYI)\n",
    " \n",
    " \n",
    " - ? Logistic Regression (NYI)"
   ]
  },
  {
   "cell_type": "markdown",
   "id": "255418f1",
   "metadata": {},
   "source": [
    "## Imports"
   ]
  },
  {
   "cell_type": "code",
   "execution_count": 2,
   "id": "d9f23b68",
   "metadata": {},
   "outputs": [],
   "source": [
    "import matplotlib\n",
    "import matplotlib.pylab as pylab\n",
    "import matplotlib.pyplot as plt\n",
    "import seaborn as sns\n",
    "import pandas as pd\n",
    "import numpy as np\n",
    "import scipy\n",
    "import scipy.stats as stats\n",
    "import seaborn as sns\n",
    "import statsmodels.api as sm\n",
    "import statsmodels.stats.api as sms\n",
    "from numpy import mean\n",
    "from numpy import average\n",
    "from numpy import absolute\n",
    "from numpy import sqrt\n",
    "from numpy import std\n",
    "from sklearn import preprocessing\n",
    "from dateutil import parser\n",
    "import statistics\n",
    "from sklearn.model_selection import KFold\n",
    "from sklearn.model_selection import cross_validate\n",
    "from sklearn.preprocessing import StandardScaler, MinMaxScaler\n",
    "from sklearn.feature_selection import SelectKBest, mutual_info_regression, chi2, f_regression\n",
    "from sklearn.neural_network import MLPRegressor\n",
    "from sklearn.model_selection import train_test_split, GridSearchCV, StratifiedShuffleSplit\n",
    "from sklearn.impute import KNNImputer\n",
    "from sklearn import tree, svm\n",
    "from sklearn.ensemble import RandomForestClassifier, AdaBoostClassifier\n",
    "from sklearn import metrics\n",
    "from skmultilearn.model_selection import IterativeStratification\n",
    "from sklearn.linear_model import LogisticRegression\n",
    "import gc\n",
    "import warnings\n",
    "warnings.filterwarnings('ignore')"
   ]
  },
  {
   "cell_type": "markdown",
   "id": "498e6734",
   "metadata": {},
   "source": [
    "## Helper functions"
   ]
  },
  {
   "cell_type": "code",
   "execution_count": 3,
   "id": "d34e2f58",
   "metadata": {},
   "outputs": [],
   "source": [
    "def scale(df_to_scale, ignored_cols):\n",
    "    cols_to_scale = df_to_scale.drop(ignored_cols , axis=1).columns\n",
    "    min_max_scaler = MinMaxScaler()\n",
    "    df_to_scale[cols_to_scale] = min_max_scaler.fit_transform(df_to_scale[cols_to_scale])\n",
    "    df.info()\n",
    "    return df_to_scale"
   ]
  },
  {
   "cell_type": "code",
   "execution_count": 4,
   "id": "d0fc4d83",
   "metadata": {},
   "outputs": [],
   "source": [
    "def evaluate(real, predicted):\n",
    "    print(\"Evaluation: \")\n",
    "    countGood = 0\n",
    "    total = len(real)\n",
    "    falsePos = 0\n",
    "    falseNeg = 0\n",
    "    truePos = 0\n",
    "    trueNeg = 0\n",
    "    if total != len(predicted):\n",
    "        print(\"Non-matching sample lengths\")\n",
    "        return None\n",
    "    for i in range(0, total):\n",
    "        countGood += 1 if real[i] == predicted[i] else 0\n",
    "\n",
    "    # accuracy = str(countGood / total)\n",
    "    # precision = str(truePos / (truePos + falsePos))\n",
    "    # recall = str(truePos / (truePos + falseNeg))\n",
    "    \n",
    "    print(\"accuracy \" + str(countGood / total))\n",
    "    return countGood / total"
   ]
  },
  {
   "cell_type": "markdown",
   "id": "d8159def",
   "metadata": {},
   "source": [
    "## Data import\n",
    "\\+calculate positional error occurence per token"
   ]
  },
  {
   "cell_type": "code",
   "execution_count": 5,
   "id": "6fb8b325",
   "metadata": {
    "scrolled": true
   },
   "outputs": [
    {
     "name": "stdout",
     "output_type": "stream",
     "text": [
      "<class 'pandas.core.frame.DataFrame'>\n",
      "RangeIndex: 6400 entries, 0 to 6399\n",
      "Columns: 2304 entries, Author to Downerror_pertokens\n",
      "dtypes: float64(1112), int64(1192)\n",
      "memory usage: 112.5 MB\n"
     ]
    },
    {
     "data": {
      "text/html": [
       "<div>\n",
       "<style scoped>\n",
       "    .dataframe tbody tr th:only-of-type {\n",
       "        vertical-align: middle;\n",
       "    }\n",
       "\n",
       "    .dataframe tbody tr th {\n",
       "        vertical-align: top;\n",
       "    }\n",
       "\n",
       "    .dataframe thead th {\n",
       "        text-align: right;\n",
       "    }\n",
       "</style>\n",
       "<table border=\"1\" class=\"dataframe\">\n",
       "  <thead>\n",
       "    <tr style=\"text-align: right;\">\n",
       "      <th></th>\n",
       "      <th>Author</th>\n",
       "      <th>UppercaseLetter</th>\n",
       "      <th>UppercaseLetter_pertokens</th>\n",
       "      <th>LowercaseLetter</th>\n",
       "      <th>LowercaseLetter_pertokens</th>\n",
       "      <th>TitlecaseLetter</th>\n",
       "      <th>TitlecaseLetter_pertokens</th>\n",
       "      <th>ModifierLetter</th>\n",
       "      <th>ModifierLetter_pertokens</th>\n",
       "      <th>OtherLetter</th>\n",
       "      <th>...</th>\n",
       "      <th>swap_ _m</th>\n",
       "      <th>swap_ _CO</th>\n",
       "      <th>swap_ _.</th>\n",
       "      <th>swap_ _/</th>\n",
       "      <th>swap_ _</th>\n",
       "      <th>Tokens</th>\n",
       "      <th>Toperror_pertokens</th>\n",
       "      <th>Lefterror_pertokens</th>\n",
       "      <th>Righterror_pertokens</th>\n",
       "      <th>Downerror_pertokens</th>\n",
       "    </tr>\n",
       "  </thead>\n",
       "  <tbody>\n",
       "    <tr>\n",
       "      <th>0</th>\n",
       "      <td>13</td>\n",
       "      <td>38</td>\n",
       "      <td>1.226</td>\n",
       "      <td>60</td>\n",
       "      <td>1.935</td>\n",
       "      <td>0</td>\n",
       "      <td>0</td>\n",
       "      <td>0</td>\n",
       "      <td>0</td>\n",
       "      <td>0</td>\n",
       "      <td>...</td>\n",
       "      <td>0</td>\n",
       "      <td>0</td>\n",
       "      <td>0</td>\n",
       "      <td>0</td>\n",
       "      <td>0</td>\n",
       "      <td>31</td>\n",
       "      <td>0.0</td>\n",
       "      <td>0.064516</td>\n",
       "      <td>0.000000</td>\n",
       "      <td>0.000000</td>\n",
       "    </tr>\n",
       "    <tr>\n",
       "      <th>1</th>\n",
       "      <td>13</td>\n",
       "      <td>12</td>\n",
       "      <td>0.286</td>\n",
       "      <td>125</td>\n",
       "      <td>2.976</td>\n",
       "      <td>0</td>\n",
       "      <td>0</td>\n",
       "      <td>0</td>\n",
       "      <td>0</td>\n",
       "      <td>0</td>\n",
       "      <td>...</td>\n",
       "      <td>0</td>\n",
       "      <td>0</td>\n",
       "      <td>0</td>\n",
       "      <td>0</td>\n",
       "      <td>0</td>\n",
       "      <td>42</td>\n",
       "      <td>0.0</td>\n",
       "      <td>0.023810</td>\n",
       "      <td>0.000000</td>\n",
       "      <td>0.000000</td>\n",
       "    </tr>\n",
       "    <tr>\n",
       "      <th>2</th>\n",
       "      <td>13</td>\n",
       "      <td>25</td>\n",
       "      <td>0.150</td>\n",
       "      <td>582</td>\n",
       "      <td>3.485</td>\n",
       "      <td>0</td>\n",
       "      <td>0</td>\n",
       "      <td>0</td>\n",
       "      <td>0</td>\n",
       "      <td>0</td>\n",
       "      <td>...</td>\n",
       "      <td>0</td>\n",
       "      <td>0</td>\n",
       "      <td>0</td>\n",
       "      <td>0</td>\n",
       "      <td>0</td>\n",
       "      <td>167</td>\n",
       "      <td>0.0</td>\n",
       "      <td>0.023952</td>\n",
       "      <td>0.035928</td>\n",
       "      <td>0.005988</td>\n",
       "    </tr>\n",
       "  </tbody>\n",
       "</table>\n",
       "<p>3 rows × 2304 columns</p>\n",
       "</div>"
      ],
      "text/plain": [
       "   Author  UppercaseLetter  UppercaseLetter_pertokens  LowercaseLetter  \\\n",
       "0      13               38                      1.226               60   \n",
       "1      13               12                      0.286              125   \n",
       "2      13               25                      0.150              582   \n",
       "\n",
       "   LowercaseLetter_pertokens  TitlecaseLetter  TitlecaseLetter_pertokens  \\\n",
       "0                      1.935                0                          0   \n",
       "1                      2.976                0                          0   \n",
       "2                      3.485                0                          0   \n",
       "\n",
       "   ModifierLetter  ModifierLetter_pertokens  OtherLetter  ...  swap_ _m  \\\n",
       "0               0                         0            0  ...         0   \n",
       "1               0                         0            0  ...         0   \n",
       "2               0                         0            0  ...         0   \n",
       "\n",
       "   swap_ _CO  swap_ _.  swap_ _/  swap_ _   Tokens  Toperror_pertokens  \\\n",
       "0          0         0         0         0      31                 0.0   \n",
       "1          0         0         0         0      42                 0.0   \n",
       "2          0         0         0         0     167                 0.0   \n",
       "\n",
       "   Lefterror_pertokens  Righterror_pertokens  Downerror_pertokens  \n",
       "0             0.064516              0.000000             0.000000  \n",
       "1             0.023810              0.000000             0.000000  \n",
       "2             0.023952              0.035928             0.005988  \n",
       "\n",
       "[3 rows x 2304 columns]"
      ]
     },
     "execution_count": 5,
     "metadata": {},
     "output_type": "execute_result"
    }
   ],
   "source": [
    "\n",
    "df = pd.read_csv('64authors_top3grams_swaps_blogtext_100articles.csv', sep=',')\n",
    "df['Toperror_pertokens'] = df['Toperror'] / df['Tokens']\n",
    "df['Lefterror_pertokens'] = df['Lefterror'] / df['Tokens']\n",
    "df['Righterror_pertokens'] = df['Righterror'] / df['Tokens']\n",
    "df['Downerror_pertokens'] = df['Downerror'] / df['Tokens']\n",
    "df.info()\n",
    "df.head(3)"
   ]
  },
  {
   "cell_type": "code",
   "execution_count": 6,
   "id": "05cdee65",
   "metadata": {},
   "outputs": [],
   "source": [
    "df = df.replace(\"∞\", \"0\")"
   ]
  },
  {
   "cell_type": "code",
   "execution_count": 7,
   "id": "3b418a77",
   "metadata": {
    "scrolled": true
   },
   "outputs": [
    {
     "name": "stdout",
     "output_type": "stream",
     "text": [
      "<class 'pandas.core.frame.DataFrame'>\n",
      "RangeIndex: 6400 entries, 0 to 6399\n",
      "Columns: 2304 entries, Author to Downerror_pertokens\n",
      "dtypes: float64(2302), int64(2)\n",
      "memory usage: 112.5 MB\n"
     ]
    },
    {
     "data": {
      "text/html": [
       "<div>\n",
       "<style scoped>\n",
       "    .dataframe tbody tr th:only-of-type {\n",
       "        vertical-align: middle;\n",
       "    }\n",
       "\n",
       "    .dataframe tbody tr th {\n",
       "        vertical-align: top;\n",
       "    }\n",
       "\n",
       "    .dataframe thead th {\n",
       "        text-align: right;\n",
       "    }\n",
       "</style>\n",
       "<table border=\"1\" class=\"dataframe\">\n",
       "  <thead>\n",
       "    <tr style=\"text-align: right;\">\n",
       "      <th></th>\n",
       "      <th>Author</th>\n",
       "      <th>UppercaseLetter</th>\n",
       "      <th>UppercaseLetter_pertokens</th>\n",
       "      <th>LowercaseLetter</th>\n",
       "      <th>LowercaseLetter_pertokens</th>\n",
       "      <th>TitlecaseLetter</th>\n",
       "      <th>TitlecaseLetter_pertokens</th>\n",
       "      <th>ModifierLetter</th>\n",
       "      <th>ModifierLetter_pertokens</th>\n",
       "      <th>OtherLetter</th>\n",
       "      <th>...</th>\n",
       "      <th>swap_ _m</th>\n",
       "      <th>swap_ _CO</th>\n",
       "      <th>swap_ _.</th>\n",
       "      <th>swap_ _/</th>\n",
       "      <th>swap_ _</th>\n",
       "      <th>Tokens</th>\n",
       "      <th>Toperror_pertokens</th>\n",
       "      <th>Lefterror_pertokens</th>\n",
       "      <th>Righterror_pertokens</th>\n",
       "      <th>Downerror_pertokens</th>\n",
       "    </tr>\n",
       "  </thead>\n",
       "  <tbody>\n",
       "    <tr>\n",
       "      <th>0</th>\n",
       "      <td>13</td>\n",
       "      <td>0.014695</td>\n",
       "      <td>0.031436</td>\n",
       "      <td>0.001340</td>\n",
       "      <td>0.087025</td>\n",
       "      <td>0.0</td>\n",
       "      <td>0.0</td>\n",
       "      <td>0.0</td>\n",
       "      <td>0.0</td>\n",
       "      <td>0.0</td>\n",
       "      <td>...</td>\n",
       "      <td>0.0</td>\n",
       "      <td>0.0</td>\n",
       "      <td>0.0</td>\n",
       "      <td>0.0</td>\n",
       "      <td>0.0</td>\n",
       "      <td>31</td>\n",
       "      <td>0.000000</td>\n",
       "      <td>0.064516</td>\n",
       "      <td>0.000000</td>\n",
       "      <td>0.000000</td>\n",
       "    </tr>\n",
       "    <tr>\n",
       "      <th>1</th>\n",
       "      <td>13</td>\n",
       "      <td>0.004640</td>\n",
       "      <td>0.007333</td>\n",
       "      <td>0.002792</td>\n",
       "      <td>0.133843</td>\n",
       "      <td>0.0</td>\n",
       "      <td>0.0</td>\n",
       "      <td>0.0</td>\n",
       "      <td>0.0</td>\n",
       "      <td>0.0</td>\n",
       "      <td>...</td>\n",
       "      <td>0.0</td>\n",
       "      <td>0.0</td>\n",
       "      <td>0.0</td>\n",
       "      <td>0.0</td>\n",
       "      <td>0.0</td>\n",
       "      <td>42</td>\n",
       "      <td>0.000000</td>\n",
       "      <td>0.023810</td>\n",
       "      <td>0.000000</td>\n",
       "      <td>0.000000</td>\n",
       "    </tr>\n",
       "    <tr>\n",
       "      <th>2</th>\n",
       "      <td>13</td>\n",
       "      <td>0.009667</td>\n",
       "      <td>0.003846</td>\n",
       "      <td>0.012999</td>\n",
       "      <td>0.156735</td>\n",
       "      <td>0.0</td>\n",
       "      <td>0.0</td>\n",
       "      <td>0.0</td>\n",
       "      <td>0.0</td>\n",
       "      <td>0.0</td>\n",
       "      <td>...</td>\n",
       "      <td>0.0</td>\n",
       "      <td>0.0</td>\n",
       "      <td>0.0</td>\n",
       "      <td>0.0</td>\n",
       "      <td>0.0</td>\n",
       "      <td>167</td>\n",
       "      <td>0.000000</td>\n",
       "      <td>0.023952</td>\n",
       "      <td>0.017964</td>\n",
       "      <td>0.023952</td>\n",
       "    </tr>\n",
       "    <tr>\n",
       "      <th>3</th>\n",
       "      <td>13</td>\n",
       "      <td>0.024749</td>\n",
       "      <td>0.004462</td>\n",
       "      <td>0.026533</td>\n",
       "      <td>0.145177</td>\n",
       "      <td>0.0</td>\n",
       "      <td>0.0</td>\n",
       "      <td>0.0</td>\n",
       "      <td>0.0</td>\n",
       "      <td>0.0</td>\n",
       "      <td>...</td>\n",
       "      <td>0.0</td>\n",
       "      <td>0.0</td>\n",
       "      <td>0.0</td>\n",
       "      <td>0.0</td>\n",
       "      <td>0.0</td>\n",
       "      <td>368</td>\n",
       "      <td>0.000000</td>\n",
       "      <td>0.000000</td>\n",
       "      <td>0.000000</td>\n",
       "      <td>0.000000</td>\n",
       "    </tr>\n",
       "    <tr>\n",
       "      <th>4</th>\n",
       "      <td>13</td>\n",
       "      <td>0.006187</td>\n",
       "      <td>0.002538</td>\n",
       "      <td>0.013177</td>\n",
       "      <td>0.164830</td>\n",
       "      <td>0.0</td>\n",
       "      <td>0.0</td>\n",
       "      <td>0.0</td>\n",
       "      <td>0.0</td>\n",
       "      <td>0.0</td>\n",
       "      <td>...</td>\n",
       "      <td>0.0</td>\n",
       "      <td>0.0</td>\n",
       "      <td>0.0</td>\n",
       "      <td>0.0</td>\n",
       "      <td>0.0</td>\n",
       "      <td>161</td>\n",
       "      <td>0.012422</td>\n",
       "      <td>0.031056</td>\n",
       "      <td>0.012422</td>\n",
       "      <td>0.024845</td>\n",
       "    </tr>\n",
       "    <tr>\n",
       "      <th>...</th>\n",
       "      <td>...</td>\n",
       "      <td>...</td>\n",
       "      <td>...</td>\n",
       "      <td>...</td>\n",
       "      <td>...</td>\n",
       "      <td>...</td>\n",
       "      <td>...</td>\n",
       "      <td>...</td>\n",
       "      <td>...</td>\n",
       "      <td>...</td>\n",
       "      <td>...</td>\n",
       "      <td>...</td>\n",
       "      <td>...</td>\n",
       "      <td>...</td>\n",
       "      <td>...</td>\n",
       "      <td>...</td>\n",
       "      <td>...</td>\n",
       "      <td>...</td>\n",
       "      <td>...</td>\n",
       "      <td>...</td>\n",
       "      <td>...</td>\n",
       "    </tr>\n",
       "    <tr>\n",
       "      <th>6395</th>\n",
       "      <td>19174</td>\n",
       "      <td>0.010828</td>\n",
       "      <td>0.004308</td>\n",
       "      <td>0.012373</td>\n",
       "      <td>0.149179</td>\n",
       "      <td>0.0</td>\n",
       "      <td>0.0</td>\n",
       "      <td>0.0</td>\n",
       "      <td>0.0</td>\n",
       "      <td>0.0</td>\n",
       "      <td>...</td>\n",
       "      <td>0.0</td>\n",
       "      <td>0.0</td>\n",
       "      <td>0.0</td>\n",
       "      <td>0.0</td>\n",
       "      <td>0.0</td>\n",
       "      <td>167</td>\n",
       "      <td>0.000000</td>\n",
       "      <td>0.000000</td>\n",
       "      <td>0.000000</td>\n",
       "      <td>0.000000</td>\n",
       "    </tr>\n",
       "    <tr>\n",
       "      <th>6396</th>\n",
       "      <td>19174</td>\n",
       "      <td>0.024362</td>\n",
       "      <td>0.003154</td>\n",
       "      <td>0.041944</td>\n",
       "      <td>0.164336</td>\n",
       "      <td>0.0</td>\n",
       "      <td>0.0</td>\n",
       "      <td>0.0</td>\n",
       "      <td>0.0</td>\n",
       "      <td>0.0</td>\n",
       "      <td>...</td>\n",
       "      <td>0.0</td>\n",
       "      <td>0.0</td>\n",
       "      <td>0.0</td>\n",
       "      <td>0.0</td>\n",
       "      <td>0.0</td>\n",
       "      <td>514</td>\n",
       "      <td>0.000000</td>\n",
       "      <td>0.005837</td>\n",
       "      <td>0.004864</td>\n",
       "      <td>0.000000</td>\n",
       "    </tr>\n",
       "    <tr>\n",
       "      <th>6397</th>\n",
       "      <td>19174</td>\n",
       "      <td>0.028229</td>\n",
       "      <td>0.003179</td>\n",
       "      <td>0.045830</td>\n",
       "      <td>0.156690</td>\n",
       "      <td>0.0</td>\n",
       "      <td>0.0</td>\n",
       "      <td>0.0</td>\n",
       "      <td>0.0</td>\n",
       "      <td>0.0</td>\n",
       "      <td>...</td>\n",
       "      <td>0.0</td>\n",
       "      <td>0.0</td>\n",
       "      <td>0.0</td>\n",
       "      <td>0.0</td>\n",
       "      <td>0.0</td>\n",
       "      <td>589</td>\n",
       "      <td>0.000000</td>\n",
       "      <td>0.003396</td>\n",
       "      <td>0.005093</td>\n",
       "      <td>0.000000</td>\n",
       "    </tr>\n",
       "    <tr>\n",
       "      <th>6398</th>\n",
       "      <td>19174</td>\n",
       "      <td>0.015081</td>\n",
       "      <td>0.004256</td>\n",
       "      <td>0.017309</td>\n",
       "      <td>0.148325</td>\n",
       "      <td>0.0</td>\n",
       "      <td>0.0</td>\n",
       "      <td>0.0</td>\n",
       "      <td>0.0</td>\n",
       "      <td>0.0</td>\n",
       "      <td>...</td>\n",
       "      <td>0.0</td>\n",
       "      <td>0.0</td>\n",
       "      <td>0.0</td>\n",
       "      <td>0.0</td>\n",
       "      <td>0.0</td>\n",
       "      <td>235</td>\n",
       "      <td>0.000000</td>\n",
       "      <td>0.004255</td>\n",
       "      <td>0.000000</td>\n",
       "      <td>0.017021</td>\n",
       "    </tr>\n",
       "    <tr>\n",
       "      <th>6399</th>\n",
       "      <td>19174</td>\n",
       "      <td>0.005800</td>\n",
       "      <td>0.003436</td>\n",
       "      <td>0.009001</td>\n",
       "      <td>0.161817</td>\n",
       "      <td>0.0</td>\n",
       "      <td>0.0</td>\n",
       "      <td>0.0</td>\n",
       "      <td>0.0</td>\n",
       "      <td>0.0</td>\n",
       "      <td>...</td>\n",
       "      <td>0.0</td>\n",
       "      <td>0.0</td>\n",
       "      <td>0.0</td>\n",
       "      <td>0.0</td>\n",
       "      <td>0.0</td>\n",
       "      <td>112</td>\n",
       "      <td>0.000000</td>\n",
       "      <td>0.000000</td>\n",
       "      <td>0.000000</td>\n",
       "      <td>0.000000</td>\n",
       "    </tr>\n",
       "  </tbody>\n",
       "</table>\n",
       "<p>6400 rows × 2304 columns</p>\n",
       "</div>"
      ],
      "text/plain": [
       "      Author  UppercaseLetter  UppercaseLetter_pertokens  LowercaseLetter  \\\n",
       "0         13         0.014695                   0.031436         0.001340   \n",
       "1         13         0.004640                   0.007333         0.002792   \n",
       "2         13         0.009667                   0.003846         0.012999   \n",
       "3         13         0.024749                   0.004462         0.026533   \n",
       "4         13         0.006187                   0.002538         0.013177   \n",
       "...      ...              ...                        ...              ...   \n",
       "6395   19174         0.010828                   0.004308         0.012373   \n",
       "6396   19174         0.024362                   0.003154         0.041944   \n",
       "6397   19174         0.028229                   0.003179         0.045830   \n",
       "6398   19174         0.015081                   0.004256         0.017309   \n",
       "6399   19174         0.005800                   0.003436         0.009001   \n",
       "\n",
       "      LowercaseLetter_pertokens  TitlecaseLetter  TitlecaseLetter_pertokens  \\\n",
       "0                      0.087025              0.0                        0.0   \n",
       "1                      0.133843              0.0                        0.0   \n",
       "2                      0.156735              0.0                        0.0   \n",
       "3                      0.145177              0.0                        0.0   \n",
       "4                      0.164830              0.0                        0.0   \n",
       "...                         ...              ...                        ...   \n",
       "6395                   0.149179              0.0                        0.0   \n",
       "6396                   0.164336              0.0                        0.0   \n",
       "6397                   0.156690              0.0                        0.0   \n",
       "6398                   0.148325              0.0                        0.0   \n",
       "6399                   0.161817              0.0                        0.0   \n",
       "\n",
       "      ModifierLetter  ModifierLetter_pertokens  OtherLetter  ...  swap_ _m  \\\n",
       "0                0.0                       0.0          0.0  ...       0.0   \n",
       "1                0.0                       0.0          0.0  ...       0.0   \n",
       "2                0.0                       0.0          0.0  ...       0.0   \n",
       "3                0.0                       0.0          0.0  ...       0.0   \n",
       "4                0.0                       0.0          0.0  ...       0.0   \n",
       "...              ...                       ...          ...  ...       ...   \n",
       "6395             0.0                       0.0          0.0  ...       0.0   \n",
       "6396             0.0                       0.0          0.0  ...       0.0   \n",
       "6397             0.0                       0.0          0.0  ...       0.0   \n",
       "6398             0.0                       0.0          0.0  ...       0.0   \n",
       "6399             0.0                       0.0          0.0  ...       0.0   \n",
       "\n",
       "      swap_ _CO  swap_ _.  swap_ _/  swap_ _   Tokens  Toperror_pertokens  \\\n",
       "0           0.0       0.0       0.0       0.0      31            0.000000   \n",
       "1           0.0       0.0       0.0       0.0      42            0.000000   \n",
       "2           0.0       0.0       0.0       0.0     167            0.000000   \n",
       "3           0.0       0.0       0.0       0.0     368            0.000000   \n",
       "4           0.0       0.0       0.0       0.0     161            0.012422   \n",
       "...         ...       ...       ...       ...     ...                 ...   \n",
       "6395        0.0       0.0       0.0       0.0     167            0.000000   \n",
       "6396        0.0       0.0       0.0       0.0     514            0.000000   \n",
       "6397        0.0       0.0       0.0       0.0     589            0.000000   \n",
       "6398        0.0       0.0       0.0       0.0     235            0.000000   \n",
       "6399        0.0       0.0       0.0       0.0     112            0.000000   \n",
       "\n",
       "      Lefterror_pertokens  Righterror_pertokens  Downerror_pertokens  \n",
       "0                0.064516              0.000000             0.000000  \n",
       "1                0.023810              0.000000             0.000000  \n",
       "2                0.023952              0.017964             0.023952  \n",
       "3                0.000000              0.000000             0.000000  \n",
       "4                0.031056              0.012422             0.024845  \n",
       "...                   ...                   ...                  ...  \n",
       "6395             0.000000              0.000000             0.000000  \n",
       "6396             0.005837              0.004864             0.000000  \n",
       "6397             0.003396              0.005093             0.000000  \n",
       "6398             0.004255              0.000000             0.017021  \n",
       "6399             0.000000              0.000000             0.000000  \n",
       "\n",
       "[6400 rows x 2304 columns]"
      ]
     },
     "execution_count": 7,
     "metadata": {},
     "output_type": "execute_result"
    }
   ],
   "source": [
    "df_all = scale(df, [\"Author\", \"Tokens\"])\n",
    "df_all"
   ]
  },
  {
   "cell_type": "code",
   "execution_count": 8,
   "id": "af4137bd",
   "metadata": {
    "scrolled": true
   },
   "outputs": [
    {
     "data": {
      "text/plain": [
       "64"
      ]
     },
     "execution_count": 8,
     "metadata": {},
     "output_type": "execute_result"
    }
   ],
   "source": [
    "len(df_all['Author'].unique())"
   ]
  },
  {
   "cell_type": "markdown",
   "id": "f97f5b0a",
   "metadata": {},
   "source": [
    "## Dataframes\n",
    "df_all - contains all feature columns and author id\n",
    "\n",
    "df_positional - contains positional errors, token count, misspell ratio and author id"
   ]
  },
  {
   "cell_type": "markdown",
   "id": "f390a28c",
   "metadata": {},
   "source": [
    "non_empty_cols - all columns with non-zero values"
   ]
  },
  {
   "cell_type": "code",
   "execution_count": 9,
   "id": "ea555fa3",
   "metadata": {},
   "outputs": [],
   "source": [
    "# filtered_suff = []\n",
    "# for x in df_all.columns:\n",
    "#     if x.endswith(\"_pertokens\"):\n",
    "#         filtered_suff.append(x)\n",
    "# filtered_suff.sort()\n",
    "# for x in filtered_suff:\n",
    "#     print(x)\n",
    "#     print(mean(df_all[x]))"
   ]
  },
  {
   "cell_type": "code",
   "execution_count": 22,
   "id": "761b6cff",
   "metadata": {
    "scrolled": true
   },
   "outputs": [
    {
     "data": {
      "text/plain": [
       "316"
      ]
     },
     "execution_count": 22,
     "metadata": {},
     "output_type": "execute_result"
    }
   ],
   "source": [
    "all_cols = df_all.columns\n",
    "to_add_cols = [  'Author',\n",
    "                 'CurrencySymbol_pertokens',\n",
    "                 'ConnectorPunctuation_pertokens',\n",
    "                 'Control_pertokens',\n",
    "                 'Downerror_pertokens',\n",
    "                 'DecimalDigitNumber_pertokens',\n",
    "                 'FinalQuotePunctuation_pertokens',\n",
    "                 'InitialQuotePunctuation_pertokens',\n",
    "                 'LowercaseLetter_pertokens',\n",
    "                 'Lefterror_pertokens',\n",
    "                 'MathSymbol_pertokens',\n",
    "                 'Misspellratio',\n",
    "                 'OtherLetter_pertokens',\n",
    "                 'OtherNotAssigned_pertokens',\n",
    "                 'OtherPunctuation_pertokens',\n",
    "                 'Righterror_pertokens',\n",
    "                 'SpaceSeparator_pertokens',\n",
    "                 'Toperror_pertokens',\n",
    "                 'UppercaseLetter_pertokens'\n",
    "              ]\n",
    "# to_add_cols = [  'Author',\n",
    "#                  'Misspellratio']\n",
    "\n",
    "\n",
    "# filter out empty columns and add selected feature sets\n",
    "# available prefixes in feature sets - 'pos_' 'swap_'\n",
    "prefixes = ['pos_']\n",
    "for col in all_cols:\n",
    "    if (not((df_all[col] == 0).all()) and any(col.startswith(x) for x in prefixes)):\n",
    "        to_add_cols.append(col)\n",
    "df_positional = df_all[to_add_cols]\n",
    "len(df_positional.columns)"
   ]
  },
  {
   "cell_type": "markdown",
   "id": "dff7a22c",
   "metadata": {},
   "source": [
    "### Filtering\n",
    "removing NaN and inf values"
   ]
  },
  {
   "cell_type": "code",
   "execution_count": 23,
   "id": "58942270",
   "metadata": {
    "scrolled": true
   },
   "outputs": [
    {
     "name": "stdout",
     "output_type": "stream",
     "text": [
      "<class 'pandas.core.frame.DataFrame'>\n",
      "Int64Index: 6398 entries, 0 to 6399\n",
      "Columns: 316 entries, Author to pos_296_CD_NN_VB\n",
      "dtypes: float64(316)\n",
      "memory usage: 15.5 MB\n"
     ]
    }
   ],
   "source": [
    "df_positional.dropna()\n",
    "indices_to_keep = ~df_positional.isin([np.nan, np.inf, -np.inf]).any(1)\n",
    "df_positional = df_positional[indices_to_keep].astype(np.float64)\n",
    "df_positional.info()"
   ]
  },
  {
   "cell_type": "markdown",
   "id": "8c71aecf",
   "metadata": {},
   "source": [
    "## OPTIONAL \n",
    "+ used to reduce the number of authors, to create the same samples as in other articles\n"
   ]
  },
  {
   "cell_type": "code",
   "execution_count": 24,
   "id": "452454d1",
   "metadata": {
    "scrolled": false
   },
   "outputs": [
    {
     "name": "stdout",
     "output_type": "stream",
     "text": [
      "64\n",
      "10\n"
     ]
    }
   ],
   "source": [
    "# Exploiting SI for AA - 480 texts, 11 authors\n",
    "count_authors = 11\n",
    "count_samples = 480\n",
    "\n",
    "\n",
    "# split_index = len(df_all)/2\n",
    "# count_samples = len(df_all)\n",
    "\n",
    "print(len(df_positional[\"Author\"].unique()))\n",
    "\n",
    "all_authors = df_all[\"Author\"].unique()\n",
    "split_authors = np.random.choice(all_authors, size=count_authors + 1)\n",
    "df_positional = df_positional[df_positional[\"Author\"].isin(split_authors)]\n",
    "\n",
    "print(len(df_positional[\"Author\"].unique()))\n",
    "df_positional = df_positional.sample(count_samples)"
   ]
  },
  {
   "cell_type": "markdown",
   "id": "972e24ca",
   "metadata": {},
   "source": [
    "# Split to train/test\n",
    "- no split needed if using cross validation - percentage_to_train should be 1.0"
   ]
  },
  {
   "cell_type": "code",
   "execution_count": 25,
   "id": "f5a2ccd4",
   "metadata": {
    "scrolled": true
   },
   "outputs": [
    {
     "name": "stdout",
     "output_type": "stream",
     "text": [
      "<class 'pandas.core.frame.DataFrame'>\n",
      "Int64Index: 480 entries, 960 to 719\n",
      "Columns: 316 entries, Author to pos_296_CD_NN_VB\n",
      "dtypes: float64(316)\n",
      "memory usage: 1.2 MB\n",
      "<class 'pandas.core.frame.DataFrame'>\n",
      "Int64Index: 0 entries\n",
      "Columns: 316 entries, Author to pos_296_CD_NN_VB\n",
      "dtypes: float64(316)\n",
      "memory usage: 0.0 bytes\n",
      "480\n"
     ]
    }
   ],
   "source": [
    "data_count = len(df_positional)\n",
    "percentage_to_train = 1.0\n",
    "df_train = df_positional.sample(int(data_count*(percentage_to_train)))\n",
    "df_test = pd.concat([df_train, df_positional]).drop_duplicates(keep=False)\n",
    "# df_test = df_positional[int(data_count*2/3):]\n",
    "df_train.info()\n",
    "df_test.info()\n",
    "print(data_count)"
   ]
  },
  {
   "cell_type": "markdown",
   "id": "534d0e56",
   "metadata": {},
   "source": [
    "### Split training into features and labels"
   ]
  },
  {
   "cell_type": "code",
   "execution_count": 26,
   "id": "bb1b5d29",
   "metadata": {
    "scrolled": false
   },
   "outputs": [
    {
     "data": {
      "text/plain": [
       "480"
      ]
     },
     "execution_count": 26,
     "metadata": {},
     "output_type": "execute_result"
    }
   ],
   "source": [
    "X = df_train.drop('Author', axis=1)\n",
    "y = df_train[\"Author\"]\n",
    "len(X)"
   ]
  },
  {
   "cell_type": "code",
   "execution_count": 27,
   "id": "abefefa7",
   "metadata": {},
   "outputs": [],
   "source": [
    "cv = KFold(n_splits=10, random_state=1, shuffle=True)"
   ]
  },
  {
   "cell_type": "markdown",
   "id": "d83d3487",
   "metadata": {},
   "source": [
    "# Model fitting\n",
    "### Decision Tree Classifier\n",
    "Create a decision tree classifier and get predictions on the same dataset"
   ]
  },
  {
   "cell_type": "code",
   "execution_count": 28,
   "id": "05305ae8",
   "metadata": {
    "scrolled": true
   },
   "outputs": [],
   "source": [
    "dt = tree.DecisionTreeClassifier()\n",
    "# dt = dt.fit(X, y)\n",
    "dt_acc = cross_validate(dt, X, y, scoring='accuracy', cv=cv, n_jobs=-1)\n",
    "dt_rmse = cross_validate(dt, X, y, scoring='neg_root_mean_squared_error', cv=cv, n_jobs=-1)"
   ]
  },
  {
   "cell_type": "markdown",
   "id": "3ef9670f",
   "metadata": {},
   "source": [
    "### Random forest"
   ]
  },
  {
   "cell_type": "code",
   "execution_count": 29,
   "id": "a78e8107",
   "metadata": {
    "scrolled": true
   },
   "outputs": [],
   "source": [
    "forest=RandomForestClassifier(n_estimators=200)\n",
    "# forest.fit(X,y)\n",
    "forest_acc = cross_validate(forest, X, y, scoring='accuracy', cv=cv, n_jobs=-1)\n",
    "forest_rmse = cross_validate(forest, X, y, scoring='neg_root_mean_squared_error', cv=cv, n_jobs=-1)"
   ]
  },
  {
   "cell_type": "markdown",
   "id": "7091642b",
   "metadata": {},
   "source": [
    "# Evaluation\n",
    "- mean accuracy\n",
    "- std of accuracy\n",
    "- rmse"
   ]
  },
  {
   "cell_type": "code",
   "execution_count": 30,
   "id": "d77e28d5",
   "metadata": {},
   "outputs": [
    {
     "name": "stdout",
     "output_type": "stream",
     "text": [
      "Decision tree\n",
      "0.30625\n",
      "0.03847121940129039\n",
      "-7340.282019917645\n",
      "Forest\n",
      "0.45624999999999993\n",
      "0.05056108791463166\n",
      "-6893.681485856871\n"
     ]
    }
   ],
   "source": [
    "print(\"Decision tree\")\n",
    "print(mean(dt_acc['test_score']))\n",
    "print(std(dt_acc['test_score']))  \n",
    "print(mean(dt_rmse['test_score']))\n",
    "# print(dt_acc)\n",
    "# print(\"Logreg\")\n",
    "# print(logreg_acc)\n",
    "print(\"Forest\")\n",
    "print(mean(forest_acc['test_score']))\n",
    "print(std(forest_acc['test_score']))  \n",
    "print(mean(forest_rmse['test_score']))\n",
    "# print(forest_acc)"
   ]
  },
  {
   "cell_type": "code",
   "execution_count": 31,
   "id": "b4e95d5e",
   "metadata": {
    "scrolled": true
   },
   "outputs": [],
   "source": [
    "# X_test = df_test.drop('Author', axis=1)\n",
    "# Y_test = df_test['Author'].to_numpy()"
   ]
  },
  {
   "cell_type": "markdown",
   "id": "98b7ce84",
   "metadata": {},
   "source": [
    "## DT"
   ]
  },
  {
   "cell_type": "code",
   "execution_count": 32,
   "id": "7ff52201",
   "metadata": {},
   "outputs": [],
   "source": [
    "# Decision Tree\n",
    "# predictions_dt = dt.predict(X_test)\n",
    "# dt_acc = evaluate(Y_test, predictions_dt)"
   ]
  },
  {
   "cell_type": "markdown",
   "id": "c60ac6f1",
   "metadata": {},
   "source": [
    "### Random Forest"
   ]
  },
  {
   "cell_type": "code",
   "execution_count": 341,
   "id": "0e5f69e4",
   "metadata": {},
   "outputs": [],
   "source": [
    "# predictions_forest = forest.predict(X_test)\n",
    "# forest_acc = evaluate(Y_test, predictions_forest)"
   ]
  },
  {
   "cell_type": "markdown",
   "id": "d99df402",
   "metadata": {},
   "source": [
    "# Other -------- UNRELATED -------\n",
    "under construction"
   ]
  },
  {
   "cell_type": "markdown",
   "id": "e390ced9",
   "metadata": {},
   "source": [
    "## Automatic feature selection"
   ]
  },
  {
   "cell_type": "code",
   "execution_count": 228,
   "id": "adc70e4a",
   "metadata": {},
   "outputs": [],
   "source": [
    "# def select_features(df, k=5):\n",
    "#     df_new = df.drop([\"Author\"], axis=1)\n",
    "#     indicators_indexed = []\n",
    "#     for x in df['Author']:\n",
    "#         indicators_indexed.append(x)\n",
    "# #     print(len(indicators_indexed))\n",
    "#     # print(df_normal)\n",
    "#     np.random.seed(1)\n",
    "#     selector = SelectKBest(chi2, k=k)\n",
    "# #     selector = SelectKBest(mutual_info_regression, k=k)\n",
    "#     k_best_features = selector.fit_transform(df_new.values, indicators_indexed)\n",
    "#     print(selector.get_support(1))\n",
    "#     return (k_best_features, selector.get_support())"
   ]
  },
  {
   "cell_type": "code",
   "execution_count": 229,
   "id": "5cfffeb5",
   "metadata": {},
   "outputs": [],
   "source": [
    "# feat, mask = select_features(df_train, 6)\n",
    "\n",
    "# new_features = df_train.drop([\"Author\"], axis=1).columns[mask]\n",
    "# new_features\n",
    "# # print(ind)\n",
    "# df_positional = df_all[new_features]\n",
    "# df_positional[\"Author\"] = df_all[\"Author\"]\n",
    "# df_positional.info()"
   ]
  },
  {
   "cell_type": "code",
   "execution_count": 249,
   "id": "71c92d0f",
   "metadata": {},
   "outputs": [
    {
     "data": {
      "image/png": "[encoded data removed]",
      "text/plain": [
       "<Figure size 864x288 with 1 Axes>"
      ]
     },
     "metadata": {
      "needs_background": "light"
     },
     "output_type": "display_data"
    }
   ],
   "source": [
    "import numpy as np\n",
    "import matplotlib.pyplot as plt\n",
    "# Dataset generation\n",
    "df_viz = pd.DataFrame({'accuracy_dt': [  0.22614840989399293,\n",
    "                                         0.3263157894736842,\n",
    "                                         0.31095406360424027,\n",
    "                                         0.32280701754385965],\n",
    "             'accuracy_forest': [0.38515901060070673,\n",
    "                                 0.5017543859649123,\n",
    "                                 0.5017667844522968,\n",
    "                                 0.47017543859649125],\n",
    "             'feature_sets': [  'PoS+M',\n",
    "                                'PoS+M+Rune+Dir',\n",
    "                                'PoS+M+Rune+Dir+Swap',\n",
    "                                'Rune+M+Dir+Swap'],\n",
    "                      })\n",
    "fig, ax = plt.subplots()\n",
    "fig.set_size_inches(12, 4)\n",
    "plt.ylim(0, 1)\n",
    "\n",
    "plt.bar(df_viz['feature_sets'], df_viz['accuracy_forest'], color='lightblue')\n",
    "plt.bar(df_viz['feature_sets'], df_viz['accuracy_dt'], color='lightgreen')\n",
    "\n",
    "ax.bar_label(ax.containers[0], fmt=\"%.3g\")\n",
    "ax.bar_label(ax.containers[1], fmt=\"%.3g\")\n",
    "\n",
    "ax.legend(['Random Forest', 'Decision Tree'])\n",
    "\n",
    "fig.suptitle(\"Accuracy on 19 authors with 50 articles each\")\n",
    "plt.show()\n"
   ]
  },
  {
   "cell_type": "code",
   "execution_count": 37,
   "id": "9b684c86",
   "metadata": {},
   "outputs": [
    {
     "data": {
      "image/png": "[encoded data removed]",
      "text/plain": [
       "<Figure size 432x432 with 1 Axes>"
      ]
     },
     "metadata": {
      "needs_background": "light"
     },
     "output_type": "display_data"
    },
    {
     "data": {
      "image/png": "[encoded data removed]",
      "text/plain": [
       "<Figure size 432x432 with 1 Axes>"
      ]
     },
     "metadata": {
      "needs_background": "light"
     },
     "output_type": "display_data"
    },
    {
     "data": {
      "image/png": "[encoded data removed]",
      "text/plain": [
       "<Figure size 432x432 with 1 Axes>"
      ]
     },
     "metadata": {
      "needs_background": "light"
     },
     "output_type": "display_data"
    },
    {
     "data": {
      "image/png": "[encoded data removed]",
      "text/plain": [
       "<Figure size 432x432 with 1 Axes>"
      ]
     },
     "metadata": {
      "needs_background": "light"
     },
     "output_type": "display_data"
    }
   ],
   "source": [
    "connectDots = False\n",
    "colors='bckgmrybckgmrybckgmrybckgmrybckgmrybckgmrybckgmrybckgmrybckgmrybckgmry'\n",
    "viz_cols = [  'Downerror_pertokens',\n",
    "                 'Lefterror_pertokens',\n",
    "                 'Righterror_pertokens',\n",
    "                 'Toperror_pertokens',\n",
    "              ]\n",
    "\n",
    "\n",
    "\n",
    "def connectpoints(x,y,p1,p2):\n",
    "    x1, x2 = x[p1], x[p2]\n",
    "    y1, y2 = y[p1], y[p2]\n",
    "    plt.plot([x1,x2],[y1,y2],'k-')\n",
    "\n",
    "for x in viz_cols:\n",
    "    xName = x\n",
    "    yName = 'Misspellratio'\n",
    "    f = plt.figure()\n",
    "    f.set_figwidth(6)\n",
    "    f.set_figheight(6)\n",
    "\n",
    "    ax = df_train.set_index(xName)[yName].plot(style='o', c='red', ms=3)\n",
    "\n",
    "    a = pd.concat({xName: df_train[xName], yName: df_train[yName], 'Author': df_train['Author']}, axis=1)\n",
    "    \n",
    "    rows = []\n",
    "    for i, point in a.iterrows():\n",
    "        rows.append((i, point))\n",
    "    for i, point in rows:\n",
    "        if i % 2 == 0 and connectDots:\n",
    "            plt.plot([point[xName],rows[i+1][1][xName]],[point[yName],rows[i+1][1][yName]], color=colors[int(i/2)])\n",
    "        ax.text(point[xName], point[yName], str(int(point['Author'])), fontsize=12)\n",
    "\n",
    "    ax.figure.savefig('figures/64authors_top3grams_swaps_blogtext_100articles_'+str(xName)+'_'+str(yName)+'.png')\n"
   ]
  },
  {
   "cell_type": "code",
   "execution_count": 62,
   "id": "506ada80",
   "metadata": {
    "scrolled": true
   },
   "outputs": [
    {
     "name": "stdout",
     "output_type": "stream",
     "text": [
      "6400\n"
     ]
    },
    {
     "data": {
      "text/plain": [
       "<matplotlib.collections.PathCollection at 0x23134c97790>"
      ]
     },
     "execution_count": 62,
     "metadata": {},
     "output_type": "execute_result"
    },
    {
     "data": {
      "image/png": "[encoded data removed]",
      "text/plain": [
       "<Figure size 432x288 with 1 Axes>"
      ]
     },
     "metadata": {
      "needs_background": "light"
     },
     "output_type": "display_data"
    }
   ],
   "source": [
    "df_viz = df_all\n",
    "print(len(df_viz))\n",
    "\n",
    "all_authors = df_all[\"Author\"].unique()\n",
    "split_authors_viz = np.random.choice(all_authors, size=6)\n",
    "df_viz = df_viz[df_viz[\"Author\"].isin(split_authors_viz)]\n",
    "df_viz = df_viz.sample(int(len(df_viz)/4))\n",
    "plt.scatter(\n",
    "    x=df_viz['Misspellratio'],\n",
    "    y=df_viz['Lefterror_pertokens'],\n",
    "    c=df_viz['Author'],\n",
    "    cmap='nipy_spectral'\n",
    ")"
   ]
  },
  {
   "cell_type": "code",
   "execution_count": 71,
   "id": "356db24a",
   "metadata": {
    "scrolled": true
   },
   "outputs": [
    {
     "data": {
      "image/png": "[encoded data removed]",
      "text/plain": [
       "<Figure size 427.875x360 with 1 Axes>"
      ]
     },
     "metadata": {
      "needs_background": "light"
     },
     "output_type": "display_data"
    },
    {
     "data": {
      "image/png": "[encoded data removed]",
      "text/plain": [
       "<Figure size 427.875x360 with 1 Axes>"
      ]
     },
     "metadata": {
      "needs_background": "light"
     },
     "output_type": "display_data"
    },
    {
     "data": {
      "image/png": "[encoded data removed]",
      "text/plain": [
       "<Figure size 427.875x360 with 1 Axes>"
      ]
     },
     "metadata": {
      "needs_background": "light"
     },
     "output_type": "display_data"
    },
    {
     "data": {
      "image/png": "[encoded data removed]",
      "text/plain": [
       "<Figure size 427.875x360 with 1 Axes>"
      ]
     },
     "metadata": {
      "needs_background": "light"
     },
     "output_type": "display_data"
    }
   ],
   "source": [
    "sns.set_palette(\"tab10\")\n",
    "viz_cols = [  'Downerror_pertokens',\n",
    "              'Lefterror_pertokens',\n",
    "              'Righterror_pertokens',\n",
    "              'Toperror_pertokens',\n",
    "              ]\n",
    "\n",
    "for x in viz_cols:\n",
    "    grid = sns.lmplot(x, 'Misspellratio', data=df_viz, hue='Author', fit_reg=False)\n",
    "    grid.set(xscale=\"log\", yscale=\"log\").set(xlim=(0,1),ylim=(0,1))\n",
    "    fig = grid.fig\n",
    "    fig.savefig('figures/64authors_top3grams_swaps_blogtext_100articles_Misspellratio_'+str(x)+'.png')\n",
    "\n"
   ]
  },
  {
   "cell_type": "code",
   "execution_count": null,
   "id": "5ed206dd",
   "metadata": {},
   "outputs": [],
   "source": [
    "swaps = [col for col in df_viz if col.startswith('swap')]\n",
    "arr = []\n",
    "B = np.reshape(swaps, (-1, 44))\n",
    "B\n",
    "df_swaps = pd.DataFrame(B)\n",
    "# for x in B:\n",
    "    \n",
    "#     for y in x:\n",
    "df_swaps\n",
    "\n",
    "original_letter_arr = list('qwertyuiopasdfghjklzxcvbnm')\n",
    "swapped_letter_arr = list('qwertyuiopasdfghjklzxcvbnm')\n",
    "fig = plt.figure()\n",
    "ax = fig.ax\n",
    "plt.xlabel('Original')\n",
    "plt.ylabel('Swapped')\n",
    "\n",
    "\n",
    "for author in df_viz[df_viz[\"Author\"] == 6247]:\n",
    "    i = 0\n",
    "    for orig in original_letter_arr:\n",
    "        j = 0\n",
    "        for swapped in swapped_letter_arr:\n",
    "            plt.plot(i, j, 'ro')\n",
    "            j += 1\n",
    "        i += 1\n",
    "            \n",
    "\n",
    "plt.grid()\n",
    "plt.show()\n",
    "        "
   ]
  },
  {
   "cell_type": "code",
   "execution_count": null,
   "id": "fac5c192",
   "metadata": {},
   "outputs": [],
   "source": []
  }
 ],
 "metadata": {
  "kernelspec": {
   "display_name": "Python 3 (ipykernel)",
   "language": "python",
   "name": "python3"
  },
  "language_info": {
   "codemirror_mode": {
    "name": "ipython",
    "version": 3
   },
   "file_extension": ".py",
   "mimetype": "text/x-python",
   "name": "python",
   "nbconvert_exporter": "python",
   "pygments_lexer": "ipython3",
   "version": "3.8.3"
  }
 },
 "nbformat": 4,
 "nbformat_minor": 5
}
